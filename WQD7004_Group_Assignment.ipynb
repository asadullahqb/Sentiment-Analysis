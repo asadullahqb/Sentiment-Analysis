{
  "cells": [
    {
      "cell_type": "markdown",
      "metadata": {
        "id": "1jm_p_L6-neY"
      },
      "source": [
        "# **WQD7004 - British Airways Customer Feedback Analysis**\n"
      ]
    },
    {
      "cell_type": "markdown",
      "metadata": {
        "id": "UZNP1t1WmTAB"
      },
      "source": [
        "## **0. Requirement**\n",
        "---\n",
        "\n",
        "WQD7004 Programming for Data Science (Group Project – 20%)\n",
        "\n",
        "Your company has received several new projects this month. All these projects are equally important, with a certain level of technical difficulties and challenges. You have been instructed by the CIO to lead a team of 5 members, to handle one of the projects. You have been given 10 weeks to complete the project and prepare a presentation. Wishing all of you best of luck.\n",
        "Details\n",
        "1. Choose a specific title for your project and get a dataset related to your project.\n",
        "2. Based on the dataset selected, perform the following steps:\n",
        "  * Determine the details about the dataset (e.g. title, year, purpose of dataset, dimension, content, structure, and the summary) by exploring the raw data.\n",
        "  * Data cleaning: Putting it all together as a new cleaned/processed dataset. Which section of the data do you need to tidy? You can use any cleaning packages in R\n",
        "  * Data analysis: Identify the questions, what is the objective/goal of processing this dataset? What answers are you interested to find from this dataset? You must have at least two questions. It is best to have different types of problems, i.e. one regression, and one classification.\n",
        "\n",
        "Requirements\n",
        "1. Each group must have 5 members.\n",
        "2. Report and presentation submission in week 13. Late submission will be subjected to mark deductions.\n",
        "  * Report: Submission will be an R Markdown published at RPubs, and the link is to be submitted in spectrum or any other medium as specified. The R Markdown may include the following:\n",
        "    * Short introduction and objectives of the project\n",
        "    * Explanation of all the processes involved in the project.\n",
        "    * Results, which may include visualization, prediction, evaluation of models and discussion of output.\n",
        "    * Conclusion\n",
        "  * Presentation: prepare the presentation (video recording, maximum 12 minutes)\n",
        "  * Only the group leader is required to submit the report which include the R Markdown link and the presentation link.\n",
        "3. Marks will be given based on your presentation and report.\n",
        "4. Plagiarism is strictly PROHIBITED. You will be penalized if any of your work is found online."
      ]
    },
    {
      "cell_type": "markdown",
      "metadata": {
        "id": "VGF8d7pJDwL3"
      },
      "source": [
        "## **1. Introduction**\n",
        "----\n",
        "\n",
        "**Members**\n",
        "\n",
        "|**Name**|**Matrix Number**|\n",
        "|:-:|:-:|\n",
        "|Ding Lee Choong|23075143|\n",
        "|Wong Yang Gui|22104322|\n",
        "|Li Yang Bo|22099073|\n",
        "|Asadullah Qamar Bhatti|2136569|\n",
        "|LOW MENG FEI|23063305|\n",
        "\n",
        "\n",
        "**Introduction**\n",
        "\n",
        "British Airways (BA), one of the world's leading airlines, has a rich history of providing air travel services to millions of passengers each year. Founded in 1974, the airline has grown to become a major player in the aviation industry, known for its extensive network, quality service, and commitment to passenger comfort and safety. As the airline industry becomes increasingly competitive, maintaining high levels of customer satisfaction is essential for retaining customers and fostering loyalty.\n",
        "\n",
        "In recent years, the proliferation of digital communication channels has led to an explosion in customer feedback. Passengers now share their experiences through various platforms, including in-flight surveys, online reviews, social media, and direct communications with customer service. This feedback contains valuable insights into passengers' experiences, preferences, and expectations.\n",
        "\n",
        "Analyzing this feedback effectively allows British Airways to identify strengths and weaknesses in their services, respond to customer needs more efficiently, and make data-driven decisions to enhance overall customer satisfaction. By leveraging data science techniques, the study aims to transform raw customer feedback into actionable insights that can drive strategic improvements and ensure a superior travel experience for its passengers.\n",
        "\n",
        "**Objectives**\n",
        "* Discern patterns and unveil insights to gauge overall sentiment and identify common issues related to passenger satisfaction and disatisfaction.\n",
        "* Use text mining and natural language processing techniques to classify customer sentiments.\n",
        "* Develop predictive models to estimate customer satisfaction based on various factors, such as flight experience, service quality, and passenger demographics.\n",
        "\n"
      ]
    },
    {
      "cell_type": "markdown",
      "metadata": {
        "id": "aUNYYC5Qdv1t"
      },
      "source": [
        "## **2. Data Understanding**\n",
        "---"
      ]
    },
    {
      "cell_type": "markdown",
      "metadata": {
        "id": "2TEnIbjSd3H7"
      },
      "source": [
        "### **2.1 Introduction**\n",
        "\n",
        "* **Title:** British Airways customer feedback\n",
        "\n",
        "* **Year:** The dataset was collected in 2023.\n",
        "\n",
        "* **Source:** The dataset was extracted from [Airline Quality](https://www.airlinequality.com/) through web scrapping by Anshul Chaudhary & Muskan Risinghani, available on [kaggle](https://www.kaggle.com/datasets/chaudharyanshul/airline-reviews/data).\n",
        "\n",
        "* **Purpose:** The British Airways customer feedback dataset provide a valuable resource of customer feedback for analysis, spanning from 2010 to 2023. It offers real-time insights, enabling sentiment analysis, service quality assessment, route performance evaluation, aircraft experience analysis and etc. By leveraging this data, British Airways can enhance the overall customer experience, gain a competitive advantage, and make data-driven decisions for targeted improvements.\n"
      ]
    },
    {
      "cell_type": "markdown",
      "metadata": {
        "id": "RNqyy0Y1eDlw"
      },
      "source": [
        "### **2.2 Dataset Overview**\n",
        "\n",
        "* **Dimension:** 3,701 Rows & 19 Columns\n",
        "* **Contents & Structure:**\n",
        "\n",
        "  **1. Flight Details**\n",
        "      [Date] DateFlown: Date of the flight.\n",
        "      [Character] Name: Customer's name who provided the feedback.\n",
        "      [Nominal] TypeOfTraveller: Traveler type (e.g., Business, Leisure).\n",
        "      [Nominal] SeatType: Seat class (e.g. Business, Economy).\n",
        "      [Character] Route: The flight route taken by the customer.\n",
        "      [Character] Aircraft: Aircraft model.\n",
        "\n",
        "  **2. Rating Feedback**\n",
        "      [Nominal] Recommended: Whether the customer recommends British Airways.\n",
        "      [Ordinal] OverallRating: Overall customer rating.\n",
        "      [Ordinal] SeatComfort: Seat comfort rating.\n",
        "      [Ordinal] CabinStaffService: Cabin staff service rating.\n",
        "      [Ordinal] GroundService: Ground service rating.\n",
        "      [Ordinal] ValueForMoney: Value for money rating.\n",
        "      [Ordinal] Food&Beverages: Food & beverages rating.\n",
        "      [Ordinal] InflightEntertainment: Inflight entertainment rating.\n",
        "      [Ordinal] Wifi&Connectivity: Onboard wifi and connectivity rating.\n",
        "\n",
        "  **3. Textual Feedback**\n",
        "      [Character] ReviewHeader: Title of the customer's review.\n",
        "      [Character] ReviewBody: Detailed review content.\n",
        "\n",
        "  **4. Other Details**\n",
        "      [Date] Datetime: The date when the feedback was posted.\n",
        "      [Nominal] VerifiedReview: Indicates if the review is verified"
      ]
    },
    {
      "cell_type": "code",
      "execution_count": null,
      "metadata": {
        "id": "kjdEyYSqt4rp"
      },
      "outputs": [],
      "source": [
        "# if(!\"pacman\" %in% installed.packages()[,\"Package\"]) install.packages(\"pacman\") # R package management tool\n",
        "# pacman::p_load(tidyverse) # An integrated package allows for data import, tidying, manipulation (dyplr), visualisation (ggplot2), stringr (text preprocessing) and etc.\n",
        "\n",
        "# # Import data\n",
        "# original_df <- read.csv('BA_AirlineReviews.csv',header=TRUE)[-1]\n",
        "\n",
        "# # Data overview\n",
        "# glimpse(original_df)"
      ]
    },
    {
      "cell_type": "markdown",
      "metadata": {
        "id": "ukTFwetueDqB"
      },
      "source": [
        "### **2.3 Summary**"
      ]
    },
    {
      "cell_type": "code",
      "execution_count": null,
      "metadata": {
        "id": "nIsAhEKJ3SkD"
      },
      "outputs": [],
      "source": [
        "# summary(original_df)"
      ]
    },
    {
      "cell_type": "markdown",
      "metadata": {
        "id": "2XbOm6-1CgDe"
      },
      "source": [
        "## **3. Data Cleaning**\n",
        "\n",
        "---\n",
        "The subsequent stage involves data cleaning, aiming to achieve accuracy, consistency, and readiness for analysis and modelling. This multifaceted process involves three distinct stages: common cleaning, text pre-processing, and text representation. Let's delve into each stage with more detail:\n",
        "\n"
      ]
    },
    {
      "cell_type": "markdown",
      "metadata": {
        "id": "HMNX_8txyrRx"
      },
      "source": [
        "#### **3.1 Common Cleaning**"
      ]
    },
    {
      "cell_type": "markdown",
      "metadata": {
        "id": "3fbwTVSazJab"
      },
      "source": [
        "##### **3.1.1 Data Type Conversion**\n",
        "Ensuring proper data types for each variable to facilitate analysis."
      ]
    },
    {
      "cell_type": "code",
      "execution_count": null,
      "metadata": {
        "id": "tW-2rmU0zUUD"
      },
      "outputs": [],
      "source": [
        "# df <- original_df\n",
        "\n",
        "# # convert date variables into date format\n",
        "# df$Datetime <- as.Date(df$Datetime, format = \"%dth %B %Y\")\n",
        "# df$DateFlown <- as.Date(paste0(\"1 \", df$DateFlown), format = \"%d %B %Y\")\n",
        "\n",
        "# df$VerifiedReview <- as.logical(df$VerifiedReview)\n",
        "\n",
        "# # convert rating variables into integer format\n",
        "# df$ValueForMoney  <- as.integer(df$ValueForMoney)\n",
        "# df$Food.Beverages  <- as.integer(df$Food.Beverages)\n",
        "\n",
        "# df$InflightEntertainment  <- as.integer(df$InflightEntertainment)\n",
        "# df$Recommended <- as.integer(factor(df$Recommended, levels = c(\"no\", \"yes\"), labels = c(0, 1)))\n",
        "\n",
        "# # ensure that character variable with \"\" is showing as NA\n",
        "# df <- mutate_if(df, is.character, na_if, \"\")\n",
        "\n",
        "# # encoded the categorical variables\n",
        "# df$encoded_TypeOfTraveller <- as.integer(factor(df$TypeOfTraveller))\n",
        "# df$encoded_SeatType <- as.integer(factor(df$SeatType))\n"
      ]
    },
    {
      "cell_type": "code",
      "execution_count": null,
      "metadata": {
        "id": "yka47M910bIg"
      },
      "outputs": [],
      "source": [
        "# # Output for checking:\n",
        "# glimpse(df)"
      ]
    },
    {
      "cell_type": "markdown",
      "metadata": {
        "id": "llSYgk7c1pf0"
      },
      "source": [
        "##### **3.1.2 Handling Missing Values**\n",
        "Identifying and addressing missing data points to maintain data integrity."
      ]
    },
    {
      "cell_type": "code",
      "execution_count": null,
      "metadata": {
        "id": "thif4tWX1wOw"
      },
      "outputs": [],
      "source": [
        "# pacman::p_load(visdat, ggplot2) # Data Visualisation tool\n",
        "\n",
        "# options(repr.plot.width = 13, repr.plot.height = 8)\n",
        "\n",
        "# #Check Missing Values\n",
        "# vis_miss(df,sort_miss=T, cluster = T) + theme(text = element_text(size = 14, face = \"bold\"), axis.text.x = element_text(angle = 70))"
      ]
    },
    {
      "cell_type": "markdown",
      "metadata": {
        "id": "VRStcQE6eveZ"
      },
      "source": [
        "1. **Wifi.Connectivity** has an 84% missing rate, leading to substantial data loss. Imputing such a high percentage of missing values could introduce significant biases and distort the analysis. We decide to drop the variable to maintain the integrity and reliability of the dataset."
      ]
    },
    {
      "cell_type": "code",
      "execution_count": null,
      "metadata": {
        "id": "NuLEhyFFey7B"
      },
      "outputs": [],
      "source": [
        "# df_clean1 <- df %>% select(-Wifi.Connectivity,-Aircraft,-Route)"
      ]
    },
    {
      "cell_type": "markdown",
      "metadata": {
        "id": "UGIaHBxMs_2Y"
      },
      "source": [
        "2. For the rating variables **InflightEntertainment**, **GroundService**, **Food.Beverages**, **CabinStaffService**, **SeatComfort**, and **ValueForMoney**, we propose using K-Nearest Neighbors (KNN) imputation. KNN imputation effectively preserves the data structure by filling in missing values based on similarities between observations. This method suits these rating variables well, given their positive correlation with others. They can thus serve as dependable proxies for completing missing values in associated variables.\n",
        "\n",
        "  For the encoded variables **encoded_SeatType** and **encoded_TypeOfTraveller**, we decided to remove the missing values. This decision is based on the finding that these variables have a low correlation with others, making them less reliable for imputation and potentially less impactful on the overall data analysis."
      ]
    },
    {
      "cell_type": "code",
      "execution_count": null,
      "metadata": {
        "id": "r0GjBZ0t6DuQ"
      },
      "outputs": [],
      "source": [
        "# pacman::p_load(reshape2) # For melting the correlation matrix\n",
        "\n",
        "# options(repr.plot.width = 8, repr.plot.height = 5)\n",
        "\n",
        "# #  Rating sharing the positive correlation among others\n",
        "# df_clean1 %>% select(where(is.numeric)) %>% cor(use = \"complete.obs\") %>% melt() %>% ggplot( aes(x = Var1, y = Var2, fill = value)) + geom_tile() +\n",
        "#   geom_text(aes(label = sprintf(\"%.2f\", value)), size = 4, color = \"black\") +\n",
        "#   scale_fill_gradient2(low = \"blue\", high = \"red\", mid = \"white\", midpoint = 0, limit = c(-1, 1), space = \"Lab\", name = \"Correlation\") +\n",
        "#   theme( text = element_text(size = 14, face=\"bold\"), axis.title = element_blank(), axis.text.x = element_text(angle = 90))"
      ]
    },
    {
      "cell_type": "code",
      "execution_count": null,
      "metadata": {
        "id": "Z5BxBP0Vd7RS"
      },
      "outputs": [],
      "source": [
        "# df_clean2 <- df_clean1 %>% drop_na(\"SeatType\",\"TypeOfTraveller\")"
      ]
    },
    {
      "cell_type": "code",
      "execution_count": null,
      "metadata": {
        "id": "YabG5-AQ52Cf"
      },
      "outputs": [],
      "source": [
        "# pacman::p_load(\"VIM\",\"imputeTS\",\"conflicted\") # load the necessary pacakges for KNN imputation\n",
        "\n",
        "# conflicts_prefer(dplyr::filter) # conflicct in dplyr:filter and stats::filter\n",
        "\n",
        "# # columns for imputation\n",
        "# feature1 <- c(\"SeatComfort\", \"CabinStaffService\", \"GroundService\", \"ValueForMoney\", \"Food.Beverages\", \"InflightEntertainment\",\"Recommended\",\"OverallRating\")\n",
        "\n",
        "# # apply kNN imputation\n",
        "# df_imputed <- df_clean2 %>% select(all_of(feature1)) %>% kNN()\n",
        "# head(df_imputed)"
      ]
    },
    {
      "cell_type": "markdown",
      "metadata": {
        "id": "b-fgnZ9Td_5h"
      },
      "source": [
        "3. The study will focus on rating and review data. Consequently, retaining the remaining missing values for DateFlown and Datetime will not affect the model results. However, these variables will be utilized in the analysis phase to extract potential insights."
      ]
    },
    {
      "cell_type": "code",
      "execution_count": null,
      "metadata": {
        "id": "Pfg4ieOHOhxi"
      },
      "outputs": [],
      "source": [
        "# df_clean3 <- df_clean2\n",
        "\n",
        "# # update the rows with imputed values\n",
        "# df_clean3[,feature1] <- df_imputed[,feature1]\n",
        "\n",
        "# options(repr.plot.width = 13, repr.plot.height = 8)\n",
        "\n",
        "# #Check Missing Values\n",
        "# vis_miss(df_clean3,sort_miss=T, cluster = T) + theme(text = element_text(size = 14, face = \"bold\"), axis.text.x = element_text(angle = 70))"
      ]
    },
    {
      "cell_type": "markdown",
      "metadata": {
        "id": "tlQBPLHN_jWs"
      },
      "source": [
        "##### **3.1.3 Dealing with Duplicate Entries**\n",
        "Detecting and removing duplicate records to maintain dataset uniqueness."
      ]
    },
    {
      "cell_type": "code",
      "execution_count": null,
      "metadata": {
        "collapsed": true,
        "id": "NtXFN5AcBg0Z"
      },
      "outputs": [],
      "source": [
        "# # show duplicate rows\n",
        "# nrow(df_clean3[duplicated(df_clean3),])"
      ]
    },
    {
      "cell_type": "code",
      "execution_count": null,
      "metadata": {
        "id": "B6nhJs7YEZ8Z"
      },
      "outputs": [],
      "source": [
        "# # remove 7 duplicated rows from the dataset\n",
        "# df_clean4 <- unique(df_clean3)\n",
        "\n",
        "# print(\"Before cleaning\")\n",
        "# print(paste0(\"Rows: \",nrow(original_df),\", Columns: \", ncol(original_df)))\n",
        "# print(\"After cleaning\")\n",
        "# print(paste0(\"Rows: \",nrow(df_clean3),\", Columns: \", ncol(df_clean3)))"
      ]
    },
    {
      "cell_type": "markdown",
      "metadata": {
        "id": "7ZSwQrlVAlin"
      },
      "source": [
        "##### **3.1.4 Handling Outliers**\n",
        "Frequency analysis has been utilized to identify outliers in ordinal data. The analysis did not show significant evidence that less frequent levels should be considered as outliers."
      ]
    },
    {
      "cell_type": "code",
      "execution_count": null,
      "metadata": {
        "id": "_nVHU0dSIfb3"
      },
      "outputs": [],
      "source": [
        "# options(repr.plot.width = 20, repr.plot.height = 7)\n",
        "\n",
        "# df_clean4 %>%\n",
        "#   select(where(is.numeric)) %>%\n",
        "#   pivot_longer(cols = everything(), names_to = \"key\", values_to = \"value\") %>%\n",
        "#   ggplot(aes(x = value, fill = factor(value))) +\n",
        "#   facet_wrap(~ key, scales = \"free\") +\n",
        "#   geom_bar() +\n",
        "#   theme_minimal() +\n",
        "#   theme( text = element_text(size=12,face = \"bold\")) +\n",
        "#   scale_fill_brewer(palette = \"Paired\") +\n",
        "#   guides(fill = \"none\")"
      ]
    },
    {
      "cell_type": "code",
      "execution_count": null,
      "metadata": {
        "id": "IKQZp4K4F4ji"
      },
      "outputs": [],
      "source": [
        "# df_final = df_clean4 %>% mutate(row=row_number())\n",
        "# glimpse(df_final)\n"
      ]
    },
    {
      "cell_type": "markdown",
      "metadata": {
        "id": "RFa7EdFqH1gF"
      },
      "source": [
        "### **3.2 Text Pre-processing**"
      ]
    },
    {
      "cell_type": "markdown",
      "metadata": {
        "id": "alJKZHPcHsiF"
      },
      "source": [
        "#### **3.2.1 Noise Removal / Normalization / Stop Words Removal**\n",
        "1. Removing unwanted or irrelevant data from a dataset, such as: punctuations, special characters, duplicate text, html tags, urls, headers, and footers.\n",
        "\n",
        "2. converting all text to lower case to ensure all in standard format.\n",
        "\n",
        "3. Discarding commonly used words that do not carry much significance in a given context, such as \"and\", \"the\", or \"is\"."
      ]
    },
    {
      "cell_type": "code",
      "execution_count": null,
      "metadata": {
        "id": "lOr_1fJ0KatO"
      },
      "outputs": [],
      "source": [
        "# pacman::p_load(tm) # tm package for cleaning text\n",
        "\n",
        "# # define a text cleaning function\n",
        "# cleaning_text <- function(text){\n",
        "#   text <- tolower(text) # convert to lower case\n",
        "#   text <- removePunctuation(text) # remove punctuations\n",
        "#   text <- removeNumbers(text) # remove numbers\n",
        "#   text <- removeWords(text,stopwords(\"en\")) # stop word removal\n",
        "#   text <- gsub(\"[^a-z ]\",\"\",text) # to remove non-lowercase letters and spaces\n",
        "#   text <- stripWhitespace(text) # ensure no excessive spaces\n",
        "#   return(text)\n",
        "# }\n",
        "\n",
        "# # perform  cleaning on review header\n",
        "# df_head <- df_final %>% select(row,ReviewHeader) %>% mutate(clean_head = sapply(ReviewHeader, cleaning_text)) %>% as.data.frame()\n",
        "# head(df_head,3)\n",
        "\n",
        "# df_body <- df_final %>% select(row,ReviewBody) %>% mutate(clean_body = sapply(ReviewBody, cleaning_text)) %>% as.data.frame()\n",
        "# head(df_body,3)\n"
      ]
    },
    {
      "cell_type": "markdown",
      "metadata": {
        "id": "Yp4y3y9hIeWA"
      },
      "source": [
        "#### **3.2.3 Lemmatization**\n",
        "lemmatization reduces words to thier base form, but it considers the context and morphological analysis. For instance, \"better\" would be lemmatized to \"good\" instead of \"bet\" as in stemming."
      ]
    },
    {
      "cell_type": "code",
      "execution_count": null,
      "metadata": {
        "id": "KAbr6ldVL7D0"
      },
      "outputs": [],
      "source": [
        "# pacman::p_load(textstem) # packages\n",
        "# # Function to lemmatize sentences\n",
        "# lemmatize_sentence <- function(sentence) {\n",
        "#   # Tokenize the sentence into words\n",
        "#   words <- unlist(strsplit(sentence, \" \"))\n",
        "#   # Lemmatize each word\n",
        "#   lemmatized_words <- lemmatize_words(words)\n",
        "#   # Reconstruct the sentence\n",
        "#   lemmatized_sentence <- paste(lemmatized_words, collapse = \" \")\n",
        "#   return(lemmatized_sentence)\n",
        "# }\n",
        "# # lemmatization for head\n",
        "# df_head$norm_head <- sapply(df_head$clean_head, lemmatize_sentence)\n",
        "# head(df_head[df_head$norm_head != df_head$clean_head,c('clean_head','norm_head')],3)\n",
        "# # lemmatization for body\n",
        "# df_body$norm_body <- sapply(df_body$clean_body, lemmatize_sentence)\n",
        "# head(df_body[df_body$norm_body != df_body$clean_body,c('clean_body','norm_body')],3)\n"
      ]
    },
    {
      "cell_type": "markdown",
      "metadata": {
        "id": "Bmoa_kV-IeQD"
      },
      "source": [
        "#### **3.2.2 Tokenization**\n",
        "Breaking the text into individual words."
      ]
    },
    {
      "cell_type": "code",
      "execution_count": null,
      "metadata": {
        "id": "saD4Y0N1QPVa"
      },
      "outputs": [],
      "source": [
        "# pacman::p_load(tidytext, dplyr)\n",
        "\n",
        "# # tokenzied each word for head\n",
        "# head_token <- df_head %>% select(row, norm_head) %>% unnest_tokens(word, norm_head)\n",
        "# head(head_token,3)\n",
        "\n",
        "# # tokenzied each word for body\n",
        "# body_token <- df_body %>% select(row, norm_body) %>% unnest_tokens(word, norm_body)\n",
        "# head(body_token,3)"
      ]
    },
    {
      "cell_type": "markdown",
      "metadata": {
        "id": "hadR0eWcTiDf"
      },
      "source": [
        "### **3.3 Text Representation**\n",
        "\n",
        "\n",
        "Sentiment analysis has evolved through lexicon-based and model-based approaches. Initially, lexicon-based analysis was introduced to assign sentiment scores, often categorized as positive, negative, or neutral, to text. Subsequently, this data was transformed into a format suitable for machine learning training and testing purposes."
      ]
    },
    {
      "cell_type": "markdown",
      "metadata": {
        "id": "WLkEA5U2zoh-"
      },
      "source": [
        "#### **3.3.1 Lexicon-Based Sentiment Analysis**\n",
        "Lexicon-based sentiment analysis is a method used to determine the sentiment or emotional tone of a piece of text by leveraging a pre-defined list of words (a lexicon) where each word is associated with a specific sentiment value. This approach relies on dictionaries of words annotated with sentiment scores, typically indicating whether a word is positive, negative, or neutral."
      ]
    },
    {
      "cell_type": "code",
      "execution_count": null,
      "metadata": {
        "id": "dKFFPBlzzlJ8"
      },
      "outputs": [],
      "source": [
        "# pacman::p_load(tidytext,textdata,tidytext,janeaustenr,dplyr,stringr)\n",
        "\n",
        "# head_token2 <- head_token %>%  left_join(get_sentiments(\"bing\"), by = \"word\") %>%  mutate(sentiment = ifelse(is.na(sentiment), \"neutral\", sentiment)) %>% mutate(score = ifelse(sentiment==\"neutral\",0,ifelse(sentiment==\"negative\",-1,1)))\n",
        "# head(head_token2)\n",
        "\n",
        "# body_token2 <- body_token %>%  left_join(get_sentiments(\"bing\"), by = \"word\")  %>%  mutate(sentiment = ifelse(is.na(sentiment), \"neutral\", sentiment)) %>% mutate(score = ifelse(sentiment==\"neutral\",0,ifelse(sentiment==\"negative\",-1,1)))\n",
        "# head(body_token2)\n"
      ]
    },
    {
      "cell_type": "code",
      "execution_count": null,
      "metadata": {
        "id": "32TzyryP_epW"
      },
      "outputs": [],
      "source": [
        "# # obtain overall sentiment for review head\n",
        "# overall_head = head_token2 %>% select(row) %>% distinct()\n",
        "# positive = head_token2 %>% filter(sentiment==\"positive\") %>% group_by(row) %>% summarise(positive_cnt=n())\n",
        "# negative = head_token2 %>% filter(sentiment==\"negative\") %>% group_by(row) %>% summarise(negative_cnt=n())\n",
        "# neutral = head_token2 %>% filter(sentiment==\"neutral\") %>% group_by(row) %>% summarise(neutral_cnt=n())\n",
        "# total = head_token2 %>% group_by(row) %>% summarise(ttl_cnt=n())\n",
        "\n",
        "# overall_head = overall_head %>% left_join(positive,by = \"row\") %>% left_join(negative,by = \"row\") %>% left_join(neutral,by = \"row\") %>% left_join(total,by = \"row\")\n",
        "\n",
        "# overall_head[is.na(overall_head)] <- 0\n",
        "\n",
        "# overall_head = overall_head %>% mutate(overall_sentiment_score_head = round((positive_cnt*(1) + negative_cnt * (-1) + neutral_cnt * (0)) / ttl_cnt , digits = 2 )) %>% mutate(row=as.integer(row))\n",
        "# head(overall_head)\n",
        "\n",
        "# options(repr.plot.width = 10, repr.plot.height = 7)\n",
        "# hist(overall_head$overall_sentiment_score_head)"
      ]
    },
    {
      "cell_type": "code",
      "execution_count": null,
      "metadata": {
        "id": "sRWR4lxrH044"
      },
      "outputs": [],
      "source": [
        "# # obtain overall sentiment for review body\n",
        "# overall_body = body_token2 %>% select(row) %>% distinct()\n",
        "# positive = body_token2 %>% filter(sentiment==\"positive\") %>% group_by(row) %>% summarise(positive_cnt=n())\n",
        "# negative = body_token2 %>% filter(sentiment==\"negative\") %>% group_by(row) %>% summarise(negative_cnt=n())\n",
        "# neutral = body_token2 %>% filter(sentiment==\"neutral\") %>% group_by(row) %>% summarise(neutral_cnt=n())\n",
        "# total = body_token2 %>% group_by(row) %>% summarise(ttl_cnt=n())\n",
        "\n",
        "# overall_body = overall_body %>% left_join(positive,by = \"row\") %>% left_join(negative,by = \"row\") %>% left_join(neutral,by = \"row\") %>% left_join(total,by = \"row\")\n",
        "\n",
        "# overall_body[is.na(overall_body)] <- 0\n",
        "\n",
        "# overall_body = overall_body %>% mutate(overall_sentiment_score_body = round((positive_cnt*(1) + negative_cnt * (-1) + neutral_cnt * (0)) / ttl_cnt , digits = 2 )) %>% mutate(row=as.integer(row))\n",
        "# head(overall_body)\n",
        "# options(repr.plot.width = 10, repr.plot.height = 7)\n",
        "# hist(overall_body$overall_sentiment_score_body)\n"
      ]
    },
    {
      "cell_type": "code",
      "source": [
        "# overall_sentiment =  overall_body %>% select(row,overall_sentiment_score_body) %>% left_join(select(overall_head,row,overall_sentiment_score_head),by = 'row') %>%\n",
        "#   mutate(overall_sentiment_score = round((overall_sentiment_score_head + overall_sentiment_score_body ) / 2, digits = 2)) %>%\n",
        "#   mutate(overall_sentiment_class = ifelse(overall_sentiment_score < -0.05, \"negative\",ifelse(overall_sentiment_score > 0.05,\"positive\",\"neutral\"))) %>%\n",
        "#   mutate(encoded_overll_sentiment_class = ifelse(overall_sentiment_class==\"negative\",-1,ifelse(overall_sentiment_class==\"positive\",1,0)))\n",
        "# head(overall_sentiment)\n",
        "\n",
        "# overall_sentiment %>% count(overall_sentiment_class)\n",
        "\n",
        "# options(repr.plot.width = 10, repr.plot.height = 7)\n",
        "\n",
        "# ggplot(overall_sentiment, aes(x = overall_sentiment_score, fill = overall_sentiment_class)) +\n",
        "#   geom_histogram(binwidth = 0.1, alpha = 0.7, position = \"identity\", color = \"black\") + # Added black border for better visibility\n",
        "#   scale_fill_manual(values = c(\"positive\" = \"green\", \"negative\" = \"red\", \"neutral\" = \"yellow\")) +\n",
        "#   labs(title = \"Histogram of Overall Sentiment Scores\", x = \"Overall Sentiment Score\", y = \"Count\") +\n",
        "#   theme_minimal()\n"
      ],
      "metadata": {
        "id": "e_C4FHvJO0eY"
      },
      "execution_count": null,
      "outputs": []
    },
    {
      "cell_type": "code",
      "source": [
        "# final_df = df_final %>% left_join(select(overall_sentiment,row,overall_sentiment_score_body,overall_sentiment_score_head,overall_sentiment_score,overall_sentiment_class, encoded_overll_sentiment_class),by = 'row')\n",
        "# glimpse(final_df)\n"
      ],
      "metadata": {
        "id": "14Np7Hk3ZGYI"
      },
      "execution_count": null,
      "outputs": []
    },
    {
      "cell_type": "code",
      "source": [
        "# pacman::p_load(reshape2) # For melting the correlation matrix\n",
        "\n",
        "# options(repr.plot.width = 10, repr.plot.height = 8)\n",
        "\n",
        "# #  Rating sharing the positive correlation among others\n",
        "# final_df %>% select(-row,-encoded_SeatType,-encoded_TypeOfTraveller) %>% select(where(is.numeric)) %>% cor(use = \"complete.obs\") %>% melt() %>% ggplot( aes(x = Var1, y = Var2, fill = value)) + geom_tile() +\n",
        "#   geom_text(aes(label = sprintf(\"%.2f\", value)), size = 4, color = \"black\") +\n",
        "#   scale_fill_gradient2(low = \"blue\", high = \"red\", mid = \"white\", midpoint = 0, limit = c(-1, 1), space = \"Lab\", name = \"Correlation\") +\n",
        "#   theme( text = element_text(size = 14, face=\"bold\"), axis.title = element_blank(), axis.text.x = element_text(angle = 90))"
      ],
      "metadata": {
        "id": "BbuCADVGmU3I"
      },
      "execution_count": null,
      "outputs": []
    },
    {
      "cell_type": "markdown",
      "metadata": {
        "id": "Gahl0kf04leE"
      },
      "source": [
        "#### **3.3.2 Text Visualisation**\n",
        "Visualizing text data can help identify instances of misclassification in text cleaning and representation.  This process allows us to examine and understand the patterns of misclassification more effectively. Additionally, visualizing the distribution of sentiment scores or probabilities for each class can provide further insights into the model's performance and potential areas for improvement."
      ]
    },
    {
      "cell_type": "code",
      "execution_count": null,
      "metadata": {
        "id": "cAdsS8F65duZ"
      },
      "outputs": [],
      "source": [
        "# pacman::p_load(tidytext, dplyr, janeaustenr, wordcloud, RColorBrewer, viridis)\n",
        "\n",
        "# options(repr.plot.width = 10, repr.plot.height = 7)\n",
        "\n",
        "# # count the frequency word in different sentiment\n",
        "# analyse1 <- head_token2  %>% count(word, sentiment) %>% arrange(desc(n)) %>% filter(!word %in% c(\"airway\",\"british\",\"customer\",\"review\")) %>%\n",
        "#   spread(key = sentiment, value = n, fill = 0)\n",
        "\n",
        "# # Set the row names to the words\n",
        "# rownames(analyse1) <- analyse1$word\n",
        "# analyse1 <- analyse1 %>% select(-word) %>% as.matrix\n",
        "\n",
        "# # Generate the comparison cloud\n",
        "# comparison.cloud(analyse1, random.order = FALSE, max.words = 250, colors = c(\"#971B2F\", \"#F0B323\", \"#509E2F\"), c(2,0.8), title.size = 1.5)\n",
        "# title(\"Word Cloud Analysis - Head Review\", line = 1, cex.main = 1.5)\n"
      ]
    },
    {
      "cell_type": "code",
      "execution_count": null,
      "metadata": {
        "id": "1SPDgKmXAzut"
      },
      "outputs": [],
      "source": [
        "# pacman::p_load(tidytext, dplyr, janeaustenr, wordcloud, RColorBrewer, viridis)\n",
        "\n",
        "# options(repr.plot.width = 10, repr.plot.height = 7)\n",
        "\n",
        "# # count the frequency word in different sentiment\n",
        "# analyse2 <- body_token2  %>% count(word, sentiment) %>% arrange(desc(n)) %>% filter(!word %in% c(\"airway\",\"british\",\"customer\",\"review\")) %>%\n",
        "#   spread(key = sentiment, value = n, fill = 0)\n",
        "\n",
        "# # Set the row names to the words\n",
        "# rownames(analyse2) <- analyse2$word\n",
        "# analyse2 <- analyse2 %>% select(-word) %>% as.matrix\n",
        "\n",
        "# # Generate the comparison cloud\n",
        "# comparison.cloud(analyse2, random.order = FALSE, max.words = 250, color = c(\"#971B2F\", \"#F0B323\", \"#509E2F\"), c(2,0.8), title.size = 1.5)\n",
        "# title(\"Word Cloud Analysis - Body Review\", line = 1, cex.main = 1.5)\n"
      ]
    },
    {
      "cell_type": "markdown",
      "metadata": {
        "id": "0KXc4mOvE5NL"
      },
      "source": [
        "### **3.4 Summary**\n",
        "To summarize the data for analyse and model"
      ]
    },
    {
      "cell_type": "code",
      "execution_count": null,
      "metadata": {
        "id": "sQ9O4t5aC94T"
      },
      "outputs": [],
      "source": [
        "# # final clean data for analyse and modeling\n",
        "# glimpse(final_df)\n",
        "\n",
        "# write.csv(final_df, file = \"final_df.csv\", row.names=FALSE)\n",
        "\n",
        "# # final text data for text analysis (eda part only)\n",
        "# final_text <- bind_rows(head_token2 %>% mutate(source = \"head\"), body_token2 %>% mutate(source = \"body\"))\n",
        "\n",
        "# glimpse(final_text)\n",
        "\n",
        "# write.csv(final_text, file = \"final_text.csv\", row.names=FALSE)\n"
      ]
    },
    {
      "cell_type": "code",
      "source": [
        "if(!\"pacman\" %in% installed.packages()[,\"Package\"]) install.packages(\"pacman\") # R package management tool\n",
        "pacman::p_load(tidyverse)\n",
        "\n",
        "# final clean data for analyse and modeling\n",
        "final_df <- read.csv('final_df.csv',header=TRUE)\n",
        "\n",
        "final_df$Datetime <- as.Date(final_df$Datetime)\n",
        "final_df$DateFlown <- as.Date(final_df$DateFlown)\n",
        "\n",
        "glimpse(final_df)\n",
        "\n",
        "# final clean data for analyse and modeling\n",
        "final_text <- read.csv('final_text.csv',header=TRUE)\n",
        "glimpse(final_text)"
      ],
      "metadata": {
        "colab": {
          "base_uri": "https://localhost:8080/"
        },
        "id": "stpfskdb6YT0",
        "outputId": "84cb3681-5ec3-4434-d8e3-58c9c5064536"
      },
      "execution_count": null,
      "outputs": [
        {
          "output_type": "stream",
          "name": "stdout",
          "text": [
            "Rows: 2,929\n",
            "Columns: 24\n",
            "$ OverallRating                  \u001b[3m\u001b[90m<int>\u001b[39m\u001b[23m 1, 3, 8, 1, 1, 1, 8, 7, 2, 3, 8, 1, 6, …\n",
            "$ ReviewHeader                   \u001b[3m\u001b[90m<chr>\u001b[39m\u001b[23m \"\\\"Service level far worse then Ryanair…\n",
            "$ Name                           \u001b[3m\u001b[90m<chr>\u001b[39m\u001b[23m \"L Keele\", \"Austin Jones\", \"M A Collie\"…\n",
            "$ Datetime                       \u001b[3m\u001b[90m<date>\u001b[39m\u001b[23m 2023-11-19, 2023-11-19, 2023-11-16, 20…\n",
            "$ VerifiedReview                 \u001b[3m\u001b[90m<lgl>\u001b[39m\u001b[23m TRUE, TRUE, FALSE, TRUE, FALSE, TRUE, T…\n",
            "$ ReviewBody                     \u001b[3m\u001b[90m<chr>\u001b[39m\u001b[23m \"4 Hours before takeoff we received a M…\n",
            "$ TypeOfTraveller                \u001b[3m\u001b[90m<chr>\u001b[39m\u001b[23m \"Couple Leisure\", \"Business\", \"Couple L…\n",
            "$ SeatType                       \u001b[3m\u001b[90m<chr>\u001b[39m\u001b[23m \"Economy Class\", \"Economy Class\", \"Busi…\n",
            "$ DateFlown                      \u001b[3m\u001b[90m<date>\u001b[39m\u001b[23m 2023-11-01, 2023-11-01, 2023-11-01, 20…\n",
            "$ SeatComfort                    \u001b[3m\u001b[90m<int>\u001b[39m\u001b[23m 1, 2, 3, 3, 1, 1, 5, 3, 4, 3, 3, 3, 3, …\n",
            "$ CabinStaffService              \u001b[3m\u001b[90m<int>\u001b[39m\u001b[23m 1, 3, 3, 3, 1, 1, 5, 3, 5, 3, 3, 3, 1, …\n",
            "$ GroundService                  \u001b[3m\u001b[90m<int>\u001b[39m\u001b[23m 1, 1, 4, 1, 1, 1, 4, 3, 3, 3, 4, 1, 3, …\n",
            "$ ValueForMoney                  \u001b[3m\u001b[90m<int>\u001b[39m\u001b[23m 1, 2, 3, 1, 1, 1, 4, 3, 5, 1, 3, 1, 2, …\n",
            "$ Recommended                    \u001b[3m\u001b[90m<int>\u001b[39m\u001b[23m 1, 1, 2, 1, 1, 1, 2, 2, 2, 1, 2, 1, 1, …\n",
            "$ Food.Beverages                 \u001b[3m\u001b[90m<int>\u001b[39m\u001b[23m 1, 1, 4, 2, 1, 1, 4, 3, 4, 1, 3, 3, 1, …\n",
            "$ InflightEntertainment          \u001b[3m\u001b[90m<int>\u001b[39m\u001b[23m 1, 2, 4, 2, 1, 1, 4, 3, 4, 1, 3, 3, 2, …\n",
            "$ encoded_TypeOfTraveller        \u001b[3m\u001b[90m<int>\u001b[39m\u001b[23m 2, 1, 2, 2, 2, 4, 2, 4, 3, 2, 2, 2, 4, …\n",
            "$ encoded_SeatType               \u001b[3m\u001b[90m<int>\u001b[39m\u001b[23m 2, 2, 1, 2, 2, 2, 4, 2, 2, 2, 1, 2, 2, …\n",
            "$ row                            \u001b[3m\u001b[90m<int>\u001b[39m\u001b[23m 1, 2, 3, 4, 5, 6, 7, 8, 9, 10, 11, 12, …\n",
            "$ overall_sentiment_score_body   \u001b[3m\u001b[90m<dbl>\u001b[39m\u001b[23m -0.08, -0.06, 0.03, -0.01, -0.04, -0.16…\n",
            "$ overall_sentiment_score_head   \u001b[3m\u001b[90m<dbl>\u001b[39m\u001b[23m -0.20, 0.00, 0.33, -0.33, 0.00, -0.25, …\n",
            "$ overall_sentiment_score        \u001b[3m\u001b[90m<dbl>\u001b[39m\u001b[23m -0.14, -0.03, 0.18, -0.17, -0.02, -0.21…\n",
            "$ overall_sentiment_class        \u001b[3m\u001b[90m<chr>\u001b[39m\u001b[23m \"negative\", \"neutral\", \"positive\", \"neg…\n",
            "$ encoded_overll_sentiment_class \u001b[3m\u001b[90m<int>\u001b[39m\u001b[23m -1, 0, 1, -1, 0, -1, 1, 1, -1, 0, 0, 1,…\n",
            "Rows: 258,883\n",
            "Columns: 5\n",
            "$ row       \u001b[3m\u001b[90m<int>\u001b[39m\u001b[23m 1, 1, 1, 1, 1, 2, 2, 2, 2, 3, 3, 3, 4, 4, 4, 5, 5, 5, 5, 6, …\n",
            "$ word      \u001b[3m\u001b[90m<chr>\u001b[39m\u001b[23m \"service\", \"level\", \"far\", \"bad\", \"ryanair\", \"upgrade\", \"mem…\n",
            "$ sentiment \u001b[3m\u001b[90m<chr>\u001b[39m\u001b[23m \"neutral\", \"neutral\", \"neutral\", \"negative\", \"neutral\", \"neu…\n",
            "$ score     \u001b[3m\u001b[90m<int>\u001b[39m\u001b[23m 0, 0, 0, -1, 0, 0, 0, 0, 0, 0, 1, 0, 0, -1, 0, 0, 0, 0, 0, 0…\n",
            "$ source    \u001b[3m\u001b[90m<chr>\u001b[39m\u001b[23m \"head\", \"head\", \"head\", \"head\", \"head\", \"head\", \"head\", \"hea…\n"
          ]
        }
      ]
    },
    {
      "cell_type": "markdown",
      "metadata": {
        "id": "YuZ8iL55CkfW"
      },
      "source": [
        "## **4. Data Analysis**\n",
        "\n",
        "\n",
        "---\n",
        "\n",
        "\n",
        "* The primary objective of this data analysis is to explore patterns and trends within the airline review dataset to gain valuable insights into customer sentiments. By conducting a thorough exploratory data analysis (EDA), we aim to uncover significant relationships, understand underlying sentiments, and identify any anomalies present in the data. Through various visualizations and statistical techniques, we strive to provide a comprehensive understanding of customer opinions and experiences, aiding in informed decision-making and strategic planning for the airline industry."
      ]
    },
    {
      "cell_type": "markdown",
      "metadata": {
        "id": "gRuxe-jtT611"
      },
      "source": [
        "### 4.2 Data Visualization"
      ]
    },
    {
      "cell_type": "code",
      "source": [
        "# library(pacman)\n",
        "# pacman::p_load(lubridate, ggplot2,cowplot)\n",
        "\n",
        "# # calculate average rating by month-year\n",
        "# graph1 <- final_df %>%\n",
        "#   mutate(Datetime = floor_date(Datetime, \"month\")) %>%\n",
        "#   group_by(Datetime) %>%\n",
        "#   summarise(across(where(is.numeric), mean, na.rm = TRUE), cnt=n()) %>%\n",
        "#   arrange(Datetime)\n",
        "\n",
        "# # convert to readable format for ggplot2\n",
        "# graph_long <- graph1 %>%\n",
        "#   pivot_longer(cols = c(-cnt,-Datetime,-encoded_overll_sentiment_class,-encoded_SeatType,-encoded_TypeOfTraveller,-overall_sentiment_score,-overall_sentiment_score_body ,-row,-overall_sentiment_score_head,-Recommended), , names_to = \"variable\", values_to = \"average\")\n",
        "\n",
        "# # generate the graph\n",
        "\n",
        "# options(repr.plot.width = 20, repr.plot.height = 6)\n",
        "# # Create line plot\n",
        "# line_plot = ggplot(graph_long, aes(x = Datetime, y = average, color = variable)) +\n",
        "#   geom_line() +\n",
        "#   labs(x = \"Year\", y = \"Average Rating\", title = \"Average Rating by Month Over Date Time\") +\n",
        "#   theme_minimal() +\n",
        "#   theme(text = element_text(size = 15), plot.title = element_text(hjust = 0.5))\n",
        "\n",
        "# # Create bar plot for count\n",
        "# bar_plot <- ggplot(graph1, aes(x = Datetime, y = cnt)) +\n",
        "#   geom_bar(stat = \"identity\", fill = \"blue\", alpha = 0.5) +\n",
        "#   labs(x = \"Year\", y = \"Count\", title = \"Counts of Flights by Month Over Date Time\") +\n",
        "#   theme_minimal() +\n",
        "#   theme(text = element_text(size = 15), plot.title = element_text(hjust = 0.5))\n",
        "\n",
        "# # Combine plots\n",
        "# combo_chart <- plot_grid(line_plot, bar_plot, nrow = 2, align = \"v\")\n",
        "\n",
        "# # Print the combo chart\n",
        "# print(combo_chart)"
      ],
      "metadata": {
        "id": "42hE30gXKBuP"
      },
      "execution_count": null,
      "outputs": []
    },
    {
      "cell_type": "code",
      "source": [
        "# library(pacman)\n",
        "# pacman::p_load(lubridate, ggplot2,cowplot)\n",
        "\n",
        "# # calculate average rating by month-year\n",
        "# graph1 <- final_df %>%\n",
        "#   mutate(Datetime = floor_date(DateFlown, \"month\")) %>%\n",
        "#   group_by(Datetime) %>%\n",
        "#   summarise(across(where(is.numeric), mean, na.rm = TRUE), cnt=n()) %>%\n",
        "#   arrange(Datetime)\n",
        "\n",
        "# # convert to readable format for ggplot2\n",
        "# graph_long <- graph1 %>%\n",
        "#   pivot_longer(cols = c(-cnt,-Datetime,-encoded_overll_sentiment_class,-encoded_SeatType,-encoded_TypeOfTraveller,-overall_sentiment_score,-overall_sentiment_score_body ,-row,-overall_sentiment_score_head,-Recommended), , names_to = \"variable\", values_to = \"average\")\n",
        "\n",
        "# # generate the graph\n",
        "\n",
        "# options(repr.plot.width = 20, repr.plot.height = 6)\n",
        "# # Create line plot\n",
        "# line_plot = ggplot(graph_long, aes(x = Datetime, y = average, color = variable)) +\n",
        "#   geom_line() +\n",
        "#   labs(x = \"Year\", y = \"Average Rating\", title = \"Average Rating by Month Over Date Flown\") +\n",
        "#   theme_minimal() +\n",
        "#   theme(text = element_text(size = 15), plot.title = element_text(hjust = 0.5))\n",
        "\n",
        "# # Create bar plot for count\n",
        "# bar_plot <- ggplot(graph1, aes(x = Datetime, y = cnt)) +\n",
        "#   geom_bar(stat = \"identity\", fill = \"blue\", alpha = 0.5) +\n",
        "#   labs(x = \"Year\", y = \"Count\", title = \"Counts of Flights by Month Over Date Flown\") +\n",
        "#   theme_minimal() +\n",
        "#   theme(text = element_text(size = 15), plot.title = element_text(hjust = 0.5))\n",
        "\n",
        "# # Combine plots\n",
        "# combo_chart <- plot_grid(line_plot, bar_plot, nrow = 2, align = \"v\")\n",
        "\n",
        "# # Print the combo chart\n",
        "# print(combo_chart)"
      ],
      "metadata": {
        "id": "w9CakJ05FOBP"
      },
      "execution_count": null,
      "outputs": []
    },
    {
      "cell_type": "markdown",
      "source": [
        "Comprehensive analysis\n",
        "Relationship between ratings and number of flights:\\\n",
        "While the counts of flights dropped sharply in the early 2020s, the ratings (especially the overall ratings) showed large fluctuations. This may be due to a reduction in passenger numbers during the pandemic, leading to more significant changes in individual ratings.\n",
        "As the number of flights recovered in 2021 and beyond, the fluctuations in the ratings decreased, but they still have not returned to the stable levels seen before the pandemic.\n",
        "\n",
        "Relationship between rating categories:\n",
        "OverallRating is significantly higher than the other categories, indicating higher overall passenger satisfaction, while ratings for specific services (e.g., Cabin Staff Service, Food & Beverages, etc.) are relatively low and not very different from each other.\n",
        "\n",
        "By combining these two charts, it is possible to better understand the changes in passenger ratings of airline services over time and the relationship between these changes and the number of flights"
      ],
      "metadata": {
        "id": "7Zh18zXwltal"
      }
    },
    {
      "cell_type": "code",
      "source": [
        "# pacman::p_load(tidytext, dplyr, janeaustenr, wordcloud, RColorBrewer, viridis)\n",
        "\n",
        "# options(repr.plot.width = 17, repr.plot.height = 6)\n",
        "\n",
        "# # count the frequency word in different sentiment\n",
        "# analyse1 <- final_text %>% left_join(select(final_df,row,Recommended), by = \"row\") %>% count(word, Recommended) %>% arrange(desc(n)) %>% filter(!word %in% c(\"airway\",\"british\",\"customer\",\"review\")) %>%\n",
        "#   spread(key = Recommended, value = n, fill = 0)\n",
        "\n",
        "# # Set the row names to the words\n",
        "# rownames(analyse1) <- analyse1$word\n",
        "# analyse1 <- analyse1 %>% select(-word) %>% as.matrix\n",
        "\n",
        "# # set the layout\n",
        "# layout(mat = matrix(c(1,2), nrow=1, ncol=2) ,\n",
        "#        heights = c(2), # Heights of the two rows\n",
        "#        widths = c(1, 1)) # Widths of the two columns\n",
        "\n",
        "# # Word CLoud Graph\n",
        "# comparison.cloud(analyse1, random.order = FALSE, max.words = 100, c(3,0.5), title.size = 1.1)\n",
        "# title(\"Word Cloud Analysis - Head Review\", line = 1, cex.main = 1.5)\n",
        "\n",
        "# sentiment_counts <- final_df %>%\n",
        "#   group_by(Recommended) %>%\n",
        "#   summarise(total = n()) %>%\n",
        "#   ungroup()\n",
        "\n",
        "# # Plot a pie chart\n",
        "# pie(sentiment_counts$total, labels = sentiment_counts$Recommended,\n",
        "#     col = c(\"#509E2F\", \"#F0B323\", \"#971B2F\"),\n",
        "#     main = \"Distribution of Recommended Sentiment\")\n"
      ],
      "metadata": {
        "id": "jdMKpxQQb7mc"
      },
      "execution_count": null,
      "outputs": []
    },
    {
      "cell_type": "markdown",
      "source": [
        "This Word Cloud Map allows you to visualise the words most frequently mentioned by passengers in their reviews and the frequency of these words in different recommendation categories. The word cloud helps to identify keywords in both positive and negative reviews, which in turn provides insights into passengers' specific opinions and feedback about the airline."
      ],
      "metadata": {
        "id": "odlx-lFHjd3g"
      }
    },
    {
      "cell_type": "code",
      "source": [
        "# pacman::p_load(tidytext, dplyr, janeaustenr, wordcloud, RColorBrewer, viridis)\n",
        "\n",
        "# options(repr.plot.width = 12, repr.plot.height = 9)\n",
        "\n",
        "# # count the frequency word in different sentiment\n",
        "# analyse1 <- final_text %>% left_join(select(final_df,row,VerifiedReview), by = \"row\") %>% count(word, VerifiedReview) %>% arrange(desc(n)) %>% filter(!word %in% c(\"airway\",\"british\",\"customer\",\"review\")) %>%\n",
        "#   spread(key = VerifiedReview, value = n, fill = 0)\n",
        "\n",
        "# # Set the row names to the words\n",
        "# rownames(analyse1) <- analyse1$word\n",
        "# analyse1 <- analyse1 %>% select(-word) %>% as.matrix\n",
        "\n",
        "# par(mfrow=c(1,2))\n",
        "# comparison.cloud(analyse1, random.order = FALSE, max.words = 250, c(2,0.8), title.size = 1.1)\n",
        "# title(\"Word Cloud Analysis - Head Review\", line = 1, cex.main = 1.5)\n",
        "\n",
        "# sentiment_counts <- final_df %>%\n",
        "#   group_by(VerifiedReview) %>%\n",
        "#   summarise(total=n()) %>%\n",
        "#   ungroup()\n",
        "\n",
        "\n",
        "# # Plot a pie chart\n",
        "# pie(sentiment_counts$total, labels = sentiment_counts$VerifiedReview,\n",
        "#     col = c(\"#509E2F\", \"#F0B323\", \"#971B2F\"),\n",
        "#     main = \"Distribution of VerifiedReview Sentiment\")\n",
        "\n"
      ],
      "metadata": {
        "id": "4cIykNhFPZmI"
      },
      "execution_count": null,
      "outputs": []
    },
    {
      "cell_type": "markdown",
      "source": [
        "The combination of the word cloud map and the pie chart allows us to draw the following conclusions:\n",
        "The most frequently mentioned words in the reviews are related to passengers' flight experience and service.\n",
        "Most of the words mentioned in the reviews tend to be negative, e.g. ‘delay’, ‘cancel’, ‘refund’, etc., which is in line with the high percentage of non-recommended reviews shown in the pie chart.\n",
        "Some positive terms, such as ‘comfortable’, ‘good’, are also present but relatively few, suggesting that while some passengers are satisfied with the airline service, the overall proportion of non-recommendations is high.\n",
        "This visual analysis helps us to better understand passenger feedback and issues in airline services"
      ],
      "metadata": {
        "id": "5u9CB3Znksj-"
      }
    },
    {
      "cell_type": "code",
      "source": [
        "# pacman::p_load(tidytext, dplyr, janeaustenr, wordcloud, RColorBrewer, viridis)\n",
        "\n",
        "# options(repr.plot.width = 12, repr.plot.height = 9)\n",
        "\n",
        "# # count the frequency word in different sentiment\n",
        "# analyse1 <- final_text %>% left_join(select(final_df,row,TypeOfTraveller), by = \"row\") %>% count(word, TypeOfTraveller) %>% arrange(desc(n)) %>% filter(!word %in% c(\"airway\",\"british\",\"customer\",\"review\")) %>%\n",
        "#   spread(key = TypeOfTraveller, value = n, fill = 0)\n",
        "\n",
        "# # Set the row names to the words\n",
        "# rownames(analyse1) <- analyse1$word\n",
        "# analyse1 <- analyse1 %>% select(-word) %>% as.matrix\n",
        "\n",
        "# par(mfrow=c(1,2))\n",
        "# comparison.cloud(analyse1, random.order = FALSE, max.words = 250, c(2,0.8), title.size = 1.1)\n",
        "# title(\"Word Cloud Analysis - Head Review\", line = 1, cex.main = 1.5)\n",
        "\n",
        "# sentiment_counts <- final_df %>%\n",
        "#   group_by(TypeOfTraveller) %>%\n",
        "#   summarise(total=n()) %>%\n",
        "#   ungroup()\n",
        "\n",
        "\n",
        "# # Plot a pie chart\n",
        "# pie(sentiment_counts$total, labels = sentiment_counts$TypeOfTraveller,\n",
        "#     col = c(\"#509E2F\", \"#F0B323\", \"#971B2F\"),\n",
        "#     main = \"Distribution of TypeOfTraveller Sentiment\")"
      ],
      "metadata": {
        "id": "3BH1lOWhVOpR"
      },
      "execution_count": null,
      "outputs": []
    },
    {
      "cell_type": "code",
      "source": [
        "# pacman::p_load(tidytext, dplyr, janeaustenr, wordcloud, RColorBrewer, viridis)\n",
        "\n",
        "# options(repr.plot.width = 12, repr.plot.height = 9)\n",
        "\n",
        "# # count the frequency word in different sentiment\n",
        "# analyse1 <- final_text %>% left_join(select(final_df,row,SeatType), by = \"row\") %>% count(word, SeatType) %>% arrange(desc(n)) %>% filter(!word %in% c(\"airway\",\"british\",\"customer\",\"review\")) %>%\n",
        "#   spread(key = SeatType, value = n, fill = 0)\n",
        "\n",
        "# # Set the row names to the words\n",
        "# rownames(analyse1) <- analyse1$word\n",
        "# analyse1 <- analyse1 %>% select(-word) %>% as.matrix\n",
        "\n",
        "# par(mfrow=c(1,2))\n",
        "# comparison.cloud(analyse1, random.order = FALSE, max.words = 250, c(2,0.8), title.size = 1.1)\n",
        "# title(\"Word Cloud Analysis - Head Review\", line = 1, cex.main = 1.5)\n",
        "\n",
        "# sentiment_counts <- final_df %>%\n",
        "#   group_by(SeatType) %>%\n",
        "#   summarise(total=n()) %>%\n",
        "#   ungroup()\n",
        "\n",
        "\n",
        "# # Plot a pie chart\n",
        "# pie(sentiment_counts$total, labels = sentiment_counts$SeatType,\n",
        "#     col = c(\"#509E2F\", \"#F0B323\", \"#971B2F\"),\n",
        "#     main = \"Distribution of SeatType Sentiment\")"
      ],
      "metadata": {
        "id": "250s-24hVZua"
      },
      "execution_count": null,
      "outputs": []
    },
    {
      "cell_type": "markdown",
      "metadata": {
        "id": "KinaE-9wiLZM"
      },
      "source": [
        "## **5. Modelling & Evaluation**\n",
        "\n",
        "\n",
        "---\n"
      ]
    },
    {
      "cell_type": "markdown",
      "metadata": {
        "id": "BcxHAglAEfr4"
      },
      "source": [
        "### **5.1 Classification**\n",
        "\n",
        "* Purpose: To determine if a given flight plan (SeatType, TypeOfTraveler, CabinStaffRating, GroundServiceRating) will be satisfactory, unsatisfactory or neutral sentiment score. The flight planners can hence take actions to tweak the flight plan such that it will give a satisfactory experience for the passengers.\n",
        "* Model: Logistic Regression, Support Vector Machines (SVM), Naive Bayes, KNN, Decision Tree, and Random Forest\n",
        "\n",
        "* Training: 0.7train/0.3test\n",
        "\n",
        "* Evaluation: accuracy and f1\n"
      ]
    },
    {
      "cell_type": "code",
      "source": [
        "glimpse(final_df)"
      ],
      "metadata": {
        "colab": {
          "base_uri": "https://localhost:8080/"
        },
        "id": "m66fu_IcbwPd",
        "outputId": "d360a9ba-f2ae-4c7d-cf9d-bd89c6d03bc2"
      },
      "execution_count": null,
      "outputs": [
        {
          "output_type": "stream",
          "name": "stdout",
          "text": [
            "Rows: 2,929\n",
            "Columns: 24\n",
            "$ OverallRating                  \u001b[3m\u001b[90m<int>\u001b[39m\u001b[23m 1, 3, 8, 1, 1, 1, 8, 7, 2, 3, 8, 1, 6, …\n",
            "$ ReviewHeader                   \u001b[3m\u001b[90m<chr>\u001b[39m\u001b[23m \"\\\"Service level far worse then Ryanair…\n",
            "$ Name                           \u001b[3m\u001b[90m<chr>\u001b[39m\u001b[23m \"L Keele\", \"Austin Jones\", \"M A Collie\"…\n",
            "$ Datetime                       \u001b[3m\u001b[90m<date>\u001b[39m\u001b[23m 2023-11-19, 2023-11-19, 2023-11-16, 20…\n",
            "$ VerifiedReview                 \u001b[3m\u001b[90m<lgl>\u001b[39m\u001b[23m TRUE, TRUE, FALSE, TRUE, FALSE, TRUE, T…\n",
            "$ ReviewBody                     \u001b[3m\u001b[90m<chr>\u001b[39m\u001b[23m \"4 Hours before takeoff we received a M…\n",
            "$ TypeOfTraveller                \u001b[3m\u001b[90m<chr>\u001b[39m\u001b[23m \"Couple Leisure\", \"Business\", \"Couple L…\n",
            "$ SeatType                       \u001b[3m\u001b[90m<chr>\u001b[39m\u001b[23m \"Economy Class\", \"Economy Class\", \"Busi…\n",
            "$ DateFlown                      \u001b[3m\u001b[90m<date>\u001b[39m\u001b[23m 2023-11-01, 2023-11-01, 2023-11-01, 20…\n",
            "$ SeatComfort                    \u001b[3m\u001b[90m<int>\u001b[39m\u001b[23m 1, 2, 3, 3, 1, 1, 5, 3, 4, 3, 3, 3, 3, …\n",
            "$ CabinStaffService              \u001b[3m\u001b[90m<int>\u001b[39m\u001b[23m 1, 3, 3, 3, 1, 1, 5, 3, 5, 3, 3, 3, 1, …\n",
            "$ GroundService                  \u001b[3m\u001b[90m<int>\u001b[39m\u001b[23m 1, 1, 4, 1, 1, 1, 4, 3, 3, 3, 4, 1, 3, …\n",
            "$ ValueForMoney                  \u001b[3m\u001b[90m<int>\u001b[39m\u001b[23m 1, 2, 3, 1, 1, 1, 4, 3, 5, 1, 3, 1, 2, …\n",
            "$ Recommended                    \u001b[3m\u001b[90m<int>\u001b[39m\u001b[23m 1, 1, 2, 1, 1, 1, 2, 2, 2, 1, 2, 1, 1, …\n",
            "$ Food.Beverages                 \u001b[3m\u001b[90m<int>\u001b[39m\u001b[23m 1, 1, 4, 2, 1, 1, 4, 3, 4, 1, 3, 3, 1, …\n",
            "$ InflightEntertainment          \u001b[3m\u001b[90m<int>\u001b[39m\u001b[23m 1, 2, 4, 2, 1, 1, 4, 3, 4, 1, 3, 3, 2, …\n",
            "$ encoded_TypeOfTraveller        \u001b[3m\u001b[90m<int>\u001b[39m\u001b[23m 2, 1, 2, 2, 2, 4, 2, 4, 3, 2, 2, 2, 4, …\n",
            "$ encoded_SeatType               \u001b[3m\u001b[90m<int>\u001b[39m\u001b[23m 2, 2, 1, 2, 2, 2, 4, 2, 2, 2, 1, 2, 2, …\n",
            "$ row                            \u001b[3m\u001b[90m<int>\u001b[39m\u001b[23m 1, 2, 3, 4, 5, 6, 7, 8, 9, 10, 11, 12, …\n",
            "$ overall_sentiment_score_body   \u001b[3m\u001b[90m<dbl>\u001b[39m\u001b[23m -0.08, -0.06, 0.03, -0.01, -0.04, -0.16…\n",
            "$ overall_sentiment_score_head   \u001b[3m\u001b[90m<dbl>\u001b[39m\u001b[23m -0.20, 0.00, 0.33, -0.33, 0.00, -0.25, …\n",
            "$ overall_sentiment_score        \u001b[3m\u001b[90m<dbl>\u001b[39m\u001b[23m -0.14, -0.03, 0.18, -0.17, -0.02, -0.21…\n",
            "$ overall_sentiment_class        \u001b[3m\u001b[90m<chr>\u001b[39m\u001b[23m \"negative\", \"neutral\", \"positive\", \"neg…\n",
            "$ encoded_overll_sentiment_class \u001b[3m\u001b[90m<int>\u001b[39m\u001b[23m -1, 0, 1, -1, 0, -1, 1, 1, -1, 0, 0, 1,…\n"
          ]
        }
      ]
    },
    {
      "cell_type": "markdown",
      "source": [
        "#### 5.1.1 Final Data Preparation for Modelling"
      ],
      "metadata": {
        "id": "-gZ-ozG0smCO"
      }
    },
    {
      "cell_type": "code",
      "execution_count": null,
      "metadata": {
        "id": "Cmk0JCaBuq3S",
        "colab": {
          "base_uri": "https://localhost:8080/"
        },
        "outputId": "12d195a1-fa78-4e0e-85be-3123de5ed5ac"
      },
      "outputs": [
        {
          "output_type": "stream",
          "name": "stdout",
          "text": [
            "        SeatType TypeOfTraveller CabinStaffService GroundService\n",
            "1  Economy Class  Couple Leisure                 1             1\n",
            "2  Economy Class        Business                 3             1\n",
            "3 Business Class  Couple Leisure                 3             4\n",
            "4  Economy Class  Couple Leisure                 3             1\n",
            "5  Economy Class  Couple Leisure                 1             1\n",
            "6  Economy Class    Solo Leisure                 1             1\n",
            "  overall_sentiment_class overall_sentiment_score\n",
            "1                negative                   -0.14\n",
            "2                 neutral                   -0.03\n",
            "3                positive                    0.18\n",
            "4                negative                   -0.17\n",
            "5                 neutral                   -0.02\n",
            "6                negative                   -0.21\n"
          ]
        }
      ],
      "source": [
        "# Load required libraries\n",
        "if (!requireNamespace(\"dplyr\", quietly = TRUE)) install.packages(\"dplyr\")\n",
        "\n",
        "library(dplyr)\n",
        "\n",
        "# Assuming final_df is already defined and loaded\n",
        "final_df_selected <- dplyr::select(final_df, SeatType, TypeOfTraveller, CabinStaffService, GroundService, overall_sentiment_class, overall_sentiment_score)\n",
        "\n",
        "# Check the selected data frame\n",
        "print(head(final_df_selected))\n"
      ]
    },
    {
      "cell_type": "code",
      "source": [
        "# prompt: Convert CabinStaffService and GroundService to numeric\n",
        "\n",
        "final_df_selected <- final_df_selected %>% mutate(CabinStaffService = as.numeric(CabinStaffService), GroundService = as.numeric(GroundService))\n"
      ],
      "metadata": {
        "id": "O2o3dRyQqo85"
      },
      "execution_count": null,
      "outputs": []
    },
    {
      "cell_type": "code",
      "source": [
        "# Inputs and label\n",
        "head(final_df_selected)"
      ],
      "metadata": {
        "colab": {
          "base_uri": "https://localhost:8080/",
          "height": 286
        },
        "id": "OjyyZOK8oGcz",
        "outputId": "7db17e88-7192-4f2d-aee0-fb5a306bb545"
      },
      "execution_count": null,
      "outputs": [
        {
          "output_type": "display_data",
          "data": {
            "text/html": [
              "<table class=\"dataframe\">\n",
              "<caption>A data.frame: 6 × 6</caption>\n",
              "<thead>\n",
              "\t<tr><th></th><th scope=col>SeatType</th><th scope=col>TypeOfTraveller</th><th scope=col>CabinStaffService</th><th scope=col>GroundService</th><th scope=col>overall_sentiment_class</th><th scope=col>overall_sentiment_score</th></tr>\n",
              "\t<tr><th></th><th scope=col>&lt;chr&gt;</th><th scope=col>&lt;chr&gt;</th><th scope=col>&lt;dbl&gt;</th><th scope=col>&lt;dbl&gt;</th><th scope=col>&lt;chr&gt;</th><th scope=col>&lt;dbl&gt;</th></tr>\n",
              "</thead>\n",
              "<tbody>\n",
              "\t<tr><th scope=row>1</th><td>Economy Class </td><td>Couple Leisure</td><td>1</td><td>1</td><td>negative</td><td>-0.14</td></tr>\n",
              "\t<tr><th scope=row>2</th><td>Economy Class </td><td>Business      </td><td>3</td><td>1</td><td>neutral </td><td>-0.03</td></tr>\n",
              "\t<tr><th scope=row>3</th><td>Business Class</td><td>Couple Leisure</td><td>3</td><td>4</td><td>positive</td><td> 0.18</td></tr>\n",
              "\t<tr><th scope=row>4</th><td>Economy Class </td><td>Couple Leisure</td><td>3</td><td>1</td><td>negative</td><td>-0.17</td></tr>\n",
              "\t<tr><th scope=row>5</th><td>Economy Class </td><td>Couple Leisure</td><td>1</td><td>1</td><td>neutral </td><td>-0.02</td></tr>\n",
              "\t<tr><th scope=row>6</th><td>Economy Class </td><td>Solo Leisure  </td><td>1</td><td>1</td><td>negative</td><td>-0.21</td></tr>\n",
              "</tbody>\n",
              "</table>\n"
            ],
            "text/markdown": "\nA data.frame: 6 × 6\n\n| <!--/--> | SeatType &lt;chr&gt; | TypeOfTraveller &lt;chr&gt; | CabinStaffService &lt;dbl&gt; | GroundService &lt;dbl&gt; | overall_sentiment_class &lt;chr&gt; | overall_sentiment_score &lt;dbl&gt; |\n|---|---|---|---|---|---|---|\n| 1 | Economy Class  | Couple Leisure | 1 | 1 | negative | -0.14 |\n| 2 | Economy Class  | Business       | 3 | 1 | neutral  | -0.03 |\n| 3 | Business Class | Couple Leisure | 3 | 4 | positive |  0.18 |\n| 4 | Economy Class  | Couple Leisure | 3 | 1 | negative | -0.17 |\n| 5 | Economy Class  | Couple Leisure | 1 | 1 | neutral  | -0.02 |\n| 6 | Economy Class  | Solo Leisure   | 1 | 1 | negative | -0.21 |\n\n",
            "text/latex": "A data.frame: 6 × 6\n\\begin{tabular}{r|llllll}\n  & SeatType & TypeOfTraveller & CabinStaffService & GroundService & overall\\_sentiment\\_class & overall\\_sentiment\\_score\\\\\n  & <chr> & <chr> & <dbl> & <dbl> & <chr> & <dbl>\\\\\n\\hline\n\t1 & Economy Class  & Couple Leisure & 1 & 1 & negative & -0.14\\\\\n\t2 & Economy Class  & Business       & 3 & 1 & neutral  & -0.03\\\\\n\t3 & Business Class & Couple Leisure & 3 & 4 & positive &  0.18\\\\\n\t4 & Economy Class  & Couple Leisure & 3 & 1 & negative & -0.17\\\\\n\t5 & Economy Class  & Couple Leisure & 1 & 1 & neutral  & -0.02\\\\\n\t6 & Economy Class  & Solo Leisure   & 1 & 1 & negative & -0.21\\\\\n\\end{tabular}\n",
            "text/plain": [
              "  SeatType       TypeOfTraveller CabinStaffService GroundService\n",
              "1 Economy Class  Couple Leisure  1                 1            \n",
              "2 Economy Class  Business        3                 1            \n",
              "3 Business Class Couple Leisure  3                 4            \n",
              "4 Economy Class  Couple Leisure  3                 1            \n",
              "5 Economy Class  Couple Leisure  1                 1            \n",
              "6 Economy Class  Solo Leisure    1                 1            \n",
              "  overall_sentiment_class overall_sentiment_score\n",
              "1 negative                -0.14                  \n",
              "2 neutral                 -0.03                  \n",
              "3 positive                 0.18                  \n",
              "4 negative                -0.17                  \n",
              "5 neutral                 -0.02                  \n",
              "6 negative                -0.21                  "
            ]
          },
          "metadata": {}
        }
      ]
    },
    {
      "cell_type": "code",
      "source": [
        "# install.packages(\"caret\")"
      ],
      "metadata": {
        "colab": {
          "base_uri": "https://localhost:8080/"
        },
        "id": "Z4BGVxcmcwhl",
        "outputId": "2e057e33-a396-412e-cf60-077851c7e549"
      },
      "execution_count": null,
      "outputs": [
        {
          "output_type": "stream",
          "name": "stderr",
          "text": [
            "Installing package into ‘/usr/local/lib/R/site-library’\n",
            "(as ‘lib’ is unspecified)\n",
            "\n",
            "also installing the dependencies ‘parallelly’, ‘future’, ‘future.apply’, ‘lava’, ‘prodlim’, ‘clock’, ‘ipred’, ‘recipes’\n",
            "\n",
            "\n"
          ]
        }
      ]
    },
    {
      "cell_type": "code",
      "source": [
        "library(caret)\n",
        "\n",
        "# Assume final_df_selected is already defined and loaded\n",
        "\n",
        "# Create a dummy variable model for SeatType and TypeOfTraveller\n",
        "dummies <- dummyVars(~ SeatType + TypeOfTraveller, data = final_df_selected)\n",
        "\n",
        "# Apply the dummy variable model to the data and convert to a data frame\n",
        "encoded_df <- as.data.frame(predict(dummies, newdata = final_df_selected))\n",
        "\n",
        "# Combine the one-hot encoded columns back with the original columns that were not part of the encoding\n",
        "non_encoded_columns <- final_df_selected[, !(colnames(final_df_selected) %in% c(\"SeatType\", \"TypeOfTraveller\"))]\n",
        "final_df_selected <- cbind(non_encoded_columns, encoded_df)\n",
        "\n",
        "# Check the structure to confirm all columns are present\n",
        "str(final_df_selected)\n"
      ],
      "metadata": {
        "id": "3kpYqTFjcD-y",
        "colab": {
          "base_uri": "https://localhost:8080/"
        },
        "outputId": "c898f243-3d7c-4697-b9da-9f668e539aea"
      },
      "execution_count": null,
      "outputs": [
        {
          "output_type": "stream",
          "name": "stderr",
          "text": [
            "Loading required package: lattice\n",
            "\n",
            "\n",
            "Attaching package: ‘caret’\n",
            "\n",
            "\n",
            "The following object is masked from ‘package:purrr’:\n",
            "\n",
            "    lift\n",
            "\n",
            "\n"
          ]
        },
        {
          "output_type": "stream",
          "name": "stdout",
          "text": [
            "'data.frame':\t2929 obs. of  12 variables:\n",
            " $ CabinStaffService            : num  1 3 3 3 1 1 5 3 5 3 ...\n",
            " $ GroundService                : num  1 1 4 1 1 1 4 3 3 3 ...\n",
            " $ overall_sentiment_class      : chr  \"negative\" \"neutral\" \"positive\" \"negative\" ...\n",
            " $ overall_sentiment_score      : num  -0.14 -0.03 0.18 -0.17 -0.02 -0.21 0.12 0.25 -0.36 0 ...\n",
            " $ SeatTypeBusiness Class       : num  0 0 1 0 0 0 0 0 0 0 ...\n",
            " $ SeatTypeEconomy Class        : num  1 1 0 1 1 1 0 1 1 1 ...\n",
            " $ SeatTypeFirst Class          : num  0 0 0 0 0 0 0 0 0 0 ...\n",
            " $ SeatTypePremium Economy      : num  0 0 0 0 0 0 1 0 0 0 ...\n",
            " $ TypeOfTravellerBusiness      : num  0 1 0 0 0 0 0 0 0 0 ...\n",
            " $ TypeOfTravellerCouple Leisure: num  1 0 1 1 1 0 1 0 0 1 ...\n",
            " $ TypeOfTravellerFamily Leisure: num  0 0 0 0 0 0 0 0 1 0 ...\n",
            " $ TypeOfTravellerSolo Leisure  : num  0 0 0 0 0 1 0 1 0 0 ...\n"
          ]
        }
      ]
    },
    {
      "cell_type": "code",
      "source": [
        "# prompt: Normalising the scale of all the features except sentiment class\n",
        "\n",
        "# Normalise the scale of all the features except sentiment class\n",
        "features <- names(final_df_selected)[!names(final_df_selected) %in% \"overall_sentiment_class\"]\n",
        "final_df_selected[features] <- scale(final_df_selected[features])\n"
      ],
      "metadata": {
        "id": "cd02iSQDWAds"
      },
      "execution_count": null,
      "outputs": []
    },
    {
      "cell_type": "markdown",
      "source": [
        "#### 5.1.2 Train Test Split with Stratification\n",
        "To ensure balanced classes in train and test sets."
      ],
      "metadata": {
        "id": "ITyGzg53svmP"
      }
    },
    {
      "cell_type": "code",
      "source": [
        "# Train Test Split, stratified by target_variable\n",
        "# Load required libraries\n",
        "if (!requireNamespace(\"caret\", quietly = TRUE)) install.packages(\"caret\")\n",
        "library(caret)\n",
        "\n",
        "# Define the target column\n",
        "target_column <- \"overall_sentiment_class\"  # Replace with the actual name of your target column if different\n",
        "\n",
        "# Perform a stratified train-test split\n",
        "set.seed(123)\n",
        "trainIndex <- createDataPartition(final_df_selected[[target_column]], p = .7,\n",
        "                                  list = FALSE,\n",
        "                                  times = 1)\n",
        "\n",
        "# Create training and testing sets\n",
        "train_set <- final_df_selected[trainIndex, ]\n",
        "test_set <- final_df_selected[-trainIndex, ]\n",
        "\n",
        "# Separate features and target\n",
        "X_train <- train_set[, !(colnames(train_set) %in% c(target_column,\"overall_sentiment_score\"))]\n",
        "y_train <- train_set[[target_column]]\n",
        "X_test <- test_set[, !(colnames(test_set) %in% c(target_column,\"overall_sentiment_score\"))]\n",
        "y_test <- test_set[[target_column]]"
      ],
      "metadata": {
        "id": "9BX7GtFuou3S"
      },
      "execution_count": null,
      "outputs": []
    },
    {
      "cell_type": "code",
      "source": [
        "# Install required packages\n",
        "# install.packages(\"DMwR2\")"
      ],
      "metadata": {
        "colab": {
          "base_uri": "https://localhost:8080/"
        },
        "id": "DCc02r9McJFG",
        "outputId": "639509fb-96af-4870-f3d7-c27502422858"
      },
      "execution_count": null,
      "outputs": [
        {
          "output_type": "stream",
          "name": "stderr",
          "text": [
            "Installing package into ‘/usr/local/lib/R/site-library’\n",
            "(as ‘lib’ is unspecified)\n",
            "\n",
            "also installing the dependencies ‘TTR’, ‘xts’, ‘zoo’, ‘quantmod’\n",
            "\n",
            "\n",
            "Registered S3 method overwritten by 'quantmod':\n",
            "  method            from\n",
            "  as.zoo.data.frame zoo \n",
            "\n"
          ]
        }
      ]
    },
    {
      "cell_type": "markdown",
      "source": [
        "#### 5.1.3 Preliminary Set of Algorithms\n",
        "The initial set of algorithms are Naive Bayes, Decision Tree, SVM, and Random Forest."
      ],
      "metadata": {
        "id": "jR37Po__tR3e"
      }
    },
    {
      "cell_type": "code",
      "execution_count": null,
      "metadata": {
        "id": "DWB6rVYUvDJv",
        "colab": {
          "base_uri": "https://localhost:8080/"
        },
        "outputId": "e85558fc-2cbb-4d9e-9e07-1efd3fcc3506"
      },
      "outputs": [
        {
          "output_type": "stream",
          "name": "stderr",
          "text": [
            "Installing package into ‘/usr/local/lib/R/site-library’\n",
            "(as ‘lib’ is unspecified)\n",
            "\n",
            "\n",
            "naivebayes installed\n",
            "\n",
            "Installing package into ‘/usr/local/lib/R/site-library’\n",
            "(as ‘lib’ is unspecified)\n",
            "\n",
            "\n",
            "randomForest installed\n",
            "\n",
            "Installing package into ‘/usr/local/lib/R/site-library’\n",
            "(as ‘lib’ is unspecified)\n",
            "\n",
            "also installing the dependencies ‘bitops’, ‘gtools’, ‘caTools’, ‘gplots’, ‘ROCR’\n",
            "\n",
            "\n",
            "\n",
            "MLmetrics installed\n",
            "\n"
          ]
        },
        {
          "output_type": "stream",
          "name": "stdout",
          "text": [
            "# weights:  36 (22 variable)\n",
            "initial  value 2254.352416 \n",
            "iter  10 value 1981.437032\n",
            "iter  20 value 1959.520376\n",
            "final  value 1956.793479 \n",
            "converged\n",
            "                            Model  Accuracy        F1\n",
            "1 Multinomial Logistic Regression 0.5324971 0.3981693\n",
            "2                             SVM 0.5017104 0.1025641\n",
            "3                     Naive Bayes 0.5062714 0.4517375\n",
            "4                             KNN 0.5313569 0.4128257\n",
            "5                   Decision Tree 0.5108324       NaN\n",
            "6                   Random Forest 0.5199544 0.3861171\n"
          ]
        }
      ],
      "source": [
        "# Load required libraries\n",
        "\n",
        "pacman::p_load(nnet,naivebayes,e1071,rpart,randomForest,MLmetrics, caret)\n",
        "\n",
        "# Function to clean column names to ensure they are valid R variable names\n",
        "clean_names <- function(df) {\n",
        "  colnames(df) <- make.names(colnames(df), unique = TRUE)\n",
        "  return(df)\n",
        "}\n",
        "\n",
        "# Assuming X_train, y_train, X_test, and y_test are already defined and loaded\n",
        "X_train <- clean_names(X_train)\n",
        "X_test <- clean_names(X_test)\n",
        "\n",
        "# Ensure y_train and y_test are factors for classification tasks\n",
        "y_train <- as.factor(y_train)\n",
        "y_test <- as.factor(y_test)\n",
        "\n",
        "# Set seed for reproducibility\n",
        "set.seed(123)\n",
        "\n",
        "# Initialize a list to store models and their evaluation metrics\n",
        "models <- list()\n",
        "evaluation <- data.frame(Model = character(), Accuracy = numeric(), F1 = numeric(), stringsAsFactors = FALSE)\n",
        "\n",
        "# Multinomial Logistic Regression\n",
        "multinom_model <- multinom(y_train ~ ., data = data.frame(X_train, y_train))\n",
        "pred_multinom <- predict(multinom_model, X_test)\n",
        "acc_multinom <- sum(pred_multinom == y_test) / length(y_test)\n",
        "f1_multinom <- F1_Score(y_true = y_test, y_pred = pred_multinom, positive = levels(y_test)[1])\n",
        "models$multinom <- multinom_model\n",
        "evaluation <- rbind(evaluation, data.frame(Model = \"Multinomial Logistic Regression\", Accuracy = acc_multinom, F1 = f1_multinom))\n",
        "\n",
        "# Support Vector Machines (SVM)\n",
        "svm_model <- svm(y_train ~ ., data = data.frame(X_train, y_train), kernel = \"linear\", probability = TRUE)\n",
        "pred_svm <- predict(svm_model, X_test)\n",
        "acc_svm <- sum(pred_svm == y_test) / length(y_test)\n",
        "f1_svm <- F1_Score(y_true = y_test, y_pred = pred_svm, positive = levels(y_test)[1])\n",
        "models$svm <- svm_model\n",
        "evaluation <- rbind(evaluation, data.frame(Model = \"SVM\", Accuracy = acc_svm, F1 = f1_svm))\n",
        "\n",
        "# Naive Bayes\n",
        "nb_model <- naive_bayes(y_train ~ ., data = data.frame(X_train, y_train))\n",
        "pred_nb <- predict(nb_model, X_test)\n",
        "acc_nb <- sum(pred_nb == y_test) / length(y_test)\n",
        "f1_nb <- F1_Score(y_true = y_test, y_pred = pred_nb, positive = levels(y_test)[1])\n",
        "models$nb <- nb_model\n",
        "evaluation <- rbind(evaluation, data.frame(Model = \"Naive Bayes\", Accuracy = acc_nb, F1 = f1_nb))\n",
        "\n",
        "# K-Nearest Neighbors (KNN)\n",
        "knn_model <- train(y_train ~ ., data = data.frame(X_train, y_train), method = \"knn\", tuneLength = 5)\n",
        "pred_knn <- predict(knn_model, X_test)\n",
        "acc_knn <- sum(pred_knn == y_test) / length(y_test)\n",
        "f1_knn <- F1_Score(y_true = y_test, y_pred = pred_knn, positive = levels(y_test)[1])\n",
        "models$knn <- knn_model\n",
        "evaluation <- rbind(evaluation, data.frame(Model = \"KNN\", Accuracy = acc_knn, F1 = f1_knn))\n",
        "\n",
        "# Decision Tree\n",
        "dt_model <- rpart(y_train ~ ., data = data.frame(X_train, y_train))\n",
        "pred_dt <- predict(dt_model, X_test, type = \"class\")\n",
        "acc_dt <- sum(pred_dt == y_test) / length(y_test)\n",
        "f1_dt <- F1_Score(y_true = y_test, y_pred = pred_dt, positive = levels(y_test)[1])\n",
        "models$dt <- dt_model\n",
        "evaluation <- rbind(evaluation, data.frame(Model = \"Decision Tree\", Accuracy = acc_dt, F1 = f1_dt))\n",
        "\n",
        "# Random Forest\n",
        "rf_model <- randomForest(y_train ~ ., data = data.frame(X_train, y_train), ntree = 100)\n",
        "pred_rf <- predict(rf_model, X_test)\n",
        "acc_rf <- sum(pred_rf == y_test) / length(y_test)\n",
        "f1_rf <- F1_Score(y_true = y_test, y_pred = pred_rf, positive = levels(y_test)[1])\n",
        "models$rf <- rf_model\n",
        "evaluation <- rbind(evaluation, data.frame(Model = \"Random Forest\", Accuracy = acc_rf, F1 = f1_rf))\n",
        "\n",
        "# Print evaluation results\n",
        "print(evaluation)\n"
      ]
    },
    {
      "cell_type": "markdown",
      "source": [
        "The best model from the preliminary modelling is Naive Bayes which is only able to accomplish accuracy and F1 of 51%. Since this is as good as a coin flip, this is definitely not good enough, so we will try to remedy by using different models and through feature engineering."
      ],
      "metadata": {
        "id": "JqM_u3ggte6q"
      }
    },
    {
      "cell_type": "markdown",
      "source": [
        "#### 5.1.4 Advanced Tree-Based Algorithms\n",
        "This time, we used Randomized Hyperparameter Search for Decision Tree, Random Forest, and advanced algorithm XGBoost, to see if this can improve the performance."
      ],
      "metadata": {
        "id": "tb3uTfqltvhr"
      }
    },
    {
      "cell_type": "code",
      "source": [
        "# Load required libraries\n",
        "pacman::p_load(caret,e1071,randomForest,xgboost,MLmetrics, doParallel, kernlab)\n",
        "\n",
        "\n",
        "# Function to clean column names to ensure they are valid R variable names\n",
        "clean_names <- function(df) {\n",
        "  colnames(df) <- make.names(colnames(df), unique = TRUE)\n",
        "  return(df)\n",
        "}\n",
        "\n",
        "# Assuming X_train, y_train, X_test, and y_test are already defined and loaded\n",
        "X_train <- clean_names(X_train)\n",
        "X_test <- clean_names(X_test)\n",
        "\n",
        "# Ensure y_train and y_test are factors for classification tasks\n",
        "y_train <- as.factor(y_train)\n",
        "y_test <- as.factor(y_test)\n",
        "\n",
        "# Set seed for reproducibility\n",
        "set.seed(123)\n",
        "\n",
        "# Set up parallel processing\n",
        "cl <- makePSOCKcluster(detectCores() - 1)\n",
        "registerDoParallel(cl)\n",
        "\n",
        "# Define a control function for randomized search\n",
        "train_control <- trainControl(method = \"cv\", number = 3,\n",
        "                              summaryFunction = multiClassSummary,\n",
        "                              classProbs = TRUE, verboseIter = TRUE)\n",
        "\n",
        "# Randomized search for SVM with limited iterations\n",
        "svm_grid <- expand.grid(C = 2^seq(-5, 2, length.out = 5), sigma = 2^seq(-5, 2, length.out = 5))\n",
        "svm_model <- train(y_train ~ ., data = data.frame(X_train, y_train),\n",
        "                   method = \"svmRadial\",\n",
        "                   tuneGrid = svm_grid,\n",
        "                   trControl = train_control,\n",
        "                   metric = \"F1\",\n",
        "                   preProcess = c(\"center\", \"scale\"),\n",
        "                   tuneLength = 5)\n",
        "\n",
        "# Randomized search for Random Forest with limited iterations\n",
        "rf_model <- train(y_train ~ ., data = data.frame(X_train, y_train),\n",
        "                  method = \"rf\",\n",
        "                  tuneLength = 5,\n",
        "                  trControl = train_control,\n",
        "                  metric = \"F1\")\n",
        "\n",
        "# Randomized search for XGBoost with limited iterations\n",
        "xgb_grid <- expand.grid(nrounds = 50,\n",
        "                        max_depth = seq(3, 7, by = 2),\n",
        "                        eta = c(0.01, 0.1),\n",
        "                        gamma = c(0, 0.1),\n",
        "                        colsample_bytree = c(0.6, 0.8),\n",
        "                        min_child_weight = c(1, 3),\n",
        "                        subsample = c(0.7, 0.9))\n",
        "xgb_model <- train(y_train ~ ., data = data.frame(X_train, y_train),\n",
        "                   method = \"xgbTree\",\n",
        "                   tuneGrid = xgb_grid,\n",
        "                   trControl = train_control,\n",
        "                   metric = \"F1\")\n",
        "\n",
        "# Stop parallel processing\n",
        "stopCluster(cl)\n",
        "registerDoSEQ()\n",
        "\n",
        "# Predict and evaluate\n",
        "models <- list(svm = svm_model, rf = rf_model, xgb = xgb_model)\n",
        "evaluation <- data.frame(Model = character(), Accuracy = numeric(), F1 = numeric(), stringsAsFactors = FALSE)\n",
        "\n",
        "for (model_name in names(models)) {\n",
        "  model <- models[[model_name]]\n",
        "  pred <- predict(model, X_test)\n",
        "  acc <- sum(pred == y_test) / length(y_test)\n",
        "  f1 <- F1_Score(y_true = y_test, y_pred = pred, positive = levels(y_test)[1])\n",
        "  evaluation <- rbind(evaluation, data.frame(Model = model_name, Accuracy = acc, F1 = f1))\n",
        "}\n",
        "\n",
        "\n",
        "# Print evaluation results\n",
        "print(evaluation)\n"
      ],
      "metadata": {
        "id": "X82T-ZNXrz7l"
      },
      "execution_count": null,
      "outputs": []
    },
    {
      "cell_type": "markdown",
      "source": [
        "This did not improve the performance. And the best algorithm is still Naive Bayes with the best Accuracy and F1 score."
      ],
      "metadata": {
        "id": "xv4BMFk99EDu"
      }
    },
    {
      "cell_type": "markdown",
      "source": [
        "#### 5.1.5 Advanced Bayesian Algorithms\n",
        "We also considered Bayesian-like algorithms since Naive Bayes performed the best at first"
      ],
      "metadata": {
        "id": "x2omWoZ6ubtJ"
      }
    },
    {
      "cell_type": "code",
      "source": [
        "# Load required libraries\n",
        "pacman::p_load(caret,klaR,MLmetrics, doParallel, kernlab)\n",
        "\n",
        "# Function to clean column names to ensure they are valid R variable names\n",
        "clean_names <- function(df) {\n",
        "  colnames(df) <- make.names(colnames(df), unique = TRUE)\n",
        "  return(df)\n",
        "}\n",
        "\n",
        "# Assuming X_train, y_train, X_test, and y_test are already defined and loaded\n",
        "X_train <- clean_names(X_train)\n",
        "X_test <- clean_names(X_test)\n",
        "\n",
        "# Ensure y_train and y_test are factors for classification tasks\n",
        "y_train <- as.factor(y_train)\n",
        "y_test <- as.factor(y_test)\n",
        "\n",
        "# Set seed for reproducibility\n",
        "set.seed(123)\n",
        "\n",
        "# Set up parallel processing\n",
        "cl <- makePSOCKcluster(detectCores() - 1)\n",
        "registerDoParallel(cl)\n",
        "\n",
        "# Initialize a list to store models and their evaluation metrics\n",
        "models <- list()\n",
        "evaluation <- data.frame(Model = character(), Accuracy = numeric(), F1 = numeric(), stringsAsFactors = FALSE)\n",
        "\n",
        "# Gaussian Naive Bayes\n",
        "gnb_model <- foreach(i = 1, .packages = 'klaR') %dopar% {\n",
        "  NaiveBayes(y_train ~ ., data = data.frame(X_train, y_train), usekernel = FALSE)\n",
        "}\n",
        "pred_gnb <- predict(gnb_model[[1]], X_test)$class\n",
        "acc_gnb <- sum(pred_gnb == y_test) / length(y_test)\n",
        "f1_gnb <- F1_Score(y_true = y_test, y_pred = pred_gnb, positive = levels(y_test)[1])\n",
        "models$gnb <- gnb_model[[1]]\n",
        "evaluation <- rbind(evaluation, data.frame(Model = \"Gaussian Naive Bayes\", Accuracy = acc_gnb, F1 = f1_gnb))\n",
        "\n",
        "# Complement Naive Bayes\n",
        "cnb_model <- foreach(i = 1, .packages = 'klaR') %dopar% {\n",
        "  NaiveBayes(y_train ~ ., data = data.frame(X_train, y_train), usekernel = FALSE)\n",
        "}\n",
        "pred_cnb <- predict(cnb_model[[1]], X_test)$class\n",
        "acc_cnb <- sum(pred_cnb == y_test) / length(y_test)\n",
        "f1_cnb <- F1_Score(y_true = y_test, y_pred = pred_cnb, positive = levels(y_test)[1])\n",
        "models$cnb <- cnb_model[[1]]\n",
        "evaluation <- rbind(evaluation, data.frame(Model = \"Complement Naive Bayes\", Accuracy = acc_cnb, F1 = f1_cnb))\n",
        "\n",
        "# Stop parallel processing\n",
        "stopCluster(cl)\n",
        "registerDoSEQ()\n",
        "\n",
        "# Print evaluation results\n",
        "print(evaluation)\n"
      ],
      "metadata": {
        "id": "7fJ2cAIxvTHd",
        "colab": {
          "base_uri": "https://localhost:8080/"
        },
        "outputId": "05410a10-2095-4b09-fe61-cf68aec207ed"
      },
      "execution_count": null,
      "outputs": [
        {
          "output_type": "stream",
          "name": "stderr",
          "text": [
            "Installing package into ‘/usr/local/lib/R/site-library’\n",
            "(as ‘lib’ is unspecified)\n",
            "\n",
            "\n",
            "doParallel installed\n",
            "\n",
            "Warning message in FUN(X[[i]], ...):\n",
            "“Numerical 0 probability for all classes with observation 54”\n",
            "Warning message in FUN(X[[i]], ...):\n",
            "“Numerical 0 probability for all classes with observation 174”\n",
            "Warning message in FUN(X[[i]], ...):\n",
            "“Numerical 0 probability for all classes with observation 228”\n",
            "Warning message in FUN(X[[i]], ...):\n",
            "“Numerical 0 probability for all classes with observation 260”\n",
            "Warning message in FUN(X[[i]], ...):\n",
            "“Numerical 0 probability for all classes with observation 261”\n",
            "Warning message in FUN(X[[i]], ...):\n",
            "“Numerical 0 probability for all classes with observation 296”\n",
            "Warning message in FUN(X[[i]], ...):\n",
            "“Numerical 0 probability for all classes with observation 330”\n",
            "Warning message in FUN(X[[i]], ...):\n",
            "“Numerical 0 probability for all classes with observation 342”\n",
            "Warning message in FUN(X[[i]], ...):\n",
            "“Numerical 0 probability for all classes with observation 344”\n",
            "Warning message in FUN(X[[i]], ...):\n",
            "“Numerical 0 probability for all classes with observation 362”\n",
            "Warning message in FUN(X[[i]], ...):\n",
            "“Numerical 0 probability for all classes with observation 383”\n",
            "Warning message in FUN(X[[i]], ...):\n",
            "“Numerical 0 probability for all classes with observation 395”\n",
            "Warning message in FUN(X[[i]], ...):\n",
            "“Numerical 0 probability for all classes with observation 443”\n",
            "Warning message in FUN(X[[i]], ...):\n",
            "“Numerical 0 probability for all classes with observation 493”\n",
            "Warning message in FUN(X[[i]], ...):\n",
            "“Numerical 0 probability for all classes with observation 498”\n",
            "Warning message in FUN(X[[i]], ...):\n",
            "“Numerical 0 probability for all classes with observation 574”\n",
            "Warning message in FUN(X[[i]], ...):\n",
            "“Numerical 0 probability for all classes with observation 578”\n",
            "Warning message in FUN(X[[i]], ...):\n",
            "“Numerical 0 probability for all classes with observation 587”\n",
            "Warning message in FUN(X[[i]], ...):\n",
            "“Numerical 0 probability for all classes with observation 594”\n",
            "Warning message in FUN(X[[i]], ...):\n",
            "“Numerical 0 probability for all classes with observation 599”\n",
            "Warning message in FUN(X[[i]], ...):\n",
            "“Numerical 0 probability for all classes with observation 616”\n",
            "Warning message in FUN(X[[i]], ...):\n",
            "“Numerical 0 probability for all classes with observation 619”\n",
            "Warning message in FUN(X[[i]], ...):\n",
            "“Numerical 0 probability for all classes with observation 620”\n",
            "Warning message in FUN(X[[i]], ...):\n",
            "“Numerical 0 probability for all classes with observation 627”\n",
            "Warning message in FUN(X[[i]], ...):\n",
            "“Numerical 0 probability for all classes with observation 635”\n",
            "Warning message in FUN(X[[i]], ...):\n",
            "“Numerical 0 probability for all classes with observation 636”\n",
            "Warning message in FUN(X[[i]], ...):\n",
            "“Numerical 0 probability for all classes with observation 637”\n",
            "Warning message in FUN(X[[i]], ...):\n",
            "“Numerical 0 probability for all classes with observation 645”\n",
            "Warning message in FUN(X[[i]], ...):\n",
            "“Numerical 0 probability for all classes with observation 649”\n",
            "Warning message in FUN(X[[i]], ...):\n",
            "“Numerical 0 probability for all classes with observation 652”\n",
            "Warning message in FUN(X[[i]], ...):\n",
            "“Numerical 0 probability for all classes with observation 693”\n",
            "Warning message in FUN(X[[i]], ...):\n",
            "“Numerical 0 probability for all classes with observation 694”\n",
            "Warning message in FUN(X[[i]], ...):\n",
            "“Numerical 0 probability for all classes with observation 701”\n",
            "Warning message in FUN(X[[i]], ...):\n",
            "“Numerical 0 probability for all classes with observation 702”\n",
            "Warning message in FUN(X[[i]], ...):\n",
            "“Numerical 0 probability for all classes with observation 711”\n",
            "Warning message in FUN(X[[i]], ...):\n",
            "“Numerical 0 probability for all classes with observation 719”\n",
            "Warning message in FUN(X[[i]], ...):\n",
            "“Numerical 0 probability for all classes with observation 724”\n",
            "Warning message in FUN(X[[i]], ...):\n",
            "“Numerical 0 probability for all classes with observation 735”\n",
            "Warning message in FUN(X[[i]], ...):\n",
            "“Numerical 0 probability for all classes with observation 748”\n",
            "Warning message in FUN(X[[i]], ...):\n",
            "“Numerical 0 probability for all classes with observation 762”\n",
            "Warning message in FUN(X[[i]], ...):\n",
            "“Numerical 0 probability for all classes with observation 767”\n",
            "Warning message in FUN(X[[i]], ...):\n",
            "“Numerical 0 probability for all classes with observation 785”\n",
            "Warning message in FUN(X[[i]], ...):\n",
            "“Numerical 0 probability for all classes with observation 789”\n",
            "Warning message in FUN(X[[i]], ...):\n",
            "“Numerical 0 probability for all classes with observation 813”\n",
            "Warning message in FUN(X[[i]], ...):\n",
            "“Numerical 0 probability for all classes with observation 824”\n",
            "Warning message in FUN(X[[i]], ...):\n",
            "“Numerical 0 probability for all classes with observation 832”\n",
            "Warning message in FUN(X[[i]], ...):\n",
            "“Numerical 0 probability for all classes with observation 851”\n",
            "Warning message in FUN(X[[i]], ...):\n",
            "“Numerical 0 probability for all classes with observation 860”\n",
            "Warning message in FUN(X[[i]], ...):\n",
            "“Numerical 0 probability for all classes with observation 869”\n",
            "Warning message in FUN(X[[i]], ...):\n",
            "“Numerical 0 probability for all classes with observation 54”\n",
            "Warning message in FUN(X[[i]], ...):\n",
            "“Numerical 0 probability for all classes with observation 174”\n",
            "Warning message in FUN(X[[i]], ...):\n",
            "“Numerical 0 probability for all classes with observation 228”\n",
            "Warning message in FUN(X[[i]], ...):\n",
            "“Numerical 0 probability for all classes with observation 260”\n",
            "Warning message in FUN(X[[i]], ...):\n",
            "“Numerical 0 probability for all classes with observation 261”\n",
            "Warning message in FUN(X[[i]], ...):\n",
            "“Numerical 0 probability for all classes with observation 296”\n",
            "Warning message in FUN(X[[i]], ...):\n",
            "“Numerical 0 probability for all classes with observation 330”\n",
            "Warning message in FUN(X[[i]], ...):\n",
            "“Numerical 0 probability for all classes with observation 342”\n",
            "Warning message in FUN(X[[i]], ...):\n",
            "“Numerical 0 probability for all classes with observation 344”\n",
            "Warning message in FUN(X[[i]], ...):\n",
            "“Numerical 0 probability for all classes with observation 362”\n",
            "Warning message in FUN(X[[i]], ...):\n",
            "“Numerical 0 probability for all classes with observation 383”\n",
            "Warning message in FUN(X[[i]], ...):\n",
            "“Numerical 0 probability for all classes with observation 395”\n",
            "Warning message in FUN(X[[i]], ...):\n",
            "“Numerical 0 probability for all classes with observation 443”\n",
            "Warning message in FUN(X[[i]], ...):\n",
            "“Numerical 0 probability for all classes with observation 493”\n",
            "Warning message in FUN(X[[i]], ...):\n",
            "“Numerical 0 probability for all classes with observation 498”\n",
            "Warning message in FUN(X[[i]], ...):\n",
            "“Numerical 0 probability for all classes with observation 574”\n",
            "Warning message in FUN(X[[i]], ...):\n",
            "“Numerical 0 probability for all classes with observation 578”\n",
            "Warning message in FUN(X[[i]], ...):\n",
            "“Numerical 0 probability for all classes with observation 587”\n",
            "Warning message in FUN(X[[i]], ...):\n",
            "“Numerical 0 probability for all classes with observation 594”\n",
            "Warning message in FUN(X[[i]], ...):\n",
            "“Numerical 0 probability for all classes with observation 599”\n",
            "Warning message in FUN(X[[i]], ...):\n",
            "“Numerical 0 probability for all classes with observation 616”\n",
            "Warning message in FUN(X[[i]], ...):\n",
            "“Numerical 0 probability for all classes with observation 619”\n",
            "Warning message in FUN(X[[i]], ...):\n",
            "“Numerical 0 probability for all classes with observation 620”\n",
            "Warning message in FUN(X[[i]], ...):\n",
            "“Numerical 0 probability for all classes with observation 627”\n",
            "Warning message in FUN(X[[i]], ...):\n",
            "“Numerical 0 probability for all classes with observation 635”\n",
            "Warning message in FUN(X[[i]], ...):\n",
            "“Numerical 0 probability for all classes with observation 636”\n",
            "Warning message in FUN(X[[i]], ...):\n",
            "“Numerical 0 probability for all classes with observation 637”\n",
            "Warning message in FUN(X[[i]], ...):\n",
            "“Numerical 0 probability for all classes with observation 645”\n",
            "Warning message in FUN(X[[i]], ...):\n",
            "“Numerical 0 probability for all classes with observation 649”\n",
            "Warning message in FUN(X[[i]], ...):\n",
            "“Numerical 0 probability for all classes with observation 652”\n",
            "Warning message in FUN(X[[i]], ...):\n",
            "“Numerical 0 probability for all classes with observation 693”\n",
            "Warning message in FUN(X[[i]], ...):\n",
            "“Numerical 0 probability for all classes with observation 694”\n",
            "Warning message in FUN(X[[i]], ...):\n",
            "“Numerical 0 probability for all classes with observation 701”\n",
            "Warning message in FUN(X[[i]], ...):\n",
            "“Numerical 0 probability for all classes with observation 702”\n",
            "Warning message in FUN(X[[i]], ...):\n",
            "“Numerical 0 probability for all classes with observation 711”\n",
            "Warning message in FUN(X[[i]], ...):\n",
            "“Numerical 0 probability for all classes with observation 719”\n",
            "Warning message in FUN(X[[i]], ...):\n",
            "“Numerical 0 probability for all classes with observation 724”\n",
            "Warning message in FUN(X[[i]], ...):\n",
            "“Numerical 0 probability for all classes with observation 735”\n",
            "Warning message in FUN(X[[i]], ...):\n",
            "“Numerical 0 probability for all classes with observation 748”\n",
            "Warning message in FUN(X[[i]], ...):\n",
            "“Numerical 0 probability for all classes with observation 762”\n",
            "Warning message in FUN(X[[i]], ...):\n",
            "“Numerical 0 probability for all classes with observation 767”\n",
            "Warning message in FUN(X[[i]], ...):\n",
            "“Numerical 0 probability for all classes with observation 785”\n",
            "Warning message in FUN(X[[i]], ...):\n",
            "“Numerical 0 probability for all classes with observation 789”\n",
            "Warning message in FUN(X[[i]], ...):\n",
            "“Numerical 0 probability for all classes with observation 813”\n",
            "Warning message in FUN(X[[i]], ...):\n",
            "“Numerical 0 probability for all classes with observation 824”\n",
            "Warning message in FUN(X[[i]], ...):\n",
            "“Numerical 0 probability for all classes with observation 832”\n",
            "Warning message in FUN(X[[i]], ...):\n",
            "“Numerical 0 probability for all classes with observation 851”\n",
            "Warning message in FUN(X[[i]], ...):\n",
            "“Numerical 0 probability for all classes with observation 860”\n",
            "Warning message in FUN(X[[i]], ...):\n",
            "“Numerical 0 probability for all classes with observation 869”\n"
          ]
        },
        {
          "output_type": "stream",
          "name": "stdout",
          "text": [
            "                   Model  Accuracy        F1\n",
            "1   Gaussian Naive Bayes 0.5062714 0.4517375\n",
            "2 Complement Naive Bayes 0.5062714 0.4517375\n"
          ]
        }
      ]
    },
    {
      "cell_type": "markdown",
      "source": [
        "The more advanced algorithm still performs the same as the basic Naive Bayes. Performance is assumed the best in the Naive Bayes algorithm"
      ],
      "metadata": {
        "id": "381RKrf-9MMZ"
      }
    },
    {
      "cell_type": "markdown",
      "source": [
        "#### 5.1.6 Feature Engineering to Enhance Performance"
      ],
      "metadata": {
        "id": "IQKCk53N9ZTE"
      }
    },
    {
      "cell_type": "code",
      "source": [
        "X_train$GroundCabinService = (X_train$GroundService + X_train$CabinStaffService) / 2\n",
        "X_test$GroundCabinService = (X_test$GroundService + X_test$CabinStaffService) / 2"
      ],
      "metadata": {
        "id": "y_SMKgSk9fRQ"
      },
      "execution_count": null,
      "outputs": []
    },
    {
      "cell_type": "code",
      "source": [
        "# Load required libraries\n",
        "\n",
        "pacman::p_load(nnet,naivebayes,e1071,rpart,randomForest,MLmetrics, caret)\n",
        "\n",
        "# Function to clean column names to ensure they are valid R variable names\n",
        "clean_names <- function(df) {\n",
        "  colnames(df) <- make.names(colnames(df), unique = TRUE)\n",
        "  return(df)\n",
        "}\n",
        "\n",
        "# Assuming X_train, y_train, X_test, and y_test are already defined and loaded\n",
        "X_train <- clean_names(X_train)\n",
        "X_test <- clean_names(X_test)\n",
        "\n",
        "# Ensure y_train and y_test are factors for classification tasks\n",
        "y_train <- as.factor(y_train)\n",
        "y_test <- as.factor(y_test)\n",
        "\n",
        "# Set seed for reproducibility\n",
        "set.seed(123)\n",
        "\n",
        "# Initialize a list to store models and their evaluation metrics\n",
        "models <- list()\n",
        "evaluation <- data.frame(Model = character(), Accuracy = numeric(), F1 = numeric(), stringsAsFactors = FALSE)\n",
        "\n",
        "# Multinomial Logistic Regression\n",
        "multinom_model <- multinom(y_train ~ ., data = data.frame(X_train, y_train))\n",
        "pred_multinom <- predict(multinom_model, X_test)\n",
        "acc_multinom <- sum(pred_multinom == y_test) / length(y_test)\n",
        "f1_multinom <- F1_Score(y_true = y_test, y_pred = pred_multinom, positive = levels(y_test)[1])\n",
        "models$multinom <- multinom_model\n",
        "evaluation <- rbind(evaluation, data.frame(Model = \"Multinomial Logistic Regression\", Accuracy = acc_multinom, F1 = f1_multinom))\n",
        "\n",
        "# Support Vector Machines (SVM)\n",
        "svm_model <- svm(y_train ~ ., data = data.frame(X_train, y_train), kernel = \"linear\", probability = TRUE)\n",
        "pred_svm <- predict(svm_model, X_test)\n",
        "acc_svm <- sum(pred_svm == y_test) / length(y_test)\n",
        "f1_svm <- F1_Score(y_true = y_test, y_pred = pred_svm, positive = levels(y_test)[1])\n",
        "models$svm <- svm_model\n",
        "evaluation <- rbind(evaluation, data.frame(Model = \"SVM\", Accuracy = acc_svm, F1 = f1_svm))\n",
        "\n",
        "# Naive Bayes\n",
        "nb_model <- naive_bayes(y_train ~ ., data = data.frame(X_train, y_train))\n",
        "pred_nb <- predict(nb_model, X_test)\n",
        "acc_nb <- sum(pred_nb == y_test) / length(y_test)\n",
        "f1_nb <- F1_Score(y_true = y_test, y_pred = pred_nb, positive = levels(y_test)[1])\n",
        "models$nb <- nb_model\n",
        "evaluation <- rbind(evaluation, data.frame(Model = \"Naive Bayes\", Accuracy = acc_nb, F1 = f1_nb))\n",
        "\n",
        "# K-Nearest Neighbors (KNN)\n",
        "knn_model <- train(y_train ~ ., data = data.frame(X_train, y_train), method = \"knn\", tuneLength = 5)\n",
        "pred_knn <- predict(knn_model, X_test)\n",
        "acc_knn <- sum(pred_knn == y_test) / length(y_test)\n",
        "f1_knn <- F1_Score(y_true = y_test, y_pred = pred_knn, positive = levels(y_test)[1])\n",
        "models$knn <- knn_model\n",
        "evaluation <- rbind(evaluation, data.frame(Model = \"KNN\", Accuracy = acc_knn, F1 = f1_knn))\n",
        "\n",
        "# Decision Tree\n",
        "dt_model <- rpart(y_train ~ ., data = data.frame(X_train, y_train))\n",
        "pred_dt <- predict(dt_model, X_test, type = \"class\")\n",
        "acc_dt <- sum(pred_dt == y_test) / length(y_test)\n",
        "f1_dt <- F1_Score(y_true = y_test, y_pred = pred_dt, positive = levels(y_test)[1])\n",
        "models$dt <- dt_model\n",
        "evaluation <- rbind(evaluation, data.frame(Model = \"Decision Tree\", Accuracy = acc_dt, F1 = f1_dt))\n",
        "\n",
        "# Random Forest\n",
        "rf_model <- randomForest(y_train ~ ., data = data.frame(X_train, y_train), ntree = 100)\n",
        "pred_rf <- predict(rf_model, X_test)\n",
        "acc_rf <- sum(pred_rf == y_test) / length(y_test)\n",
        "f1_rf <- F1_Score(y_true = y_test, y_pred = pred_rf, positive = levels(y_test)[1])\n",
        "models$rf <- rf_model\n",
        "evaluation <- rbind(evaluation, data.frame(Model = \"Random Forest\", Accuracy = acc_rf, F1 = f1_rf))\n",
        "\n",
        "# Print evaluation results\n",
        "print(evaluation)\n"
      ],
      "metadata": {
        "id": "94PIT5PZ9w86",
        "colab": {
          "base_uri": "https://localhost:8080/"
        },
        "outputId": "0e4971cf-79c5-451a-f941-0c019a5b0584"
      },
      "execution_count": null,
      "outputs": [
        {
          "output_type": "stream",
          "name": "stdout",
          "text": [
            "# weights:  36 (22 variable)\n",
            "initial  value 2254.352416 \n",
            "iter  10 value 1981.437032\n",
            "iter  20 value 1959.520376\n",
            "final  value 1956.793479 \n",
            "converged\n",
            "                            Model  Accuracy        F1\n",
            "1 Multinomial Logistic Regression 0.5324971 0.3981693\n",
            "2                             SVM 0.5017104 0.1025641\n",
            "3                     Naive Bayes 0.5062714 0.4517375\n",
            "4                             KNN 0.5313569 0.4128257\n",
            "5                   Decision Tree 0.5108324       NaN\n",
            "6                   Random Forest 0.5199544 0.3861171\n"
          ]
        }
      ]
    },
    {
      "cell_type": "markdown",
      "source": [
        "Performance does not show a signficant increase with feature engineering."
      ],
      "metadata": {
        "id": "Q--sH-9L-DJO"
      }
    },
    {
      "cell_type": "markdown",
      "source": [
        "#### 5.1.7 Boosting Performance through Voting Ensemble"
      ],
      "metadata": {
        "id": "dS4nTAbJqWRC"
      }
    },
    {
      "cell_type": "code",
      "source": [
        "install.packages('caretEnsemble')"
      ],
      "metadata": {
        "colab": {
          "base_uri": "https://localhost:8080/"
        },
        "id": "97GVSC0erVA5",
        "outputId": "8098aa26-a9ea-4711-c2d4-766596f43e0f"
      },
      "execution_count": null,
      "outputs": [
        {
          "output_type": "stream",
          "name": "stderr",
          "text": [
            "Installing package into ‘/usr/local/lib/R/site-library’\n",
            "(as ‘lib’ is unspecified)\n",
            "\n",
            "also installing the dependency ‘pbapply’\n",
            "\n",
            "\n"
          ]
        }
      ]
    },
    {
      "cell_type": "code",
      "source": [
        "install.packages(\"kernlab\")"
      ],
      "metadata": {
        "colab": {
          "base_uri": "https://localhost:8080/"
        },
        "id": "dXvaHcr4uFst",
        "outputId": "c675a156-0781-45cf-daf6-0a2917d06b9a"
      },
      "execution_count": null,
      "outputs": [
        {
          "output_type": "stream",
          "name": "stderr",
          "text": [
            "Installing package into ‘/usr/local/lib/R/site-library’\n",
            "(as ‘lib’ is unspecified)\n",
            "\n"
          ]
        }
      ]
    },
    {
      "cell_type": "code",
      "source": [
        "library(caret)\n",
        "library(randomForest)\n",
        "library(MLmetrics)\n",
        "library(klaR)\n",
        "library(kernlab)\n",
        "\n",
        "# Assuming X_train, y_train, X_test, and y_test are already loaded in your environment\n",
        "\n",
        "# Combine X_train and y_train into a single training dataset\n",
        "trainData <- data.frame(X_train, target = y_train)\n",
        "testData <- data.frame(X_test, target = y_test)\n",
        "\n",
        "# Convert target to a factor if it's a classification problem\n",
        "trainData$target <- as.factor(trainData$target)\n",
        "testData$target <- as.factor(testData$target)\n",
        "\n",
        "# Define control function for training with hyperparameter tuning\n",
        "control <- trainControl(method = \"cv\", number = 5, savePredictions = \"final\",\n",
        "                        classProbs = TRUE, summaryFunction = multiClassSummary,\n",
        "                        allowParallel = TRUE)\n",
        "\n",
        "# Train base models\n",
        "model_nb <- train(target ~ ., data = trainData, method = \"nb\", trControl = control)\n",
        "model_knn <- train(target ~ ., data = trainData, method = \"knn\", trControl = control)\n",
        "model_rf <- train(target ~ ., data = trainData, method = \"rf\", trControl = control)\n",
        "model_svm <- train(target ~ ., data = trainData, method = \"svmRadial\", trControl = control)\n",
        "\n",
        "# Create a new training dataset for the meta-model using predictions from base models\n",
        "meta_train <- data.frame(\n",
        "  nb = predict(model_nb, newdata = trainData, type = \"prob\"),\n",
        "  knn = predict(model_knn, newdata = trainData, type = \"prob\"),\n",
        "  rf = predict(model_rf, newdata = trainData, type = \"prob\"),\n",
        "  svm = predict(model_svm, newdata = trainData, type = \"prob\"),\n",
        "  target = trainData$target\n",
        ")\n",
        "\n",
        "# Train the meta-model (using randomForest for example)\n",
        "meta_control <- trainControl(method = \"cv\", number = 5, classProbs = TRUE, summaryFunction = multiClassSummary)\n",
        "meta_model <- train(target ~ ., data = meta_train, method = \"rf\", trControl = meta_control)\n",
        "\n",
        "# Create a new test dataset for the meta-model using predictions from base models\n",
        "meta_test <- data.frame(\n",
        "  nb = predict(model_nb, newdata = testData, type = \"prob\"),\n",
        "  knn = predict(model_knn, newdata = testData, type = \"prob\"),\n",
        "  rf = predict(model_rf, newdata = testData, type = \"prob\"),\n",
        "  svm = predict(model_svm, newdata = testData, type = \"prob\")\n",
        ")\n",
        "\n",
        "# Predict on test data using the meta-model\n",
        "stacked_predictions <- predict(meta_model, newdata = meta_test)\n",
        "\n",
        "# Evaluate performance\n",
        "confMatrix <- confusionMatrix(stacked_predictions, testData$target)\n",
        "accuracy <- confMatrix$overall['Accuracy']\n",
        "\n",
        "# Calculate F1 score for each class and then average\n",
        "f1_scores <- sapply(levels(testData$target), function(class) {\n",
        "  F1_Score(y_true = testData$target, y_pred = stacked_predictions, positive = class)\n",
        "})\n",
        "f1_score <- mean(f1_scores)\n",
        "\n",
        "# Output the results\n",
        "print(paste(\"Accuracy: \", accuracy))\n",
        "print(paste(\"F1 Score: \", f1_score))\n"
      ],
      "metadata": {
        "colab": {
          "base_uri": "https://localhost:8080/"
        },
        "collapsed": true,
        "id": "oOYOGWPJqVZS",
        "outputId": "f82e865e-2bfe-4469-e537-036f832891fc"
      },
      "execution_count": null,
      "outputs": [
        {
          "output_type": "stream",
          "name": "stderr",
          "text": [
            "Warning message in FUN(X[[i]], ...):\n",
            "“Numerical 0 probability for all classes with observation 23”\n",
            "Warning message in FUN(X[[i]], ...):\n",
            "“Numerical 0 probability for all classes with observation 29”\n",
            "Warning message in FUN(X[[i]], ...):\n",
            "“Numerical 0 probability for all classes with observation 43”\n",
            "Warning message in FUN(X[[i]], ...):\n",
            "“Numerical 0 probability for all classes with observation 46”\n",
            "Warning message in FUN(X[[i]], ...):\n",
            "“Numerical 0 probability for all classes with observation 79”\n",
            "Warning message in FUN(X[[i]], ...):\n",
            "“Numerical 0 probability for all classes with observation 90”\n",
            "Warning message in FUN(X[[i]], ...):\n",
            "“Numerical 0 probability for all classes with observation 105”\n",
            "Warning message in FUN(X[[i]], ...):\n",
            "“Numerical 0 probability for all classes with observation 113”\n",
            "Warning message in FUN(X[[i]], ...):\n",
            "“Numerical 0 probability for all classes with observation 129”\n",
            "Warning message in FUN(X[[i]], ...):\n",
            "“Numerical 0 probability for all classes with observation 133”\n",
            "Warning message in FUN(X[[i]], ...):\n",
            "“Numerical 0 probability for all classes with observation 143”\n",
            "Warning message in FUN(X[[i]], ...):\n",
            "“Numerical 0 probability for all classes with observation 152”\n",
            "Warning message in FUN(X[[i]], ...):\n",
            "“Numerical 0 probability for all classes with observation 156”\n",
            "Warning message in FUN(X[[i]], ...):\n",
            "“Numerical 0 probability for all classes with observation 157”\n",
            "Warning message in FUN(X[[i]], ...):\n",
            "“Numerical 0 probability for all classes with observation 174”\n",
            "Warning message in FUN(X[[i]], ...):\n",
            "“Numerical 0 probability for all classes with observation 177”\n",
            "Warning message in FUN(X[[i]], ...):\n",
            "“Numerical 0 probability for all classes with observation 179”\n",
            "Warning message in FUN(X[[i]], ...):\n",
            "“Numerical 0 probability for all classes with observation 188”\n",
            "Warning message in FUN(X[[i]], ...):\n",
            "“Numerical 0 probability for all classes with observation 220”\n",
            "Warning message in FUN(X[[i]], ...):\n",
            "“Numerical 0 probability for all classes with observation 259”\n",
            "Warning message in FUN(X[[i]], ...):\n",
            "“Numerical 0 probability for all classes with observation 260”\n",
            "Warning message in FUN(X[[i]], ...):\n",
            "“Numerical 0 probability for all classes with observation 272”\n",
            "Warning message in FUN(X[[i]], ...):\n",
            "“Numerical 0 probability for all classes with observation 275”\n",
            "Warning message in FUN(X[[i]], ...):\n",
            "“Numerical 0 probability for all classes with observation 277”\n",
            "Warning message in FUN(X[[i]], ...):\n",
            "“Numerical 0 probability for all classes with observation 279”\n",
            "Warning message in FUN(X[[i]], ...):\n",
            "“Numerical 0 probability for all classes with observation 280”\n",
            "Warning message in FUN(X[[i]], ...):\n",
            "“Numerical 0 probability for all classes with observation 296”\n",
            "Warning message in FUN(X[[i]], ...):\n",
            "“Numerical 0 probability for all classes with observation 299”\n",
            "Warning message in FUN(X[[i]], ...):\n",
            "“Numerical 0 probability for all classes with observation 300”\n",
            "Warning message in FUN(X[[i]], ...):\n",
            "“Numerical 0 probability for all classes with observation 322”\n",
            "Warning message in FUN(X[[i]], ...):\n",
            "“Numerical 0 probability for all classes with observation 327”\n",
            "Warning message in FUN(X[[i]], ...):\n",
            "“Numerical 0 probability for all classes with observation 328”\n",
            "Warning message in FUN(X[[i]], ...):\n",
            "“Numerical 0 probability for all classes with observation 351”\n",
            "Warning message in FUN(X[[i]], ...):\n",
            "“Numerical 0 probability for all classes with observation 365”\n",
            "Warning message in FUN(X[[i]], ...):\n",
            "“Numerical 0 probability for all classes with observation 387”\n",
            "Warning message in FUN(X[[i]], ...):\n",
            "“Numerical 0 probability for all classes with observation 23”\n",
            "Warning message in FUN(X[[i]], ...):\n",
            "“Numerical 0 probability for all classes with observation 29”\n",
            "Warning message in FUN(X[[i]], ...):\n",
            "“Numerical 0 probability for all classes with observation 43”\n",
            "Warning message in FUN(X[[i]], ...):\n",
            "“Numerical 0 probability for all classes with observation 46”\n",
            "Warning message in FUN(X[[i]], ...):\n",
            "“Numerical 0 probability for all classes with observation 79”\n",
            "Warning message in FUN(X[[i]], ...):\n",
            "“Numerical 0 probability for all classes with observation 90”\n",
            "Warning message in FUN(X[[i]], ...):\n",
            "“Numerical 0 probability for all classes with observation 105”\n",
            "Warning message in FUN(X[[i]], ...):\n",
            "“Numerical 0 probability for all classes with observation 113”\n",
            "Warning message in FUN(X[[i]], ...):\n",
            "“Numerical 0 probability for all classes with observation 129”\n",
            "Warning message in FUN(X[[i]], ...):\n",
            "“Numerical 0 probability for all classes with observation 133”\n",
            "Warning message in FUN(X[[i]], ...):\n",
            "“Numerical 0 probability for all classes with observation 143”\n",
            "Warning message in FUN(X[[i]], ...):\n",
            "“Numerical 0 probability for all classes with observation 152”\n",
            "Warning message in FUN(X[[i]], ...):\n",
            "“Numerical 0 probability for all classes with observation 156”\n",
            "Warning message in FUN(X[[i]], ...):\n",
            "“Numerical 0 probability for all classes with observation 157”\n",
            "Warning message in FUN(X[[i]], ...):\n",
            "“Numerical 0 probability for all classes with observation 174”\n",
            "Warning message in FUN(X[[i]], ...):\n",
            "“Numerical 0 probability for all classes with observation 177”\n",
            "Warning message in FUN(X[[i]], ...):\n",
            "“Numerical 0 probability for all classes with observation 179”\n",
            "Warning message in FUN(X[[i]], ...):\n",
            "“Numerical 0 probability for all classes with observation 188”\n",
            "Warning message in FUN(X[[i]], ...):\n",
            "“Numerical 0 probability for all classes with observation 220”\n",
            "Warning message in FUN(X[[i]], ...):\n",
            "“Numerical 0 probability for all classes with observation 259”\n",
            "Warning message in FUN(X[[i]], ...):\n",
            "“Numerical 0 probability for all classes with observation 260”\n",
            "Warning message in FUN(X[[i]], ...):\n",
            "“Numerical 0 probability for all classes with observation 272”\n",
            "Warning message in FUN(X[[i]], ...):\n",
            "“Numerical 0 probability for all classes with observation 275”\n",
            "Warning message in FUN(X[[i]], ...):\n",
            "“Numerical 0 probability for all classes with observation 277”\n",
            "Warning message in FUN(X[[i]], ...):\n",
            "“Numerical 0 probability for all classes with observation 279”\n",
            "Warning message in FUN(X[[i]], ...):\n",
            "“Numerical 0 probability for all classes with observation 280”\n",
            "Warning message in FUN(X[[i]], ...):\n",
            "“Numerical 0 probability for all classes with observation 296”\n",
            "Warning message in FUN(X[[i]], ...):\n",
            "“Numerical 0 probability for all classes with observation 299”\n",
            "Warning message in FUN(X[[i]], ...):\n",
            "“Numerical 0 probability for all classes with observation 300”\n",
            "Warning message in FUN(X[[i]], ...):\n",
            "“Numerical 0 probability for all classes with observation 322”\n",
            "Warning message in FUN(X[[i]], ...):\n",
            "“Numerical 0 probability for all classes with observation 327”\n",
            "Warning message in FUN(X[[i]], ...):\n",
            "“Numerical 0 probability for all classes with observation 328”\n",
            "Warning message in FUN(X[[i]], ...):\n",
            "“Numerical 0 probability for all classes with observation 351”\n",
            "Warning message in FUN(X[[i]], ...):\n",
            "“Numerical 0 probability for all classes with observation 365”\n",
            "Warning message in FUN(X[[i]], ...):\n",
            "“Numerical 0 probability for all classes with observation 387”\n",
            "Warning message in FUN(X[[i]], ...):\n",
            "“Numerical 0 probability for all classes with observation 58”\n",
            "Warning message in FUN(X[[i]], ...):\n",
            "“Numerical 0 probability for all classes with observation 72”\n",
            "Warning message in FUN(X[[i]], ...):\n",
            "“Numerical 0 probability for all classes with observation 99”\n",
            "Warning message in FUN(X[[i]], ...):\n",
            "“Numerical 0 probability for all classes with observation 137”\n",
            "Warning message in FUN(X[[i]], ...):\n",
            "“Numerical 0 probability for all classes with observation 146”\n",
            "Warning message in FUN(X[[i]], ...):\n",
            "“Numerical 0 probability for all classes with observation 148”\n",
            "Warning message in FUN(X[[i]], ...):\n",
            "“Numerical 0 probability for all classes with observation 152”\n",
            "Warning message in FUN(X[[i]], ...):\n",
            "“Numerical 0 probability for all classes with observation 158”\n",
            "Warning message in FUN(X[[i]], ...):\n",
            "“Numerical 0 probability for all classes with observation 180”\n",
            "Warning message in FUN(X[[i]], ...):\n",
            "“Numerical 0 probability for all classes with observation 198”\n",
            "Warning message in FUN(X[[i]], ...):\n",
            "“Numerical 0 probability for all classes with observation 203”\n",
            "Warning message in FUN(X[[i]], ...):\n",
            "“Numerical 0 probability for all classes with observation 208”\n",
            "Warning message in FUN(X[[i]], ...):\n",
            "“Numerical 0 probability for all classes with observation 212”\n",
            "Warning message in FUN(X[[i]], ...):\n",
            "“Numerical 0 probability for all classes with observation 220”\n",
            "Warning message in FUN(X[[i]], ...):\n",
            "“Numerical 0 probability for all classes with observation 237”\n",
            "Warning message in FUN(X[[i]], ...):\n",
            "“Numerical 0 probability for all classes with observation 244”\n",
            "Warning message in FUN(X[[i]], ...):\n",
            "“Numerical 0 probability for all classes with observation 255”\n",
            "Warning message in FUN(X[[i]], ...):\n",
            "“Numerical 0 probability for all classes with observation 256”\n",
            "Warning message in FUN(X[[i]], ...):\n",
            "“Numerical 0 probability for all classes with observation 281”\n",
            "Warning message in FUN(X[[i]], ...):\n",
            "“Numerical 0 probability for all classes with observation 283”\n",
            "Warning message in FUN(X[[i]], ...):\n",
            "“Numerical 0 probability for all classes with observation 287”\n",
            "Warning message in FUN(X[[i]], ...):\n",
            "“Numerical 0 probability for all classes with observation 294”\n",
            "Warning message in FUN(X[[i]], ...):\n",
            "“Numerical 0 probability for all classes with observation 301”\n",
            "Warning message in FUN(X[[i]], ...):\n",
            "“Numerical 0 probability for all classes with observation 313”\n",
            "Warning message in FUN(X[[i]], ...):\n",
            "“Numerical 0 probability for all classes with observation 318”\n",
            "Warning message in FUN(X[[i]], ...):\n",
            "“Numerical 0 probability for all classes with observation 326”\n",
            "Warning message in FUN(X[[i]], ...):\n",
            "“Numerical 0 probability for all classes with observation 334”\n",
            "Warning message in FUN(X[[i]], ...):\n",
            "“Numerical 0 probability for all classes with observation 361”\n",
            "Warning message in FUN(X[[i]], ...):\n",
            "“Numerical 0 probability for all classes with observation 391”\n",
            "Warning message in FUN(X[[i]], ...):\n",
            "“Numerical 0 probability for all classes with observation 396”\n",
            "Warning message in FUN(X[[i]], ...):\n",
            "“Numerical 0 probability for all classes with observation 398”\n",
            "Warning message in FUN(X[[i]], ...):\n",
            "“Numerical 0 probability for all classes with observation 58”\n",
            "Warning message in FUN(X[[i]], ...):\n",
            "“Numerical 0 probability for all classes with observation 72”\n",
            "Warning message in FUN(X[[i]], ...):\n",
            "“Numerical 0 probability for all classes with observation 99”\n",
            "Warning message in FUN(X[[i]], ...):\n",
            "“Numerical 0 probability for all classes with observation 137”\n",
            "Warning message in FUN(X[[i]], ...):\n",
            "“Numerical 0 probability for all classes with observation 146”\n",
            "Warning message in FUN(X[[i]], ...):\n",
            "“Numerical 0 probability for all classes with observation 148”\n",
            "Warning message in FUN(X[[i]], ...):\n",
            "“Numerical 0 probability for all classes with observation 152”\n",
            "Warning message in FUN(X[[i]], ...):\n",
            "“Numerical 0 probability for all classes with observation 158”\n",
            "Warning message in FUN(X[[i]], ...):\n",
            "“Numerical 0 probability for all classes with observation 180”\n",
            "Warning message in FUN(X[[i]], ...):\n",
            "“Numerical 0 probability for all classes with observation 198”\n",
            "Warning message in FUN(X[[i]], ...):\n",
            "“Numerical 0 probability for all classes with observation 203”\n",
            "Warning message in FUN(X[[i]], ...):\n",
            "“Numerical 0 probability for all classes with observation 208”\n",
            "Warning message in FUN(X[[i]], ...):\n",
            "“Numerical 0 probability for all classes with observation 212”\n",
            "Warning message in FUN(X[[i]], ...):\n",
            "“Numerical 0 probability for all classes with observation 220”\n",
            "Warning message in FUN(X[[i]], ...):\n",
            "“Numerical 0 probability for all classes with observation 237”\n",
            "Warning message in FUN(X[[i]], ...):\n",
            "“Numerical 0 probability for all classes with observation 244”\n",
            "Warning message in FUN(X[[i]], ...):\n",
            "“Numerical 0 probability for all classes with observation 255”\n",
            "Warning message in FUN(X[[i]], ...):\n",
            "“Numerical 0 probability for all classes with observation 256”\n",
            "Warning message in FUN(X[[i]], ...):\n",
            "“Numerical 0 probability for all classes with observation 281”\n",
            "Warning message in FUN(X[[i]], ...):\n",
            "“Numerical 0 probability for all classes with observation 283”\n",
            "Warning message in FUN(X[[i]], ...):\n",
            "“Numerical 0 probability for all classes with observation 287”\n",
            "Warning message in FUN(X[[i]], ...):\n",
            "“Numerical 0 probability for all classes with observation 294”\n",
            "Warning message in FUN(X[[i]], ...):\n",
            "“Numerical 0 probability for all classes with observation 301”\n",
            "Warning message in FUN(X[[i]], ...):\n",
            "“Numerical 0 probability for all classes with observation 313”\n",
            "Warning message in FUN(X[[i]], ...):\n",
            "“Numerical 0 probability for all classes with observation 318”\n",
            "Warning message in FUN(X[[i]], ...):\n",
            "“Numerical 0 probability for all classes with observation 326”\n",
            "Warning message in FUN(X[[i]], ...):\n",
            "“Numerical 0 probability for all classes with observation 334”\n",
            "Warning message in FUN(X[[i]], ...):\n",
            "“Numerical 0 probability for all classes with observation 361”\n",
            "Warning message in FUN(X[[i]], ...):\n",
            "“Numerical 0 probability for all classes with observation 391”\n",
            "Warning message in FUN(X[[i]], ...):\n",
            "“Numerical 0 probability for all classes with observation 396”\n",
            "Warning message in FUN(X[[i]], ...):\n",
            "“Numerical 0 probability for all classes with observation 398”\n",
            "Warning message in FUN(X[[i]], ...):\n",
            "“Numerical 0 probability for all classes with observation 123”\n",
            "Warning message in FUN(X[[i]], ...):\n",
            "“Numerical 0 probability for all classes with observation 153”\n",
            "Warning message in FUN(X[[i]], ...):\n",
            "“Numerical 0 probability for all classes with observation 158”\n",
            "Warning message in FUN(X[[i]], ...):\n",
            "“Numerical 0 probability for all classes with observation 161”\n",
            "Warning message in FUN(X[[i]], ...):\n",
            "“Numerical 0 probability for all classes with observation 163”\n",
            "Warning message in FUN(X[[i]], ...):\n",
            "“Numerical 0 probability for all classes with observation 168”\n",
            "Warning message in FUN(X[[i]], ...):\n",
            "“Numerical 0 probability for all classes with observation 184”\n",
            "Warning message in FUN(X[[i]], ...):\n",
            "“Numerical 0 probability for all classes with observation 224”\n",
            "Warning message in FUN(X[[i]], ...):\n",
            "“Numerical 0 probability for all classes with observation 256”\n",
            "Warning message in FUN(X[[i]], ...):\n",
            "“Numerical 0 probability for all classes with observation 259”\n",
            "Warning message in FUN(X[[i]], ...):\n",
            "“Numerical 0 probability for all classes with observation 261”\n",
            "Warning message in FUN(X[[i]], ...):\n",
            "“Numerical 0 probability for all classes with observation 268”\n",
            "Warning message in FUN(X[[i]], ...):\n",
            "“Numerical 0 probability for all classes with observation 277”\n",
            "Warning message in FUN(X[[i]], ...):\n",
            "“Numerical 0 probability for all classes with observation 281”\n",
            "Warning message in FUN(X[[i]], ...):\n",
            "“Numerical 0 probability for all classes with observation 288”\n",
            "Warning message in FUN(X[[i]], ...):\n",
            "“Numerical 0 probability for all classes with observation 289”\n",
            "Warning message in FUN(X[[i]], ...):\n",
            "“Numerical 0 probability for all classes with observation 297”\n",
            "Warning message in FUN(X[[i]], ...):\n",
            "“Numerical 0 probability for all classes with observation 309”\n",
            "Warning message in FUN(X[[i]], ...):\n",
            "“Numerical 0 probability for all classes with observation 328”\n",
            "Warning message in FUN(X[[i]], ...):\n",
            "“Numerical 0 probability for all classes with observation 331”\n",
            "Warning message in FUN(X[[i]], ...):\n",
            "“Numerical 0 probability for all classes with observation 333”\n",
            "Warning message in FUN(X[[i]], ...):\n",
            "“Numerical 0 probability for all classes with observation 348”\n",
            "Warning message in FUN(X[[i]], ...):\n",
            "“Numerical 0 probability for all classes with observation 357”\n",
            "Warning message in FUN(X[[i]], ...):\n",
            "“Numerical 0 probability for all classes with observation 358”\n",
            "Warning message in FUN(X[[i]], ...):\n",
            "“Numerical 0 probability for all classes with observation 381”\n",
            "Warning message in FUN(X[[i]], ...):\n",
            "“Numerical 0 probability for all classes with observation 393”\n",
            "Warning message in FUN(X[[i]], ...):\n",
            "“Numerical 0 probability for all classes with observation 123”\n",
            "Warning message in FUN(X[[i]], ...):\n",
            "“Numerical 0 probability for all classes with observation 153”\n",
            "Warning message in FUN(X[[i]], ...):\n",
            "“Numerical 0 probability for all classes with observation 158”\n",
            "Warning message in FUN(X[[i]], ...):\n",
            "“Numerical 0 probability for all classes with observation 161”\n",
            "Warning message in FUN(X[[i]], ...):\n",
            "“Numerical 0 probability for all classes with observation 163”\n",
            "Warning message in FUN(X[[i]], ...):\n",
            "“Numerical 0 probability for all classes with observation 168”\n",
            "Warning message in FUN(X[[i]], ...):\n",
            "“Numerical 0 probability for all classes with observation 184”\n",
            "Warning message in FUN(X[[i]], ...):\n",
            "“Numerical 0 probability for all classes with observation 224”\n",
            "Warning message in FUN(X[[i]], ...):\n",
            "“Numerical 0 probability for all classes with observation 256”\n",
            "Warning message in FUN(X[[i]], ...):\n",
            "“Numerical 0 probability for all classes with observation 259”\n",
            "Warning message in FUN(X[[i]], ...):\n",
            "“Numerical 0 probability for all classes with observation 261”\n",
            "Warning message in FUN(X[[i]], ...):\n",
            "“Numerical 0 probability for all classes with observation 268”\n",
            "Warning message in FUN(X[[i]], ...):\n",
            "“Numerical 0 probability for all classes with observation 277”\n",
            "Warning message in FUN(X[[i]], ...):\n",
            "“Numerical 0 probability for all classes with observation 281”\n",
            "Warning message in FUN(X[[i]], ...):\n",
            "“Numerical 0 probability for all classes with observation 288”\n",
            "Warning message in FUN(X[[i]], ...):\n",
            "“Numerical 0 probability for all classes with observation 289”\n",
            "Warning message in FUN(X[[i]], ...):\n",
            "“Numerical 0 probability for all classes with observation 297”\n",
            "Warning message in FUN(X[[i]], ...):\n",
            "“Numerical 0 probability for all classes with observation 309”\n",
            "Warning message in FUN(X[[i]], ...):\n",
            "“Numerical 0 probability for all classes with observation 328”\n",
            "Warning message in FUN(X[[i]], ...):\n",
            "“Numerical 0 probability for all classes with observation 331”\n",
            "Warning message in FUN(X[[i]], ...):\n",
            "“Numerical 0 probability for all classes with observation 333”\n",
            "Warning message in FUN(X[[i]], ...):\n",
            "“Numerical 0 probability for all classes with observation 348”\n",
            "Warning message in FUN(X[[i]], ...):\n",
            "“Numerical 0 probability for all classes with observation 357”\n",
            "Warning message in FUN(X[[i]], ...):\n",
            "“Numerical 0 probability for all classes with observation 358”\n",
            "Warning message in FUN(X[[i]], ...):\n",
            "“Numerical 0 probability for all classes with observation 381”\n",
            "Warning message in FUN(X[[i]], ...):\n",
            "“Numerical 0 probability for all classes with observation 393”\n",
            "Warning message in FUN(X[[i]], ...):\n",
            "“Numerical 0 probability for all classes with observation 2”\n",
            "Warning message in FUN(X[[i]], ...):\n",
            "“Numerical 0 probability for all classes with observation 27”\n",
            "Warning message in FUN(X[[i]], ...):\n",
            "“Numerical 0 probability for all classes with observation 51”\n",
            "Warning message in FUN(X[[i]], ...):\n",
            "“Numerical 0 probability for all classes with observation 59”\n",
            "Warning message in FUN(X[[i]], ...):\n",
            "“Numerical 0 probability for all classes with observation 65”\n",
            "Warning message in FUN(X[[i]], ...):\n",
            "“Numerical 0 probability for all classes with observation 83”\n",
            "Warning message in FUN(X[[i]], ...):\n",
            "“Numerical 0 probability for all classes with observation 102”\n",
            "Warning message in FUN(X[[i]], ...):\n",
            "“Numerical 0 probability for all classes with observation 109”\n",
            "Warning message in FUN(X[[i]], ...):\n",
            "“Numerical 0 probability for all classes with observation 133”\n",
            "Warning message in FUN(X[[i]], ...):\n",
            "“Numerical 0 probability for all classes with observation 141”\n",
            "Warning message in FUN(X[[i]], ...):\n",
            "“Numerical 0 probability for all classes with observation 144”\n",
            "Warning message in FUN(X[[i]], ...):\n",
            "“Numerical 0 probability for all classes with observation 157”\n",
            "Warning message in FUN(X[[i]], ...):\n",
            "“Numerical 0 probability for all classes with observation 169”\n",
            "Warning message in FUN(X[[i]], ...):\n",
            "“Numerical 0 probability for all classes with observation 183”\n",
            "Warning message in FUN(X[[i]], ...):\n",
            "“Numerical 0 probability for all classes with observation 188”\n",
            "Warning message in FUN(X[[i]], ...):\n",
            "“Numerical 0 probability for all classes with observation 193”\n",
            "Warning message in FUN(X[[i]], ...):\n",
            "“Numerical 0 probability for all classes with observation 195”\n",
            "Warning message in FUN(X[[i]], ...):\n",
            "“Numerical 0 probability for all classes with observation 204”\n",
            "Warning message in FUN(X[[i]], ...):\n",
            "“Numerical 0 probability for all classes with observation 279”\n",
            "Warning message in FUN(X[[i]], ...):\n",
            "“Numerical 0 probability for all classes with observation 283”\n",
            "Warning message in FUN(X[[i]], ...):\n",
            "“Numerical 0 probability for all classes with observation 316”\n",
            "Warning message in FUN(X[[i]], ...):\n",
            "“Numerical 0 probability for all classes with observation 328”\n",
            "Warning message in FUN(X[[i]], ...):\n",
            "“Numerical 0 probability for all classes with observation 337”\n",
            "Warning message in FUN(X[[i]], ...):\n",
            "“Numerical 0 probability for all classes with observation 346”\n",
            "Warning message in FUN(X[[i]], ...):\n",
            "“Numerical 0 probability for all classes with observation 361”\n",
            "Warning message in FUN(X[[i]], ...):\n",
            "“Numerical 0 probability for all classes with observation 369”\n",
            "Warning message in FUN(X[[i]], ...):\n",
            "“Numerical 0 probability for all classes with observation 381”\n",
            "Warning message in FUN(X[[i]], ...):\n",
            "“Numerical 0 probability for all classes with observation 391”\n",
            "Warning message in FUN(X[[i]], ...):\n",
            "“Numerical 0 probability for all classes with observation 393”\n",
            "Warning message in FUN(X[[i]], ...):\n",
            "“Numerical 0 probability for all classes with observation 394”\n",
            "Warning message in FUN(X[[i]], ...):\n",
            "“Numerical 0 probability for all classes with observation 399”\n",
            "Warning message in FUN(X[[i]], ...):\n",
            "“Numerical 0 probability for all classes with observation 2”\n",
            "Warning message in FUN(X[[i]], ...):\n",
            "“Numerical 0 probability for all classes with observation 27”\n",
            "Warning message in FUN(X[[i]], ...):\n",
            "“Numerical 0 probability for all classes with observation 51”\n",
            "Warning message in FUN(X[[i]], ...):\n",
            "“Numerical 0 probability for all classes with observation 59”\n",
            "Warning message in FUN(X[[i]], ...):\n",
            "“Numerical 0 probability for all classes with observation 65”\n",
            "Warning message in FUN(X[[i]], ...):\n",
            "“Numerical 0 probability for all classes with observation 83”\n",
            "Warning message in FUN(X[[i]], ...):\n",
            "“Numerical 0 probability for all classes with observation 102”\n",
            "Warning message in FUN(X[[i]], ...):\n",
            "“Numerical 0 probability for all classes with observation 109”\n",
            "Warning message in FUN(X[[i]], ...):\n",
            "“Numerical 0 probability for all classes with observation 133”\n",
            "Warning message in FUN(X[[i]], ...):\n",
            "“Numerical 0 probability for all classes with observation 141”\n",
            "Warning message in FUN(X[[i]], ...):\n",
            "“Numerical 0 probability for all classes with observation 144”\n",
            "Warning message in FUN(X[[i]], ...):\n",
            "“Numerical 0 probability for all classes with observation 157”\n",
            "Warning message in FUN(X[[i]], ...):\n",
            "“Numerical 0 probability for all classes with observation 169”\n",
            "Warning message in FUN(X[[i]], ...):\n",
            "“Numerical 0 probability for all classes with observation 183”\n",
            "Warning message in FUN(X[[i]], ...):\n",
            "“Numerical 0 probability for all classes with observation 188”\n",
            "Warning message in FUN(X[[i]], ...):\n",
            "“Numerical 0 probability for all classes with observation 193”\n",
            "Warning message in FUN(X[[i]], ...):\n",
            "“Numerical 0 probability for all classes with observation 195”\n",
            "Warning message in FUN(X[[i]], ...):\n",
            "“Numerical 0 probability for all classes with observation 204”\n",
            "Warning message in FUN(X[[i]], ...):\n",
            "“Numerical 0 probability for all classes with observation 279”\n",
            "Warning message in FUN(X[[i]], ...):\n",
            "“Numerical 0 probability for all classes with observation 283”\n",
            "Warning message in FUN(X[[i]], ...):\n",
            "“Numerical 0 probability for all classes with observation 316”\n",
            "Warning message in FUN(X[[i]], ...):\n",
            "“Numerical 0 probability for all classes with observation 328”\n",
            "Warning message in FUN(X[[i]], ...):\n",
            "“Numerical 0 probability for all classes with observation 337”\n",
            "Warning message in FUN(X[[i]], ...):\n",
            "“Numerical 0 probability for all classes with observation 346”\n",
            "Warning message in FUN(X[[i]], ...):\n",
            "“Numerical 0 probability for all classes with observation 361”\n",
            "Warning message in FUN(X[[i]], ...):\n",
            "“Numerical 0 probability for all classes with observation 369”\n",
            "Warning message in FUN(X[[i]], ...):\n",
            "“Numerical 0 probability for all classes with observation 381”\n",
            "Warning message in FUN(X[[i]], ...):\n",
            "“Numerical 0 probability for all classes with observation 391”\n",
            "Warning message in FUN(X[[i]], ...):\n",
            "“Numerical 0 probability for all classes with observation 393”\n",
            "Warning message in FUN(X[[i]], ...):\n",
            "“Numerical 0 probability for all classes with observation 394”\n",
            "Warning message in FUN(X[[i]], ...):\n",
            "“Numerical 0 probability for all classes with observation 399”\n",
            "Warning message in FUN(X[[i]], ...):\n",
            "“Numerical 0 probability for all classes with observation 7”\n",
            "Warning message in FUN(X[[i]], ...):\n",
            "“Numerical 0 probability for all classes with observation 31”\n",
            "Warning message in FUN(X[[i]], ...):\n",
            "“Numerical 0 probability for all classes with observation 133”\n",
            "Warning message in FUN(X[[i]], ...):\n",
            "“Numerical 0 probability for all classes with observation 138”\n",
            "Warning message in FUN(X[[i]], ...):\n",
            "“Numerical 0 probability for all classes with observation 144”\n",
            "Warning message in FUN(X[[i]], ...):\n",
            "“Numerical 0 probability for all classes with observation 148”\n",
            "Warning message in FUN(X[[i]], ...):\n",
            "“Numerical 0 probability for all classes with observation 155”\n",
            "Warning message in FUN(X[[i]], ...):\n",
            "“Numerical 0 probability for all classes with observation 159”\n",
            "Warning message in FUN(X[[i]], ...):\n",
            "“Numerical 0 probability for all classes with observation 169”\n",
            "Warning message in FUN(X[[i]], ...):\n",
            "“Numerical 0 probability for all classes with observation 180”\n",
            "Warning message in FUN(X[[i]], ...):\n",
            "“Numerical 0 probability for all classes with observation 219”\n",
            "Warning message in FUN(X[[i]], ...):\n",
            "“Numerical 0 probability for all classes with observation 288”\n",
            "Warning message in FUN(X[[i]], ...):\n",
            "“Numerical 0 probability for all classes with observation 289”\n",
            "Warning message in FUN(X[[i]], ...):\n",
            "“Numerical 0 probability for all classes with observation 291”\n",
            "Warning message in FUN(X[[i]], ...):\n",
            "“Numerical 0 probability for all classes with observation 302”\n",
            "Warning message in FUN(X[[i]], ...):\n",
            "“Numerical 0 probability for all classes with observation 342”\n",
            "Warning message in FUN(X[[i]], ...):\n",
            "“Numerical 0 probability for all classes with observation 344”\n",
            "Warning message in FUN(X[[i]], ...):\n",
            "“Numerical 0 probability for all classes with observation 353”\n",
            "Warning message in FUN(X[[i]], ...):\n",
            "“Numerical 0 probability for all classes with observation 361”\n",
            "Warning message in FUN(X[[i]], ...):\n",
            "“Numerical 0 probability for all classes with observation 388”\n",
            "Warning message in FUN(X[[i]], ...):\n",
            "“Numerical 0 probability for all classes with observation 409”\n",
            "Warning message in FUN(X[[i]], ...):\n",
            "“Numerical 0 probability for all classes with observation 7”\n",
            "Warning message in FUN(X[[i]], ...):\n",
            "“Numerical 0 probability for all classes with observation 31”\n",
            "Warning message in FUN(X[[i]], ...):\n",
            "“Numerical 0 probability for all classes with observation 133”\n",
            "Warning message in FUN(X[[i]], ...):\n",
            "“Numerical 0 probability for all classes with observation 138”\n",
            "Warning message in FUN(X[[i]], ...):\n",
            "“Numerical 0 probability for all classes with observation 144”\n",
            "Warning message in FUN(X[[i]], ...):\n",
            "“Numerical 0 probability for all classes with observation 148”\n",
            "Warning message in FUN(X[[i]], ...):\n",
            "“Numerical 0 probability for all classes with observation 155”\n",
            "Warning message in FUN(X[[i]], ...):\n",
            "“Numerical 0 probability for all classes with observation 159”\n",
            "Warning message in FUN(X[[i]], ...):\n",
            "“Numerical 0 probability for all classes with observation 169”\n",
            "Warning message in FUN(X[[i]], ...):\n",
            "“Numerical 0 probability for all classes with observation 180”\n",
            "Warning message in FUN(X[[i]], ...):\n",
            "“Numerical 0 probability for all classes with observation 219”\n",
            "Warning message in FUN(X[[i]], ...):\n",
            "“Numerical 0 probability for all classes with observation 288”\n",
            "Warning message in FUN(X[[i]], ...):\n",
            "“Numerical 0 probability for all classes with observation 289”\n",
            "Warning message in FUN(X[[i]], ...):\n",
            "“Numerical 0 probability for all classes with observation 291”\n",
            "Warning message in FUN(X[[i]], ...):\n",
            "“Numerical 0 probability for all classes with observation 302”\n",
            "Warning message in FUN(X[[i]], ...):\n",
            "“Numerical 0 probability for all classes with observation 342”\n",
            "Warning message in FUN(X[[i]], ...):\n",
            "“Numerical 0 probability for all classes with observation 344”\n",
            "Warning message in FUN(X[[i]], ...):\n",
            "“Numerical 0 probability for all classes with observation 353”\n",
            "Warning message in FUN(X[[i]], ...):\n",
            "“Numerical 0 probability for all classes with observation 361”\n",
            "Warning message in FUN(X[[i]], ...):\n",
            "“Numerical 0 probability for all classes with observation 388”\n",
            "Warning message in FUN(X[[i]], ...):\n",
            "“Numerical 0 probability for all classes with observation 409”\n",
            "Warning message in nominalTrainWorkflow(x = x, y = y, wts = weights, info = trainInfo, :\n",
            "“There were missing values in resampled performance measures.”\n"
          ]
        },
        {
          "output_type": "stream",
          "name": "stdout",
          "text": [
            "[1] \"Accuracy:  0.521094640820981\"\n",
            "[1] \"F1 Score:  0.519049838820505\"\n"
          ]
        }
      ]
    },
    {
      "cell_type": "markdown",
      "source": [
        "#### 5.1.8 Conclusion on Classification\n",
        "The best performance we could accomplish is an Accuracy of 52.1% and F1 score of 51.9% based on the stacking ensemble model that integrates Naive Bayes, KNN, Random Forest, and SVM. This performance can be seen as not any better than random guessing on the sentiment score.\n",
        "\n",
        "It is safe to assume that the available data in this dataset cannot be used reliably to predict the sentiment of the customer. It means that the sentiments of the customers are influenced by factors outside of the dataset. Further analysis could consider more features to look into whether they can be predictive of the customer's satisfaction."
      ],
      "metadata": {
        "id": "Yisdxh4S-Jyq"
      }
    },
    {
      "cell_type": "markdown",
      "metadata": {
        "id": "gY_jbbA3FHkc"
      },
      "source": [
        "### **5.2 Regression**\n",
        "* Purpose: To examine the relationship between customer's sentiment and product's quality.\n",
        "* Model: Linear Regression (benchmark), Decision Tree Regressor, Random Forest Regressor, Polynomial Linear Regression, XGBoost Regressor\n",
        "\n",
        "* Training: 0.7train/0.3test\n",
        "\n",
        "* Evaluation: MSE, MAPE, RMSE, R2"
      ]
    },
    {
      "cell_type": "markdown",
      "source": [
        "Import required library"
      ],
      "metadata": {
        "id": "yIexr7Kdtnww"
      }
    },
    {
      "cell_type": "code",
      "source": [
        "# import required library\n",
        "if(!\"pacman\" %in% installed.packages()[,\"Package\"]) install.packages(\"pacman\")\n",
        "pacman::p_load(tidyr,caret,tidyverse,randomForest,xgboost,Metrics,ggplot2,e1071,tidymodels)\n"
      ],
      "metadata": {
        "id": "ue20LeuWuDqg"
      },
      "execution_count": null,
      "outputs": []
    },
    {
      "cell_type": "markdown",
      "source": [
        "#### 5.2.1 Data Preparation for modelling\n",
        "Split the dataset into X with selected features and Y with predicting of sentiment score"
      ],
      "metadata": {
        "id": "47pqR6AwJTZC"
      }
    },
    {
      "cell_type": "code",
      "source": [
        "final_df <- read.csv('final_df.csv',header=TRUE)"
      ],
      "metadata": {
        "id": "yN0mu8YZdmqQ"
      },
      "execution_count": null,
      "outputs": []
    },
    {
      "cell_type": "code",
      "source": [
        "# rescale the sentiment score into 0 - 2\n",
        "rescale_to_0_2 <- function(x) {\n",
        "  min_x <- min(x, na.rm = TRUE)\n",
        "  max_x <- max(x, na.rm = TRUE)\n",
        "  scaled_x <- 2 * (x - min_x) / (max_x - min_x)\n",
        "  return(scaled_x)\n",
        "}\n",
        "\n",
        "final_df$overall_sentiment_score <- rescale_to_0_2(final_df$overall_sentiment_score)"
      ],
      "metadata": {
        "id": "YJIFAd_SylUc"
      },
      "execution_count": null,
      "outputs": []
    },
    {
      "cell_type": "code",
      "execution_count": null,
      "metadata": {
        "collapsed": true,
        "id": "CFzd-vWPxLb6"
      },
      "outputs": [],
      "source": [
        "# prompt: Select SeatType, TypeOfTraveler, CabinStaffRating, GroundServiceRating as X and SentimentClass as Y\n",
        "X <- final_df %>% select(encoded_SeatType, encoded_TypeOfTraveller, CabinStaffService, GroundService)\n",
        "Y <- final_df$overall_sentiment_score"
      ]
    },
    {
      "cell_type": "markdown",
      "source": [
        "Split the data into 70% training set of training set and 30% of testing set"
      ],
      "metadata": {
        "id": "ofor5az1KKfI"
      }
    },
    {
      "cell_type": "code",
      "source": [
        "# split the dataset into X and Y with training dataset 70% and testing dataset 30%\n",
        "set.seed(456)\n",
        "train_index <- createDataPartition(Y, p = 0.7, list = FALSE)\n",
        "train_data <- X[train_index,]\n",
        "test_data <- X[-train_index,]\n",
        "train_label <- Y[train_index]\n",
        "test_label <- Y[-train_index]\n",
        "\n",
        "training_set <- cbind(train_data, Target = train_label)\n",
        "testing_set <- cbind(test_data, Target = test_label)"
      ],
      "metadata": {
        "id": "AdY3Jn63xA_R",
        "collapsed": true
      },
      "execution_count": null,
      "outputs": []
    },
    {
      "cell_type": "markdown",
      "source": [
        "Performs cross-validation with 10 number of folds"
      ],
      "metadata": {
        "id": "Sj9En9Csh1VA"
      }
    },
    {
      "cell_type": "code",
      "source": [
        "mControl <- trainControl(\n",
        "  method = \"cv\",\n",
        "  number = 10,\n",
        "  savePredictions = \"final\"\n",
        ")"
      ],
      "metadata": {
        "id": "pMEBxmgtZQLD"
      },
      "execution_count": null,
      "outputs": []
    },
    {
      "cell_type": "markdown",
      "source": [
        "Define the evaluation metrics which uses Root Mean Squared Error, Mean Absolute Error, Mean Absolute Percentage Error and R-Squared."
      ],
      "metadata": {
        "id": "ekR_xdo6jfkM"
      }
    },
    {
      "cell_type": "code",
      "source": [
        "# Initialize final evaluation result\n",
        "final_eval_result <- data.frame()\n",
        "\n",
        "# Function to evaluate model\n",
        "evaluate_model <- function(model, model_name, testing_set, test_label) {\n",
        "  predictions <- predict(model, newdata = testing_set)\n",
        "  predictions_df <- data.frame(Truth = test_label, Prediction = predictions)\n",
        "\n",
        "  metrics <- metric_set(rmse, mae, rsq, mape)\n",
        "  eval_results <- metrics(predictions_df, truth = Truth, estimate = Prediction)\n",
        "  eval_results <- eval_results %>%\n",
        "    mutate(Model = model_name)\n",
        "\n",
        "  return(eval_results)\n",
        "}"
      ],
      "metadata": {
        "id": "C-PDptTnjeZn"
      },
      "execution_count": null,
      "outputs": []
    },
    {
      "cell_type": "markdown",
      "source": [
        "#### 5.2.2 Linear Regression model\n",
        "\n",
        "Perform modelling on Linear Regression model with evaluation metrics set"
      ],
      "metadata": {
        "id": "n_vbb7xCLA0T"
      }
    },
    {
      "cell_type": "code",
      "source": [
        "# Linear Regression model\n",
        "set.seed(456)\n",
        "\n",
        "# fit the data into the model\n",
        "lm_model <- train(Target ~ ., data = training_set, method = \"lm\", metric = \"MAE\", maximize = FALSE, trControl = mControl)\n",
        "\n",
        "# evaluate the model\n",
        "eval_results <- evaluate_model(lm_model, \"Linear Regression\", testing_set, test_label)\n",
        "print(eval_results)"
      ],
      "metadata": {
        "id": "iVjkkGSOom0L"
      },
      "execution_count": null,
      "outputs": []
    },
    {
      "cell_type": "markdown",
      "source": [
        "![image.png](data:image/png;base64,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)"
      ],
      "metadata": {
        "id": "NV-kWavxh_R3"
      }
    },
    {
      "cell_type": "markdown",
      "source": [
        "#### 5.2.3 Decision Tree Regressor model\n",
        "\n",
        "Perform modelling on Decision Tree Regressor model with evaluation metrics set"
      ],
      "metadata": {
        "id": "khtDl3MnLk2L"
      }
    },
    {
      "cell_type": "code",
      "source": [
        "# Decision Tree Regressor model\n",
        "set.seed(456)\n",
        "\n",
        "# fit the data in decision tree regressor model for training\n",
        "dt_model <- train(Target ~ ., data = training_set, method = \"rpart\", metric = \"MAE\", maximize = FALSE, trControl = mControl)\n",
        "\n",
        "# evaluate the model\n",
        "eval_results <- evaluate_model(dt_model, \"Decision Tree Regressor\", testing_set, test_label)\n",
        "print(eval_results)"
      ],
      "metadata": {
        "id": "GIljklow_74V"
      },
      "execution_count": null,
      "outputs": []
    },
    {
      "cell_type": "markdown",
      "source": [
        "![image.png](data:image/png;base64,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)"
      ],
      "metadata": {
        "id": "r05UKoWSjwsW"
      }
    },
    {
      "cell_type": "markdown",
      "source": [
        "#### 5.2.4 Random Forest Regressor model\n",
        "\n",
        "Perform modelling on Random Forest Regressor model with evaluation metrics set"
      ],
      "metadata": {
        "id": "TNHfvLsqLmzr"
      }
    },
    {
      "cell_type": "code",
      "source": [
        "# Random Forest Regressor model\n",
        "set.seed(456)\n",
        "\n",
        "# fit the data in random forest regressor model for training\n",
        "rf_model <- train(Target ~ ., data = training_set, method = \"rf\", metric = \"MAE\", maximize = FALSE, trControl = mControl)\n",
        "\n",
        "# evaluate the model\n",
        "eval_results <- evaluate_model(rf_model, \"Random Forest Regressor\", testing_set, test_label)\n",
        "print(eval_results)"
      ],
      "metadata": {
        "id": "rfjmNhzK_7yp"
      },
      "execution_count": null,
      "outputs": []
    },
    {
      "cell_type": "markdown",
      "source": [
        "![image.png](data:image/png;base64,iVBORw0KGgoAAAANSUhEUgAAAi0AAACNCAYAAAB7akq1AAAAAXNSR0IArs4c6QAAAARnQU1BAACxjwv8YQUAAAAJcEhZcwAADsMAAA7DAcdvqGQAAD88SURBVHhe7Z1vbF1FluBPdrS0WkBomg7YI1vJW2CmCe1Ga9gotjao4wzalpBA2O1IOEpLKD2f/C3Kt4RolNjfLH/zx4hWIzuSIwfRYqSWkjjaBPmlFfDu4MQMIugFxRp7EkiGIJo/M7Nvz6k/91bVrXrv3vv++D37/KKK7fvq3fp/6tSpc29tKSPAMAzDMAzT4vwX9ZNhGIZhGKalYaWFYRiGYZi2gJUWhmEYhmHagk3l07L8xym4eAuga+8ovLpTXSRuX4K3zywB/HI/HNyzTV30kDYeotMySaTLMAzDMExqqlpa7lx+G6b+uCz/WH4Xpv5wCe7Iv5gK7HxlFEZHVRjuga3qestCbTs1BW9fbtHWbfX8MQzDMA2nitJyBz4u3Yetj0qrwvKNFYCf/Awq2xiqoCafSBGqBbJ8ZJjItCLB1g6XZXj3IrZty9Lq+WMYhmGaQVWl5d7XW2H735Kacge++DeIFJh83IFLH6jJ59anOBUxrcDyHy/C/V/2QJf6u9Vo9fwxDMMwzeGv/gFRvye5/TFcXS7DU3t/Dtvgc/i/79+Fjhf7YPuD6vOs3P4QLv2f7+Bv9v4NfHfzBnzz0C74eQ4diLasfv/e+5i32/A9/v39v16Hq1evRuGT7wvwnMok+ZbMno8/u3r1E/hux3N2Gb75HD7Ce8ETz8Jz35yHqdkL/rhp47mo7/2oECrvMrw7NQsXKuUxIo5rljM3y+/C7D9thf7fdMPdqzfheypb5ntSnhbg/+2ifpKE2mDhP/O1dX3yxzAMw2wE/EoLbbv8/j14XygF9+GmmEhv4m/fw+1lObGu5lA47ixegsW/bIdf/d0z8O//fB1u/Mt3UHhuO2Sdgh7c/hzs2rULdu34Dj4hZeCX++F3v/mVvIbBnNS2/a28RqHw/Sdw/V9J5wgoLX+5Be//5RcwevBlEf+htffhz8VVeEhPxmnjuVRSWkRd/xnudO917hdSXO7AJ6ItAH5U8wSOysbsR7B170HYs03eN5dScBu/e+sj+Oj9ZB1Ih+Qu2P4/HsOyZM1rnfLHMAzDbAj820OPvwgHR/dDz8MAW1EhID+Qvd14nSZW5Vya3S9E+ccUnsFJbRs8U9gK8PXn8DHqAK3C/Z88D6OvxAXbuZscaFfgQ8dnJm286tyBS39aQgWkC/Ym7ncfPv/Ed7+d8Kpqg2pPMFWDtl1WsE1r9vF5HPP0W+ovK3Bx6l1UNSRaYdk7+iq8+Hj2vNYtfwzDMMyGIOzTcvtj+DzyZ1mGT+lR4adqmD2WF2Apuh9ZQLZXmJjXh4S/zuM/E0/93L9n5zFtvOqQzxD+6H4aVRGD3PfLwPK7qFBshZ7d9dIItsGLhuLyrqGw5Eqh7vljGIZh2h2P0kL+CVMwdYYsAPdh6Qz+PoUrXvxk5SL9nu+xU/HkUffzuOJWFx5/BrY/jBPzRwvRynzTcfsLrGHk1kX5RFUUZH03Dmzjiyuw9Ze/jtujLsSKy0otCkvD8scwDMO0M8GXy5Fp/8NH5UvUyPF19p69JZINUoTCE3Hul66RP0jKl70RohwfAfQMH7Qnw9B91PX7tC1GZU8bz0V9vjXwUrvg9xqFTlf9mWRrso5ScQcu/WEWlr7ugq7uGhSXhuWPYRiGaWcC20Pq8ebH5MR85178rpY83Ln8Iaw83AP7lS9GFNRL11ZutKit5Yt7YuKsui2WNp6LsjY1/fFv4bPktMXoXvFIsfRhqk1hIUXl1VfID8r2cUlNQ/LHMAzDtDt+pUX5szz6M/pD+rNoBSY7pgOuA05Oz5ODb95JW28xlT7GVGrn/kez8G6UEblFAahs9Tu6SNp41dkGL75AUzFO7p43DS9f9r19mKxW+bfpGoOtsOhqoJf55VZcGIZhGMbBr7SQ5eDh7fAMrWaF30UXPJ15QlZYDr1Jdj4lJ+3sT94QOOn/uge2fr0Es6ZPSK637dKWw3549AN9n4vSOvTbFx1lK228lOx8VVoR3DJguFhScVod0cb+rSCtuORrX4ZhGIaJ2VQHJjIMwzAM076EH3lmGIZhGIZpIVhpYRiGYRimLWClhWEYhmGYtoCVFoZhGIZh2gJWWhiGYRiGaQtYaWEYhmEYpi1gpaUGiie3wJYtW2D8irrACNZOD4l6GTq9pq4w7UERxrHdtmwZx9+Y2liDmf1Yl/tn8LdsaLliBpYxDCNhpYVhGKaF6HuzDPT6LBFuTcOgus4wzGZRWlZmYAhXK/Ve+WvhcnS3urBhUSvwk+nW3x2vz4l6mXu9Q11pPHJ1yhYCF2n1GoKZVMeG98FRMVkexd+aQ7b81QElC3x9RVs42ELIMK0LW1oYhtmEHIN5a8ulCPPH1a8Mw7QsLaS0qD1gWs1fGRcrHrmyV9e9KyC9B6+DvWLTvhVbug/AWfz77EinEde5n2WNse9rxkvuN1daJcZ5N0PjV3LJdJN74inyptthSz+KeOR4vxXXtLxEdW2ERJriflRfOm1Vd1E6xuo3WhHbwb5n3E79YsI5Bv1G3Eqr6Sh4rEem1cYuV+MtOYl69Fm3ovoyg5m3uG07R0TPhwPdZlyzz7pjCEPCD0PdL+XYTI4RDNY9s+RP4ZY5h69IzCAMDmNvOWfU7ZV5ODY8BmN43SLRDwPj3YkX9kGpLLMYhqlCuWVYLU8PQxmGB8uDJxbK5VvTZRQt5bETY+XpW/jpzCB+No2xFOJzjE9xFQsn8G/8DsW3UHEHZ6JvJ4niTJdRdJX1Xemeoe+JPPnSI3T+jHtJVssLxQr5qJkFzD/VY1xXMp9QHiuqC1FdG/VZEXVPo64rUhxz0lOI69i+2MZUZ6K9sH3HxH1lGtF3sP7GrHpXeU7Up0S2vf8zief7uo2cetD3msZ6i9pexK10/9pJ9F+dP7PeQ3UboGIfTRDqF9nG5gJet+pJ5dk3jtLkL9l/k308NSrv0zOUpzifsi9Oi3JG+fTkW7aRU/+edtLxrDwG41Uov/pO2vZmmI1O620PnemFI2/qHfWzsPjUIRihg6CJMyWQBx/jSu0wWU/GYCGKC9D3BjmtnYW5y/nXYGdHSjBQ856+kb/EvTqgb3fjfD2KJ8kqMgjTkyOYkqTj9SOYE3NlifV4Bn/0FKI4zQNX1q9NxW16HGDAaMPFkmq7rhE4avnEdMDAayi+YRFKOVama6dH4QCWeaxotAemMVfEmjlzAE4lVsbHYA6mmueXc2VcWIsGZ4y6wfwdOYE/j89HVpS10iL+PwgFHaeZpBqb5Ovl9PndA6L/nb2R49jylRkYJWvMiQXDd6wPDs1gXzgzB/N5rRR7KE96i0huDY29NCA+khRhvO8YoNIBU0Yf6HtzFVCxgWOTsaWn+JZHFql4MY2TWQyzmWg9peXEgCXwegu+SUNNuk5c6CpAL/7IJRwVgzOHrHuSs23miWtlHuZ8+Ws4a1Bawh/DQzBgTWoFKJAAXSopQauEvtjuafyWh80gDO0x6nMY86Z+bSSlG7QNMQYDrtM09hlShaytAsEYHDHbnRScBjqoamXEqhuk8JStqEkFVG6nNH6b0SHV2KwzKyUsLSkUds13FMRIz6XASvpgABVC0e60NeT2DUxXtMhrA45i3wGFHvwRKUzKF6bqWG+czGKYzUR7OuIqgZLwsdC+F5sWJRjPHIBOq146hZXBRD/hszqzqPxAWnBv3fETkP4PeVDKnA81aaw3UqlyfTt8ZdZP+CxAr/bR8vm9rDO2X0v+cSmVOVQu+sz7YSArSI30vTQmrFjj5/BerjKhlCUfUpFUaFlUDZZZDFMX2vvpoRMLYuJNBMP8uikZnoZVX73MxltGmlh5ATlh1uTgWD/EpNd9AHqLcf5XyTqUC7U69pF20mkKgzB9y2ivKMzF2zARsfIypibClngBmVI0+5fMPoh5VB/nZczoB2ao6XUDYtvqGBwTW0OOzFAWOB9SwVRkVXpZZjFMTbSn0tI1AEO03WHs9bcU65Y/afLOs9dPysuC+G7sm7B+aJO76cdQG3J17D7miqgVdWLSajJi1Y85ye7bgMqLegFZ5A+0jqxdnsNS2D5VtdCxZ0iULbl9Vw/UeHG3hgi9bfPOvKPEu1uw7tarQm8Ra1pdZjFMm9BUpSV+nLNWP4oOGDlMQv4Y9HssA8XTzjUlMJICqFFg/iZpIqFHcJNlXVvJm4v4ccmQP4N27DvQ7UkX60VcuzKe/D6ukCeCe/NKuDdN4KqJwEqvCKfU47E+PwY56XuUEkXH61PSgbLPqBeyCihny0N1Uo5CRNslIUvW7kMif/RYfsJigvmcEdfoUeFku0pH0KQ/DCEn/eY5empfEzO9tdMT2DKIO7EjVfMXOSP3e/p8EWZq9OuRL4j0+SqhMqictEeNNIon5Vbr2GGtlCkHcdOZm/pV9xz2K/W3IKPMYhjGS/tuD+0+isJmAcYS/htboP8dFSdCKRFu3Eb6AgjHTXqCwH13yBbofKuBtoxK6Y7E6brvrKGtGJhZDZqp+94kE79zz4ZtJWF7zbrpzcOAKBcpHvi323bYH8hSZPs+mH46dM8yxjHuSe/vIXO9Z9us+cj80RZYwn8D8xm3XLJd+4/TU2q+LSQE+8MU3tNt74ZtJWE7UBnM9EZhCspKAeh0fadS5E8oFvj9RJ/d0g+oGjQOkjG3pgGMdPuPyy080wJIVkqr3bpLcKQ8BUPq84hMMothGB9byrShyjAMwzAM0+K0tyMuwzAMwzCbBlZaGIZhGIZpC1hpYRiGYRimLWClhWEYhmGYtoCVFoZhGIZh2gJWWhiGYRiGaQs2yCPPd+DSH2Zh6Sd7YfSVneoak4XlP07BxX/rgf2/fRG2qWsMk51leHfqIqx0q7F4+xK8fWYJtu4dhVcrDk01hr9Wfyq6qn6v1WBZxDCNZGNYWpYXhLDreoqFRC5wYvnwFsDWwjOssDC1sfwp0Lvj9FhcvrIE96ELnq46NLfBi78dhdFRGfZ207U032sxWBYxTEPZEErL8g0hJttPwLUIdz75HCeWrbD9b1llYWrDHovL8Ckqw9D9NGQbmnm/t/6wLGKYxrIBlJb2FXCtwR34uHQf4OHt8Mzj6hLD5MIZi47VJTV5v7fusCximEbTYj4ty/DuH76AftOvYvldmLpIIsykC/aOvqoEo/xc7n2r/XQRB2O5++Ep4t65/Db8CX4NB/e0p9WB8r/w2EGj3H5fga2/3C/LqHwOQPwNVtwojiZNXKrjG0/zfv6GIzk2hR8UTdLEwz2w/4V7MBuNL/25HKtgxtX+LgHM75mxmj02l//4Nnyx+yC8GCnztszQRHKmzrKIxxLDJPmrf0DU7+sHDc7ZC3D16n/A83//v2CHvIgDeRYu3AToGf4dDO/dBbt2yVDY8RjsePBBGat4AW7e74LnC5/A7OxdeH70ILy86yFYvXoTVr78DgrPbQcZM467fetVeO+9b2TcHd/BJ8sPwC9e/rkQxg9u/69w871/hAtXV+GhXfJa60OKye/hvfevwq0nXsXJQ5aYhPzv31uE20/gJHHw5aj+du0qwF//eBtQFd5ZvASL//oj+Jud/w6XZj+En7xKdV2A7/75Oty69ZVVB1HcJ25j/V2HJ0Rcquu70PFiH2ynZLc9Bt/9+R8xL5/Adzuek9eY9qXC2PyojIrK3w/Dr2hM3r8Es3++g5/hWBRjaRkWzt+E+91b4T/OX4C7z4/CwZcx3vefwPVPP4HVh3bBz72DS3/veXjZ2a5szthUcufqVfiP538H/0sWWChSs5gvUth/95tfxWNpRwEe2/GgkDH1lkU8lhgmyboqLVIQXIWr//m8mlS1IFIrD1q9/f0rsNMZrA8qhYXiCQGH/26Ke+xR378Dn6CguP/Es/CrSPDFcb/Dif13v+kVccVE/MAvDAG5DX6OwuihtQtwkfK29hDsalVfD7J8/P49eP/qLaVA7ILnlGQjhWX2o/ti1Xbwf7r5RyErot2BD/83KjU/fA+3v3wCXo3q+i/w+T9dh9s/2g67IkFrxH2A6vrvpBBdXoALX3bAr/p1vAdh+3M0OX0EFy++D1f/2RbWTHsQHpukIP8j3PiR/aQZKRQ0OUfKBvWLm/dha3k7/AIVG20cefCbm3CVrhcCSov6XtfzL3s+b+DYNJUzoWzE+ZOWn61i8fRKUhipvt0IWcRjiWFc1mF7KDaFJrYfFHLCJQuLaZr1YJlY1TXCdz0UtxJqO+Q+/prpew1GKyS0qnVN6BJVx1XM8PZ2j9EOvuuhuBWp3tZMK5F2bEpluNKYq7TFU2lsh76XoE5jU6aHv9ACyfe4f9p+32hZxGOJYQTNc8SlwT81BVM48O7joKPHGv0DD1chNCGncAwNeer7rufy6n/8RTg4uh96HgZYuYh5/8MlXDetHyRgp7AOZz/aikKdHg31C/Y7lz8Uwq2aI2PoqSHf9XxPGO2EV9Xjq/c/msW8v4uty7Qcqcemdtrugf6KYy7kkFrN6TuDI2tNY5OsRXIsiXcT0VgKvJ9IPrJdvd83XBbxWGIYQfOUFiFkjEEXEjK3vxCrp+rvDAkJON/1PF79tLIhwTYLnxekIA8Jtmax8xXMw3APitAVuIh5ezcgte7cE+vPKkIxNIH4rud5wsiYGGCvrL9qq2dmfUg9Nj+Gz7/2jU1nfIWe/lHvMAmO7dRPDdU6NtU7YfZ2AXy9BLNTb8Ol2+ojizvwxb/hj6r9vtGyiMcSw2ia/sizmHhH90KXEBaeifeLe0JpqUpQMHquZ3qEUgvEiwB7Ka+hVec6oSaY/b9E1cW7wlSCthqhCch3PThZ+dAC1phQ+OmHtiDt2Nz6mN0Llv8oty30+PJbErBffIDXH+6BXwfGk/iex4oTU+exufNVcY+93fdh6Qze949uge/APez3VWmYLOKxxDAu6/SeFmnqpJWOmHhNYbHzaRR3tOL7U3L1c/sODmNJ/c2xWiB+Ck9T3jDk3SdvBtv2HMQ87ocecFeK2+CZwlb8uQIXPUL4jopX/60hLWD/BPDrOkwozDpRYWwq7n+pR6Fsc/kosx5fypKA/e/Dy2Y8ejy+C/YGLSLye37FuLFjM1LWbl3ENMxtl53wNL2ZF5W4P0Vl0cRjqf6yiMcSw4Rogfe00AClwVn9fQjx+x3U5wlHU9/1UFwD4RhHi7c2NblS/p33OcTOuib0BATVs5pEUOWxnQ9910NxDYSz4uewvZrjNNNmJMdm5LgqoP70PNw7Y4yvaCw9DZ/SuFMxq72bRX7vftJBt8ljk8aN+y4Yu8wa7SxcZ1nEY4lhKrJBDkxkGIZhGGajswFe488wDMMwzGaAlRaGYRiGYdoCVloYhmEYhmkLWGlhGIZhGKYtYKWFYRiGYZi2gJUWhmEYhmHaAlZamIZSPLkFtmwZh6L6u2lcGcd0t8D4FfU3w7QkazCzH8fI/hn8jWGYalRVWu5dvwwXLlyG63fVBYZhNh4rMzCESh4pehSGTuefQqWiagdXeVw7PZSIE4dYyU0bj2GYzYFXabn5wQVUVGRYXPtBXWXahyKMk1A/ySKdSQFZpbrnYOhWGehdk+XyKgy905mz/6xBaWkMFsR9ZFidGYRjfbYi1PH6XPR5HFZhehhgcOYQ9GWMlxpHOYvCph8rSmYEQi1K7HpRLyuvTwnfsmUIZhKvbGeagUdpuQeP/Ld9sG+fDL0dD6jrDMNsPNZgZvIYwIkjMEKHfgk6YOTwGMDxiRyCGb87e9RSJjpenxJKxtl35itugaydHoUDMA1Tr3eoK37SxqvE4MxqrAQVqaz9rLgQJxYM5TAOczXU9cbAVMRJaT4LB7pZcVkPPErLo/DoT9WvdUSaeVUjK38DW2NVe7skOPTnQoio6/i3re37VwZ+HwY3bjt2trgezGDVSVSv/YDTkBTEZnxTKAdWnHb9mRYbJ32vgLfr2bs6S5UukS1tazXE/gHpuXIKDpxBkfySY7PYPYBi+izMXa5jTZ4pQUn9mqQIp0YApidHUO2pRNp4Gdh9SChVcHwe725gySkdHNmh+rPs69n7f9DnKjFOnHRF3uiaHhvq8yjPjd46c2VqrWM4Kd+S90vGoRCaF/qP09/HoN+IW596UUp9YHwktjS9shJzallwMF+qzc1ym9Yi+76ecrj91ScHvX06xb1C8ZBEeT3pVp//09N8R9zLmOFzA0pjXUDB6LA0AUP0+a1pGMSV3vjJUwCT0sQcr9SoY+LE7FkVHN0tIsSIjmDHXTjRbloyDdZOsbpcNcpKwVoB7T6qrqt6devnTXti6jVXm8rkfqzP1zFLmP6oaAcRV61MbaGi2mQ4zuMUjCrBYZM+XcJOm/qBCw3s/uODMK23NyYBRvuE2sZUYa20iP8PQiGysthUs46kA5UVVIzgxEBwO2ft9AQszkwZ1h4/aePVi7Gi7qcUaFyh7DjsU4rnsf/Pw4CKK+TVyKgtY0gWdR+As8a4HDiH45rqxoSEOsYDY5xImZWcyOcOy7EhPn9rHMaFbKV8HoP5xKRfJzwy1bcFGFNtDJPssOWbvl9c3pQyEHvYUXV94QT9bW9Vlsu2FbDekCzqJKVayyIxjyWteFJmGXm7VYAJ6hvqc5cSTvqjKFGje6rrGqEUoMyL+yv2gTMHoNNUIKhfWXF0cOokbTwkUV6dbkDBqTr/pwG/XJG71y6Vz5+/VL72pbqQE+yEdDBjGSdSdYVYKI/BYBkLjKyWcfLCOGN4Fbk1XcaGKQ/OYBelT8X3/Z+Fce6pSf39VoHqya27SmSNL5F1rNuDUPexrhHJ+ye/K0HBkax/B/93/WmLuGa5Qm1ZHMPvQhkHHlOBULvhJ3LsDE/jb7URTkNBbZgmnbTxKuHtL+nHS6I/q/ulkTH+seDWs8pLopxOPNW/9f3te8t7ZJNvaesgIFORZPnSjWH5vcD4j+KlzV+Mv76z47uPt087baJJfD8Qzyez5HeduKJvGffTfdCpGzePVcehIm28YDk8fV/e080jtWmKdByabGnB1fAbpq5GWvGcvWpyVmO9BY8RuGsEjqAWfXaks8pWQGCF11WAXvxx9kbYWN1a9MEhWp2I7Z6QRaKBWP4OPtZg/h1cIwwPwUC9V8BO2sIx07AYrV2ew9XJIAztqdtmAVNPcNXWOXIWV23OODcovnUAeg9X3+5JGy8btIKn7VRc9TqWyCxUdwouwjxZHStYmwQrJRC2r9cGnHJ2QKEHf5yZg/nIeuP0++ECFNSvuXG3lClYVoKw1azwFMoon4Wn4hgmx238kZAdWBbaslsqKfm+zjLQRPXpQcfip62WriyS9bIIJdVuoXhhxuCIaU3C+W/OtHpgnyELjbvF21EQs1yUbsfrR/BO0mLnt4hJ0sYLlkPPrwkrbYr5PwXN3x6qE31vSnPUQg+ZomhweTqyEgDJgUhCqr3QT1GsziyqPdo6bG85++Y0EPOhBFla6pYupnwj/3eZSmRsUx/CzLwoTMeJbVsN9oWJpWk4FPpckzZeSsSCR/S/TjjQQ9scgW0DKoPRV33bnanQsqgaagLyISe/BuPZcre2lSuUQ06SWVH9TGwpxPUs2sXpfw2RgakxfGNUn3adk6UskpN9XI6kfKu3zJLKA22x2+nSFo+N3jpbgF7d/73+NunihcuhFM4G0bZKiyZSXk6oTuVrBN9ApFDDymq9iAcuyMGR0+lUOHh148rV2LdcTew1pyV9J61vuk0S5BsYdzXmklzxpyTaF6+8klovK8ug8hcRfQ8XNckVpXL6VBOU7qsLwk8iB2r1WRWMF+rRLaGgVyiHnjxzYfjCWWE22eb1koHZ0P4nyq+pO2TtMXzrrJDdopCVpA+KDMkFQ6yUjKkFfdLpmagcLyx767DgqUDbKy2avjelQ2dsTkS6BmCIrrlPBWwAaOAKAVrxiYwQ2lS9EF4BZ0Kbrt28qHQi6p1ueNItnmNH3FSoJ2eOnXNGyJV5XFvm3HYjSxoqLKQYVGzndbKymNA4IsWFLC+W4rIyD3MoeN0tgPy42x0KlU5E0LQe2kZpNqocHpkqlaoxGMjUTn0wIOSYue2VjtpkYF5oIifFhRbJtuLS99IY/l/9iTs52ddPZnXsGRKKbmIMVwXLopx6F0uV8uyPp2VvorzKGpd7wVOFtlRayFM6oRmqRzftitKPpmEH82jjxdPN0NDrAK5aEytBEuTBPXIlCILKmk/w0KOkJHTCq+5KyAF7DCaifNITAROwSOlE1D9d+WgupjwZtyVZcyaWQqsAxsb3TpY1z7tbJPHjjaGVJn73MD0F4ezDeyB/JEgh2NLGy4ue/EhxieSKT3nQY87wT0hPBwy8hn3yzAE4pdMg5a4by2aNEZwg6Ok8jDdqjPniSbldMlZ3n56sYH+ZpAkMZaph1aZ+QVtneV741/cG3c9vvVhDGS2uZZaBsUyq/1NUehJ35hW1ALD6kQbzOqOuSZ8RW2ZR/eWWWcrH028xLMKMuEaWw2T9kgXT9glMGw/ZfVSNG/MpOZT74imo6uM/N+UEd8vXLp0vnz8fDpeu3VVx0yO9hyt5CiuvdO1drDyQtSe1/L70mJa/S69qM4SfFNFe7E6o9UmEZqG8tN2Q8Nq28JTZKq/7OdWtfjIAg2iHkMd+4LqVT9nW2KnVvTVp0jXiJdL2Yd9T1IvHE5+pgH4CwaxDD/HYM9vUwLmPFZzxRn0jTfukjZcKz5MNkrgPRp+5ZRH5j/uaiBe6X+C6LbuMvu/KokQ9OrJT9O/4mhhn0T1kHpNlrESW8UbYY45Cso2y3NOQAVZQ/SyXDFT1Yn0n+9MqSRmmiPJkf5ZufrLrT5TDaVMimLaPinVUpX4j0saLSZTX7cuIjJO97n1sof8wIYZhGIZh1gmytnSO9MJCg98l0+5sGJ8WhmEYhml91qB4JbnVNTpCj1HnOE9rk8FKC8MwDMM0kdKkfuReBfUGZD7jqTq8PcQwDMMwTFvAlhaGYRiGYdoCVloYhmEYhmkLWGlhGIZhGKYtYKWFaSjitf3rccCZOjPG/3pqhmkV1HEBTXkVPcO0P0Gl5eYHF+DCBTt8cFN9yDDMxoLezmo8zZB8s2Z6pKJqh0rKo3zLrv/wu/gNvL6wDsowwzDrSkBpuQfffPsIPLlvH+xTobfjAfjqswtw+fo9FYdpXegV+ijUvSd4MowDWaW652AoOuhtFYbe6czZf+iMHH24nAyrM4PiBFpTETIVm0qnfOvD8ewgzxnL9U4LRzmLwqYfK0pmBEItSux6US8rr08Jb+4J04xJQGl5FJ7d8wLsUH8Rjz77C0C9BX64+y+o0jAMszHwnTPkO48oLfjdWfuNnh2vT8kzWaJzfNag8EashJBSk4W106NwAKZhqoZ3WgyqU55FoLN+6BRbVvLFYaZRvRiB3x9iKuKkNNNZSay4rAfZfVp++Ba+Ur+mQ+3ZkkBQfgZSOKjr+HdoBRaF4H6vuzrYyJ0ori8zWCsgXb9b+kGcF6qOE4+CKZQDK07bjG9abJz0vQLebg/v6ixVukS2tK1+w/4B6VEHjY695NgsxEGU1U+szUR0Gm8HdOQ+qZgO2ASYnqzjwYHqoLvEAaPReDKDI2NUf5Z9PXv/D26bJcaJk67IG13TY0N9HuW50VtnruytdQwn5Vvyfsk4FOx6jvNFBziKw3KNuPWpF30Qr398JLY0vbISc2rNdZgv1eZmuU1rkX1fTznc/uqTg94+neJeoXhIoryedK0tYOveTr9OQQal5Sv49gf88cjPLAtMapYmYOjcAJTpdExcwY2fPAUwKVdZ9jHstmlZrIKcE08FooFxcjZWBgsnNqr2S4O1U6wuV826wWCtgHYfVdfp6HTEXTW9aU9MveZqU5ncj/X5OmYJ0x8V7SXiqpWpLVRIWGB7DMd5nIJRJThs0qdL2Gn7VuU0sPuPD8K03t6YBBjty3fM+2ZjrSQOkYdCQImwx2ZeUFlBxSh0Gm8W1k5PwOLMVOL06UYxVtT9lAKNK5Qxh31K8Tz2/3kYUHGFXLNOv0VIZtEJuMa4HDgnT2+2IKGu3pCq40nZlpzI5w7LsSE+f2scxknGinw24nRjhUf2+rYAY6qNYZIdtnzT94vLm1IGYg87qq4v0MnH7nzS4HN9SBZ1klKtZZGY75JWPCmzjLzdKsCEOB3ZTwkn/VGUqNE91XWNUApQ5sX9FfsAzpudpgJB/cqKo4NTJ2njIYny6nQDCg5cxnuLPqriqsuZwC+n4u61S+Xz5y+Vr32pLqRGnxqpTol0Tj/Fzhl/5sV3UqhzT03oxNW2J+cJrKnjS2RbmCdx6pNI3dM5k/dPfleS5pRS/3f9aYu4ZrlCba5OPLVPVmVcQu2Gn8gx5jmxNSvhNCTVPo+gtq41P97+kn68JPqzul8aWeQfC249q7wkyunEU/1b39++t7xHNjmYtg4CshdJli/dGJbfc9vfzU/a/MX46zs7vvt4+6zTJprE9wPxfDJLfteJK/qWcT/dB526cfOYdpylHo+hcnj6vrynm0dq0xTpOKSztNz8ABbXfoBHntwDz/5UXcuKs8rqLdRi3A2s3LoK0Is/zt6QRuiNQx8cotWJ2O4JWSQaiOXv4GMN5t/BNcLwEAzUewXspC0cMw2L0drlOVydDMLQns2+596i4KqNHG3HinM1W0eKbx2A3sN13BYS0AqetlNx1etYIrNQ3Sm4CPNkdaxmbVopgbB9vTbglLMDCj3448wczEfWG6ffDxegoH7NjbulTMGyEoStZoWnUEb5LDwVxzA5buOPhOzAstCW3VJJWQrWWQaaqD496Fj8tNXSlUWyXhahpNotFC/MGBwxrUldIzBnWj2wz5CFxt3i7SiI2TBKt+P1I3gnabHzW8QkaeMFy6Hn4YSVdhCm3zDzSFax7HKhutKCCsuFz76Fjv++D17ItS+UHbmPp4PyzzBRAzs5wDxxNwj6KYrVmUW1R1uHbTBn37zSUxyVUYIsLXVLF1O+kf+7TCUytqkPYWZeFKbjo7vVtbxgn5lYmoZDtd5HcXZEH1jXCQd6aJsjsG1AZTD6qm+7MxVaZlVDTUA+5OTXYHyOuKYyV6EccpLMiupnYkshrmfRLk7/a4gMTI3hG6P6tOucLGWRnOzjciTlW71lllQeaIvdTpe2eGz01tkC9Or+7/W3SRcvXA6lcDaIykqLUFi+qs3CkgU1mfWjcFrVA6bSvpdvgFGoYcXU6sQDF+TgyOl0KhTDbly5GvuWq4m95rSk76T1TbdJgnwD467GXJIr/pRE++K1W1iIeltZBpW/iOh7uPhJriiV06eaoHRfXRB+EjlQq8+qYLxQj24JBb1COfTkmQvDF84Ks8k2r5cMzIb2P6H5iBSTkLXH8K2zQn3GQSWSPigyJBcMsVIyphb+SadnonK8sOytw4KnAmGl5e51uIwKywMdvU2zsGhTf9UnA7oGYIgmSdfbfxNBA1cI0OiJjCxoU/VC7StggTZdu3lR6UTUO93wpFs8x464qVBPzhw754ykK/O4tsy57UaLD1RYSDGoSzvX2cpiQuOIFBeyvFiKy8o8zKHgdbcA8uNudyhUOhFB03poG6XZqHJ4ZK9UqsZgIFM79cGAkGPmtlc6apOBeaGJnBQXsrzYikvfS7S8rv7EnZzs6yezOvYMCUU3MYargmVRTr2LpUp59sfTsjdRXmWNy73gqUJAabkH16+vwQ/wCHQ/+6i61nh8lUBPC4imtAa7fuQMO45Hyy6ebobm3URw1ZpYCZIgD+6RK0EQVOp8goceJSWhE151V0IO2GMwEeWTngiYgEVKJ6L+6cpHczHlybjNyZozsRRaBTA2vneyrHne3SKJH28MrTTxu4fpKQhnH74GaDEDDRKAhJ78SHGJVpI+5UGPOcM/IT0dMPAa9skzB+CUToOUu24smzVGcILwPDFZPCm3S8bq7tOTFewvkzSBoew1tgyoX9DWWZ4X/vW9QffzWy/WUJaLa5llYCyT6v8UlZ7EnflHLQCsfqTBvM6oa9JnxJZZVH+5ZVbXCBwR8t5nMSzCjLhGlsNk/ZIF0/YJTBsP2X1UjRvzKTmU++IpqPqN/wRlH19eK186f7583hcuXSvfVdHSobzNtdew8izWHtLSqzj2hJZ/S49pCsIDWXkp45BwPI21d7oT6vDEQ0sRld8OCa9tC0/dWPXifk5toJ8MwCDaK+SxH7hu5VO2FXZqdW9NmnSNeIm0fdj3NPsMPz2UEv0EglmHHuLxabapgXMfK0T9z2jvQDDTpz5Ut3b0PNkgifMUfeaWReQ/7msiXuh+geu2fDP6viuzEvXoyD7Rv+NrYpxF95B5TJaxElnGG2GPOQrJNspyz1CfUP0slwxU9WJ9J/vTKkkZpojyZH/mzmE62PVj158oh9OmRDBtHxXrqEr9RqSNF5Mor9uXERkne9372EL/YUIMwzAMw6wTZG3pHOmFhQa/S6bdSffIM8MwDMMwdWANileSW12jI/QYdY7ztDYZrLQwDMMwTBMpTepH7lVQb0DmM56qw9tDDMMwDMO0BWxpYRiGYRimLWClhWEYhmGYtoCVFoZhGIZh2gJWWpiGIs+RCr2IrIGoM2P8r6dmmFZBHRfQlFfRM0z7E1Za6NyhCxfs8MFN9SHDMBsKejur8TRD8s2a2ZFvz618qF38hl0ZQkpm2ngMw2xsKlhafgZP7tsH+3R48hGArz5jxaUtoFfoo3D3nuDJMA5kleqeg6HooLdVGHqnM1f/MU9or3Z6N8WVL9OS6a7ODIqTal2FJG28VDjKWRQ2/VhRMiMQ6qHENpt6WXnNPh2HZp4wzZiElZYdO8A6J3HHk9DxAP789hu4J68wDNP2+M4Z8p1HlIY1KLyhFZ8qp3erc2PGivHbPzten5KHN/YZE03aeBkZVKc8i0Bn/dAptqzki8NMo3oxAr8/RJ/yTGEV+x+dlcSKy3qQwaflK/j2B/zx4wchzxGKlqlY+Rt4NVbrMx0CwsmJO35F7Q9vSOGjymaUl4K1Aorqox/EIZPqOPEomPUSWHHaq1fTYuOk761je7XmXZ2lSpfIlra1GmL/gPRcOSUP4nvJeQ+nOIiy+om1Nh3QkfIEYn2ie8GKrw4VNA4kTBuvJtRBd4kDRr2yyJFXqj/Lvp69/wetRYlx4pOTdE2PDVe2NtqPLGmZqW0MJ+Vb8n7JOBTseo7zRQc40oGJ/Ubc+tSLPrDXPz7crUy/rHRkFuVLtblZbtNaZN/XUw63v/rkoLdPp7hXKB6SKK8n3dTzfwpSKy03P/gM1ZZH4MkXLPtLdi5jhs8NKI2Vjvg2oML0HcNVVazhy+A5i0HFjVdMq1CYlCehbjxosGLZYBpWrXpxVkC7j6rrql7dVdObdi32mqtNsXoIrV5LmP4owKSKq1amtlAhYYHK0nCcxykYVYLDJn26hJ22b/VOA7v/+CBM6+2NSYBR7BtMddZK4hB5RymIsU45bhppT/zOeTJ4BmxZROMKV9iHfUrxPPb/eRhQcamf2qffIjQp0Qm4xrgcOOeRWSTb1BtSdbyFE7SyT07kc4fl2BCfvzUO40K2Uj4bcbqxQkyuONaNcugtO6+iVnUMk+yw5Zu+X1zelDIQZ4qj6voCnXyMNRFbSCg09lwfkkWdIxDLIjoN2mPFkzLLyNutAkyI05H9lHDSH0WJGt1TXdcIpcCaO7EPnDkAnaYCkXZ+zTAPJ8qr0w0oOBXn/5RUVFruXb8cOeF+9hUqLPtesLeMMoMD6wZm2Jk8NdUEaAx2YDJp4wQ5FXVY1H5n81VC61OCEgm2ngKWsk50jcBRa7BXWL0en0OBMxdvH4hVOCoa5+JuuXZ6AsUkKg6T8dH5+sh/iyzpEm7aLihAaftgcGYqjoNpzJFixdRAAQpkfWgQHYVe/D+pdJRuSLG9WJKiNm282lDj68SALZRxEXB0t/pd0AcD1J/PYHx5IeLsSAkVFmMLa88QjgZ7JS6P98eJypB/fW9KpT0GJ3BSuC3ZFsc7NmkqTFgHrxn9HsfBgHHv+tSNC8rew8ly6LF+duRUcrKqMoaLJ8ky7MqOI46MaYAMrAE9Vw3tMXKDkz0t0lxZdIT6jGnFi+IZ5wxVlFnHYA4VluAWHcpAOreIFqlxf+2DQ6QcnpmDeTV20s6vqedhX3kx3aNCqToGEwkFtvL8n5aKSsujz+6JHHF7O76Fz1B5uXy9Fo8W7JhvmBkmrTjuzLKjyhWFX2NXrMzDXAt14MajOqDY7glZJBqI5e/gYw3m38FBMzwEA9U6elactEk4mp1ebx9YwoNpfdSWjGVhU0KQ6C2o9kwbLze0gqdJ056Es1L9oLsizFOeXcXIZaWE6jve77UBR7Z1QKEHfxiTEMlTq98Po6Kpfs2Nu6VMwbISBBQ8pPAULT48Fp6KY3gNSkv4IyE7lNK8VFJK2jrLQBPsf+Rkbk/W8WTvyiJZL8aWZyBemDE4YiospOCYVg/sM6TCu1u8rsKfdn5NGy9Yjq4CiJQTVtrK839aUm8PkQJDDxD9sHYNrt9VF+uONu0tQO+IOlAqsB9IDD5V8xBtG8RAx7pZnVlUe7TZ9wITqD1ULZyqPe0RRgmytNQt3XjFzdSbjG2aGbKMkvXA8DmYLMBqYrWZNl42zmr5QtsSPbTNEdg2wAlK91MKWlnKjFJGqqImIB9y8mswPkdcU5mrUA45SWZF9TOxpRDXs2gXp/81RAamxuh/fYtiO8S1fEhZJCf7uBxJ+VZvmSWVB1Ls7XRpi8cm7fyaLl64HI210mZwxAV45Mf0+NAP8O19+XfjiCttTGn+SaeszUk8cEEOjpxOp8LBq/sA9Br7lj5/kXSk76T1TbdJgnwDE9p+0SRX/PWEFJK4H5RnR1ASkgAegwFrWyZtvPRoXzjR91DGJFeUZIHBvqomKJ12YrszLWr1WRWMF+rRLaGgVyiHnjxzYfjCWQHb2u1/9ZKB2dD+J+SCQIpJyNpj+NZZIbtFIStJHxQZ7C1OIu38WjleWPY2dsGTSWn5Sjw+9AD8eKv8u/FgpSmnI2t/Vpufbjg7y2lXMxsAGrhCgHr216ujTdXmHmgtaNO1mxeVTkS908WUA5Nu8Rw74qZCb78Y/kmCK/O4tmz2tpvaZqy2hZI6XnVoHJHiQpYXS3FRW9DuFkB+3O0Ohd7q1gRN66FtlGajyuE+aYVIpSqrIqn9hMxtr3TUJgPzQhM5KS5kebEVl76XyPpX/Yk7OdnXT2ZJ/ynPGK5KYH5N4I+nZW+ivGoebtSCJ6i03Lvr+K7c/AA++wp/PtINz/5UXqovtLJJaq/Sec0Vnqqjm++RoC2Hw3Pqjw3GlfHkSlA5oPoFt66fpGCR+ARPEU4JM2Z41V0JOWBN5yt6ImACFi0LTP3TjZyCDQdFsuZMLNEQY6rT4Xkni3J09/gyxY831upXsAbFK2afpvFPWwKub0naePnRkx8pLtFK0qc86DFn+CekRzmcnzkAp3QaJLO6UWZZYwQnCNr6wnijxpgvnpTbJWOHk5aH5oL9ZVI6WvYbWwbULxLOpSnpe4Pu57derJ2ekdcyy8BYJtX/KSo9iWMdmFYetQCw+pEG8zqjrkVOxobMovrLLbMiZ1+fxbAIM+Ja2vk1wzy8+6gaN+ZTcij3xVNQjh9OPSkHuHvtUvn8+fNWuFpSH+YAVzNl7NLl6VvqQoLVMjY4xnHDWHlBxXDBCovjDU/jHRbK2BnKuJJXMTYIxTGjPuIwOLOqIvhQdWEGUUca93OqZ6MNRB2G6jNw3cqnbGvZRmYbpknXiJeqLe17inpReRkrqihMZW5Nl1Fk2nXoQY5jiuMbl6ExHIf4vp64Vv/UpI2XElXOZPnidKLPnDqxZIyOF7pf4HpcfxSMvu+WyU3blZ2if8fXxDiL7iHzmCxjJbKMN8IecxSSYy3LPUN9R/WzXDJQ1Yv1nUpzkJ+kDFNEebI/s9s4Dnb92PUnyuG0KRFM20fFOqpSvxFp48UkyusZn9Xn//Rsof8woQ2CelcIOZPVaRXGMAzDMI2GrC3yuIqAUzgjyOTTwjAMwzBMLbhbnsiKfNdKnu21zQYrLQzDMAzTREqT+pF7FdQbkPmMp+pssO0hhmEYhmE2KmxpYRiGYRimLWClhWEYhmGYtoCVFoZhGIZh2gJWWpiGIl7bvx4HnKkzY/j4B6a1oZd54RhpyqvoGab9Sam03IPrly/AhQsfwE11hWGYFsc57E+E0AGk9HZWI17yzZrZiN+cqwJPygzD1IFUSsu969dgjY4dYtoEeskeThQVTshmNgMD6pA3Fej18HTwmdsvSLnpnoOh6KC3VRh6pzN3/4lfkhXfbxoOQGcr9EdHOYvCph8rSmYEQq1K7HpQLyuvvI8bmnnCNGNSXWm5ex2urf0YOjrohGeGYdqG3X32i6rU2Sj2oX1rnnOGfOcRpcV3mKE6UNM9LHAdGVSnPFdU5jYj9DbxSNmMA78/RJ/yTAGV8GE6K4kVl/WgitJyD65fRzHT8ST8tbqSHbVnSwJBm6uFcFDX8W9Ti/dqta5pWa2WxPcsE3ioE7mriHbsbHF9mcFaAUV10Q/ivFB1nHgUTKEcWHHaPiCmxcZJ3yvg7Xr2rs5SpUtkS9vqN7wVEUAdGd9TiA/du3JKHsT3kvMeTnEQZfUTa4M4h2KK073NdFsJrcy5B4z6ttdc2WHKohz9P+hzlRgnTroib3RNjw31eZTnRvuRuTK11jGclG/J+yXjULDrOc4XHeBIByb2G3HrUy9KqQ+Mj8TWqFdWYk6tuQ7zpdrcLLdpLbLv6ymH2199ctDbp1PcKxQPSbMVLOO4fZSC069TUFFpEdtC2EC/ePZRdaUGliZg6NwAlOl0TFzBjZ88BTBZlsfCW8ewmxotBs+JpxHvjMIWuqeKu3DCc1Ko6AjqPCIrXvbKWj9osHbCAZiGVVUGHawV0O6j6jodnY64qybnPKZec7UpVg84xPt8HbOE6Y+K9hJx1crUFiokLLCeh+M8TsGoEhw26dMl7LSpv7jQwO4/PgjTentjEmC0L98x7xuZ4klSZu3TkddK4hB5KDinOWvssZkGLdDjo/t96bYLY0XdTynQuELZcdinFM9j/5+HARVXyDXr9FuEZBGdgGuMy4Fz8vRmCxLq6g2pOp6UWcmJfO6wHBvi87fGYVzIQ8pnI043VnhkKpX3WF9AUas6hkl22PJN3y8ub0oZSCcwq+sLdPIx9TsjbrnB5/qQLOocgVgWifkuacWTMsvI260CTIjTkf2UcNIfRYka3VNd1wilAGVe3F+xD+C82WkqENSvrDg6OHWSNh6SKK9ON6DgwGW8dzRnq3kqK/hlP19eK186f6l87Uv5pzz1+Wo5+0HP+tRIdUqkc/opds74My+ek0L1Caju6aGJk1WdtDWBE1hbl5wnsKaOL5FtYZ7EqU8idU/nTN4/+V1JmlNK/d/1py3ievpCoi3Viaf2yaqbD1m3VI/+dgi1G34ix07eE5X1GKWQ9x6NwNtf0o+XRH+OylldxvjHglvPKi+JOnPiqf6t72/fW94jm3xLWwcBmYoky5duDMvvBcZ/FC9t/mL89Z0d332848ZpE03i+4F4Ppklv+vEFX3LuJ/ug07duHkMj3WbtPGC5fD0fXlPN4/UpinScQhYWuS20A+PdMOzP1WXasXa48bVdqF2Q/HgUwX1m6KrAL344+yNkvxbm8OdtJPxWp0+OESrE7HdE7JINBDL38GH8mMYHoKBivFy4KTd8fqcZTFauzyHq5NBGNrTkhsP646oL7VSWp1ZFKZy/2q4fohVn3LsRaErLKWdmG7S3N8K0Aq+dktQ9YPu1BaZK4tcVkogbF+vDThbacov6MwczEfWG6ffDxfAkYjZcbeUKVhWgoBMRQpPoYzyWXgqjuE1KC3hj4TswLJY/lfrLANNroxDpzjccMoql7ZaurJI1ssilFS7heKFGYMjpjWpawTmTKsH9hmy0LhbvB0FMctF6Xa8fgTvJC12lWRA2njBcuj5NWGlHYTpN8w8klVsrsrcksSrtMinhR6BJ1/Yoa40F7mPpwMJlJwoAZAciDXcc53Qk4+eePLsBSZw9s1pIOZDCbK01C1dTPlG/u9uNqgPkRKR2LbwkrFNNdi28rRaKdD73kSFSZmzw1uAzefsiD6wrhMO9NA2R2DbwNp/134SOdCyqBpqAvIhJ78G43PENZW5CuWQk2RWVD9Tim1c18lts4bIwNQYvjF9i2I7xHVOlrJITvZxOZLyrd4ySyoPNL7sdGmLx0ZvnS1Ar+7/Xn+bdPHC5VAKZ4PwKi1ffUvPN38Fn12gd7PIsCieeVbXPmjQ21rUZNa/ZO5bZtj3Cg0o30Ck0IZ77PHABTk4cjqdCsWw+wD0GvuWq4m95rSk76T1TbdJgnwDIevLWH05qzGX5Iq/Ml7LF60MyQ/KtwpfJwaVv4joe7ioSa4oldOnmqB0XxWWozyo1WdVMF6oR7eEgl6hHHryzIXhC2eF2ZFE/6uXDMyG9j+h+YgUk5ACbvjWWSG7RSErSR8UGY7uVhEiYqVkTC3o/VbQyvHCsjfngiclXqVlxwv7YN8+O/SKR54fgSfp7wZZYLTAm55MdtRUqFVKZCbrGoAhmkzdpwI2AHrVDGewg8hLGdCm6gVPh86DNl27eVHpRNQ73fCkWzzHjrg+5MRnON6qJ2eOnXNGyJV5VDGymLDTEHb4XS9oHJHiQpYXS3FZmYc5FLzuFkB+3O0OhUonImhaD22jNBtVDo9MlX1rDAYyje0+GBByzNz2SkdtMjAvNJGT4hI7mmv6XiLFvPoTd+7CQZNXZnXsGcKR5RnDVcGyKCvoYqlSnv3xtOxNlFcZD7IueNJS8emhZuOrhLXTE3Irx/OOBxI0seZXhHEyh6HGfigaNMaTDB5tvHi6GRp6HbgynlwJrszARHCPXAmCoLLmEzxFOCXMmOFVdyXkgD0GE1E+6YmACVikdCLqn658NBdTnozbkqw5E0uhVcDmYW3F6TPYj8T2RtV3sqx53t0iiR9v9K80o/3wt8xPw/drBfTkZ8kTn/KgxxyK5Ox9tQMGXsM+eeYAnNJpkGW5ew5llvpbgBOE54nJ4km5XTJ2OOeCrm5gf5mkCQxlqrFlQP2C+lZ1354kfW/Q/fzWizWU0eJaZhkYy6T6W/f0JO7MK2oBYM9LCszrjLomx4gts6j+csusrhE4IuS9z2JYhBlxjSyHyfotvkVPLJmLk7TxkN1HPdvNKPfFU1COH049Kaek5qeHtNew8izWHtLSqzj2hJZ/S49pCsIDWXkp45CQnsaRd/KC8mRXIfiUgvZid0IrPdVQiaj8dkh4bVt4ymyV1/2c2kA/GYBBtFfIYz9w3cqnbCvs1OremjTpGvESafuw72n2mc389JA7lirWh34CQYVQ34rvabapi9GeVe7XdDxPNkjiPEefOXUix0/c10S80P0C1+02Mfq+K4vctN2nLET/jq+JcRbdQ+YxWcZKZBlvhD3mKCT7VpZ7JvuMDKqf5ZKBql6s72R/WiUpwxRRnuzPfOOOgl0/dv2JcjhtSgTT9lGxjqrUb0TaeDGJ8nrmVRkne9372EL/YULthVihyPcY8JsaGYZhmHaHrC3y+IvGvkum3Wmp7SGGYRiG2disQfFKcqtLPnWXfXtts8FKC8MwDMM0kdKkfuReBd45SE17bg8xDMMwDLPJAPj/Q6Rj1Qawm+8AAAAASUVORK5CYII=)"
      ],
      "metadata": {
        "id": "5O5MrP9dkEAJ"
      }
    },
    {
      "cell_type": "markdown",
      "source": [
        "#### 5.2.4 Polynomial Linear Regression model\n",
        "\n",
        "Perform modelling on Polynomial Linear Regression model with evaluation metrics set"
      ],
      "metadata": {
        "id": "em7BJpdKLoIg"
      }
    },
    {
      "cell_type": "code",
      "source": [
        "# Polynomial Linear Regression model\n",
        "formula <- as.formula(\"Target ~ poly(encoded_SeatType, degree = 2) + poly(encoded_TypeOfTraveller, degree = 2) + poly(CabinStaffService, degree = 2) + poly(GroundService, degree = 2)\")\n",
        "set.seed(456)\n",
        "\n",
        "# fit the data in polynomial regression model for training\n",
        "poly_model <- train(formula, data = training_set, method = \"lm\", metric = \"MAE\", maximize = FALSE, trControl = mControl)\n",
        "eval_results <- evaluate_model(poly_model, \"Polynomial Linear Regression\", testing_set, test_label)\n",
        "print(eval_results)"
      ],
      "metadata": {
        "id": "8l7KRzip_-qc"
      },
      "execution_count": null,
      "outputs": []
    },
    {
      "cell_type": "markdown",
      "source": [
        "![image.png](data:image/png;base64,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)"
      ],
      "metadata": {
        "id": "yOd4n42Fk2OT"
      }
    },
    {
      "cell_type": "markdown",
      "source": [
        "#### 5.2.5 XGBoost Regressor model\n",
        "\n",
        "Perform modelling on XGBoost Regressor model with evaluation metrics set"
      ],
      "metadata": {
        "id": "mAHJRhylLp4H"
      }
    },
    {
      "cell_type": "code",
      "source": [
        "# XGBoost Regressor model\n",
        "\n",
        "# Define XGBoost model specification\n",
        "xgb_spec <- boost_tree(\n",
        "  trees = 100,\n",
        "  tree_depth = 6,\n",
        "  min_n = 1,\n",
        "  loss_reduction = 0,\n",
        "  sample_size = 1,\n",
        "  mtry = 1,\n",
        "  learn_rate = 0.3\n",
        ") %>%\n",
        "  set_engine(\"xgboost\") %>%\n",
        "  set_mode(\"regression\")\n",
        "\n",
        "# setup the workflow for xgboost\n",
        "xgb_workflow <- workflow() %>%\n",
        "  add_model(xgb_spec) %>%\n",
        "  add_formula(Target ~ .)\n",
        "\n",
        "# Create cross-validation with 10 folds\n",
        "set.seed(456)\n",
        "cv_folds <- vfold_cv(testing_set, v = 10)\n",
        "\n",
        "# Fit the model\n",
        "xgb_resamples <- fit_resamples(\n",
        "  xgb_workflow,\n",
        "  resamples = cv_folds,\n",
        "  metrics = metric_set(rmse, mae, rsq, mape),\n",
        "  control = control_resamples(save_pred = TRUE)\n",
        ")\n",
        "\n",
        "# Collect metrics from cross-validation\n",
        "eval_results <- collect_metrics(xgb_resamples)\n",
        "eval_results <- eval_results %>%\n",
        "  mutate(Model = \"XGBoost Regressor\")\n",
        "print(eval_results)"
      ],
      "metadata": {
        "id": "Rhc49DFCAAhi"
      },
      "execution_count": null,
      "outputs": []
    },
    {
      "cell_type": "markdown",
      "source": [
        "![image.png](data:image/png;base64,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)\n"
      ],
      "metadata": {
        "id": "CavUd-19L-VC"
      }
    },
    {
      "cell_type": "markdown",
      "source": [
        "#### 5.2.6 Conclusion on Regression\n",
        "\n",
        "Overview from the regression models built:\n",
        "\n",
        "*   RMSE of all models above are evenly identical which concludes that the model's prediction average deviate from the actual values are the similar.\n",
        "\n",
        "*   MAE of the models are also similar which shows the models prediction error are nearly the same.\n",
        "\n",
        "*   R-square value is very low which indicates that the model is not capturing the variability in the data.\n",
        "\n",
        "*   MAPE is too high which shows that the model prediction is not very accurate.\n",
        "\n",
        "Thus, Polynomial Linear Regression model performs the best out of all the model. But overall models performance are not great and have low accuracy even though cross validation is applied."
      ],
      "metadata": {
        "id": "gdXo1cHmLiyz"
      }
    },
    {
      "cell_type": "markdown",
      "metadata": {
        "id": "wGaOmGW3iLLs"
      },
      "source": [
        "## **6. Conclusion & Discussion**\n",
        "\n",
        "---\n",
        "* Submission will be an R Markdown published at RPubs\n",
        "* prepare the presentation (video recording, maximum 12 minutes)\n",
        "* Implications & Conclusions.\n",
        "* due on **8-June**"
      ]
    },
    {
      "cell_type": "markdown",
      "metadata": {
        "id": "roBO7GUIG0kr"
      },
      "source": [
        "## **Reference**\n",
        "----\n",
        "found any websites, guidances that can contribute to this project.\n",
        "\n",
        "1. https://guides.library.upenn.edu/penntdm/r\n",
        "2. https://medium.com/@tech-gumptions/natural-language-processing-nlp-pipeline-e766d832a1e5\n",
        "3. https://towardsdatascience.com/word-embedding-techniques-word2vec-and-tf-idf-explained-c5d02e34d08\n",
        "4.\n"
      ]
    }
  ],
  "metadata": {
    "colab": {
      "provenance": []
    },
    "kernelspec": {
      "display_name": "R",
      "name": "ir"
    },
    "language_info": {
      "name": "R"
    }
  },
  "nbformat": 4,
  "nbformat_minor": 0
}